{
 "cells": [
  {
   "cell_type": "code",
   "execution_count": 49,
   "metadata": {},
   "outputs": [],
   "source": [
    "from pymongo import MongoClient\n",
    "client = MongoClient()\n",
    "nvd_database = client['vulnerability']['nvd']\n",
    "nvd_results = nvd_database.find({}, {\n",
    "    'cve.CVE_data_meta.ID': 1,\n",
    "    'configurations': 1,\n",
    "    '_id': 0,\n",
    "})"
   ]
  },
  {
   "cell_type": "code",
   "execution_count": 50,
   "metadata": {},
   "outputs": [],
   "source": [
    "from collections import defaultdict\n",
    "d = defaultdict(\n",
    "    lambda: defaultdict(\n",
    "        lambda: defaultdict(\n",
    "            lambda: defaultdict(set))))"
   ]
  },
  {
   "cell_type": "code",
   "execution_count": 51,
   "metadata": {},
   "outputs": [],
   "source": [
    "from collections import defaultdict\n",
    "from itertools import chain\n",
    "\n",
    "def yield_cpe_pack(results):\n",
    "    for r in results:\n",
    "        cve_id = r['cve']['CVE_data_meta']['ID']\n",
    "        for node in r['configurations']['nodes']:\n",
    "            for cpe_match in extract_cpe_matches(node):\n",
    "                yield cve_id, cpe_match\n",
    "                \n",
    "def extract_cpe_matches(node):\n",
    "    if 'cpe_match' in node:\n",
    "        return node['cpe_match']\n",
    "    if 'children' in node:\n",
    "        return chain(*[extract_cpe_matches(_) for _ in node['children']])\n",
    "    return []"
   ]
  },
  {
   "cell_type": "code",
   "execution_count": 52,
   "metadata": {},
   "outputs": [],
   "source": [
    "def get_product_version_pack(cpe_match, product_version):\n",
    "    a_excluding = None\n",
    "    a_including = None\n",
    "    b_including = None\n",
    "    b_excluding = None\n",
    "    if product_version:\n",
    "        a_including = product_version\n",
    "        b_including = product_version\n",
    "    if 'versionStartExcluding' in cpe_match:\n",
    "        a_excluding = cpe_match['versionStartExcluding']\n",
    "    if 'versionStartIncluding' in cpe_match:\n",
    "        a_including = cpe_match['versionStartIncluding'] \n",
    "    if 'versionEndIncluding' in cpe_match:\n",
    "        b_including = cpe_match['versionEndIncluding']\n",
    "    if 'versionEndExcluding' in cpe_match:\n",
    "        b_excluding = cpe_match['versionEndExcluding']\n",
    "    return a_excluding, a_including, b_including, b_excluding"
   ]
  },
  {
   "cell_type": "code",
   "execution_count": 53,
   "metadata": {},
   "outputs": [],
   "source": [
    "for cve_id, cpe_match in yield_cpe_pack(nvd_results):\n",
    "    cpe_pack = cpe_match['cpe23Uri'].split(':')[2:6]\n",
    "    component_type = cpe_pack[0]\n",
    "    vendor_name = cpe_pack[1]\n",
    "    product_name = cpe_pack[2]\n",
    "    product_version = cpe_pack[3]\n",
    "    product_version_pack = get_product_version_pack(\n",
    "        cpe_match, product_version)\n",
    "    d[component_type][vendor_name][product_name][\n",
    "        product_version_pack].add(cve_id)"
   ]
  },
  {
   "cell_type": "code",
   "execution_count": 54,
   "metadata": {},
   "outputs": [],
   "source": [
    "def get_dictionary(d):\n",
    "    for k, v in d.items():\n",
    "        if isinstance(v, dict):\n",
    "            d[k] = get_dictionary(v)\n",
    "    return dict(d)\n",
    "\n",
    "d = get_dictionary(d)"
   ]
  },
  {
   "cell_type": "code",
   "execution_count": 55,
   "metadata": {},
   "outputs": [
    {
     "data": {
      "text/plain": [
       "dict_keys(['o', 'a', 'h'])"
      ]
     },
     "execution_count": 55,
     "metadata": {},
     "output_type": "execute_result"
    }
   ],
   "source": [
    "d.keys()"
   ]
  },
  {
   "cell_type": "code",
   "execution_count": 56,
   "metadata": {},
   "outputs": [
    {
     "data": {
      "text/plain": [
       "['nec', 'lucent', 'ibm']"
      ]
     },
     "execution_count": 56,
     "metadata": {},
     "output_type": "execute_result"
    }
   ],
   "source": [
    "list(d['h'].keys())[:3]"
   ]
  },
  {
   "cell_type": "code",
   "execution_count": 57,
   "metadata": {},
   "outputs": [
    {
     "data": {
      "text/plain": [
       "dict_keys(['sel-2241', 'sel-3505', 'sel-3530', 'sel-3530-4', 'sel-3620', 'sel-3622'])"
      ]
     },
     "execution_count": 57,
     "metadata": {},
     "output_type": "execute_result"
    }
   ],
   "source": [
    "d['h']['selinc'].keys()"
   ]
  },
  {
   "cell_type": "code",
   "execution_count": 58,
   "metadata": {},
   "outputs": [
    {
     "data": {
      "text/plain": [
       "{(None, '-', '-', None): {'CVE-2017-7928'}}"
      ]
     },
     "execution_count": 58,
     "metadata": {},
     "output_type": "execute_result"
    }
   ],
   "source": [
    "d['h']['selinc']['sel-3620']"
   ]
  },
  {
   "cell_type": "code",
   "execution_count": 65,
   "metadata": {},
   "outputs": [
    {
     "data": {
      "text/plain": [
       "{(None, 'r202', 'r202', None): {'CVE-2017-7928'},\n",
       " (None, 'r203', 'r203', None): {'CVE-2017-7928'},\n",
       " (None, 'r203-v', 'r203-v', None): {'CVE-2017-7928'},\n",
       " (None, 'r203-v1', 'r203-v1', None): {'CVE-2017-7928'},\n",
       " (None, 'r204', 'r204', None): {'CVE-2017-7928'},\n",
       " (None, 'r204-v1', 'r204-v1', None): {'CVE-2017-7928'}}"
      ]
     },
     "execution_count": 65,
     "metadata": {},
     "output_type": "execute_result"
    }
   ],
   "source": [
    "d['o']['selinc']['sel-3620_firmware']"
   ]
  },
  {
   "cell_type": "code",
   "execution_count": 59,
   "metadata": {},
   "outputs": [],
   "source": [
    "selected_nvd_results = nvd_database.find({'cve.CVE_data_meta.ID': 'CVE-2017-7928'}, {\n",
    "    'cve.CVE_data_meta.ID': 1,\n",
    "    'configurations': 1,\n",
    "    '_id': 0,\n",
    "})\n",
    "selected_cpe_packs = list(yield_cpe_pack(selected_nvd_results))"
   ]
  },
  {
   "cell_type": "code",
   "execution_count": 60,
   "metadata": {},
   "outputs": [],
   "source": [
    "for cve_id, cpe_match in selected_cpe_packs:\n",
    "    cpe_pack = cpe_match['cpe23Uri'].split(':')[2:6]\n",
    "    component_type = cpe_pack[0]\n",
    "    vendor_name = cpe_pack[1]\n",
    "    product_name = cpe_pack[2]\n",
    "    product_version = cpe_pack[3]\n",
    "    if component_type == 'h':\n",
    "        break"
   ]
  },
  {
   "cell_type": "code",
   "execution_count": 61,
   "metadata": {},
   "outputs": [
    {
     "data": {
      "text/plain": [
       "{'cpe23Uri': 'cpe:2.3:h:selinc:sel-3620:-:*:*:*:*:*:*:*', 'vulnerable': False}"
      ]
     },
     "execution_count": 61,
     "metadata": {},
     "output_type": "execute_result"
    }
   ],
   "source": [
    "cpe_match"
   ]
  },
  {
   "cell_type": "code",
   "execution_count": 62,
   "metadata": {},
   "outputs": [
    {
     "data": {
      "text/plain": [
       "'-'"
      ]
     },
     "execution_count": 62,
     "metadata": {},
     "output_type": "execute_result"
    }
   ],
   "source": [
    "product_version"
   ]
  }
 ],
 "metadata": {
  "kernelspec": {
   "display_name": "Python 3",
   "language": "python",
   "name": "python3"
  },
  "language_info": {
   "codemirror_mode": {
    "name": "ipython",
    "version": 3
   },
   "file_extension": ".py",
   "mimetype": "text/x-python",
   "name": "python",
   "nbconvert_exporter": "python",
   "pygments_lexer": "ipython3",
   "version": "3.6.5"
  }
 },
 "nbformat": 4,
 "nbformat_minor": 2
}
