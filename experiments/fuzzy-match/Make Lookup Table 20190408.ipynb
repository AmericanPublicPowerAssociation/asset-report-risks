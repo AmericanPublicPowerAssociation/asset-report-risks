{
 "cells": [
  {
   "cell_type": "code",
   "execution_count": 3,
   "metadata": {},
   "outputs": [],
   "source": [
    "from pymongo import MongoClient"
   ]
  },
  {
   "cell_type": "code",
   "execution_count": 4,
   "metadata": {},
   "outputs": [],
   "source": [
    "client = MongoClient()"
   ]
  },
  {
   "cell_type": "code",
   "execution_count": 5,
   "metadata": {},
   "outputs": [],
   "source": [
    "nvd_database = client['vulnerability']['nvd']"
   ]
  },
  {
   "cell_type": "code",
   "execution_count": 6,
   "metadata": {},
   "outputs": [
    {
     "data": {
      "text/plain": [
       "dict_keys(['_id', 'cve', 'configurations', 'impact', 'publishedDate', 'lastModifiedDate'])"
      ]
     },
     "execution_count": 6,
     "metadata": {},
     "output_type": "execute_result"
    }
   ],
   "source": [
    "nvd_database.find_one({}).keys()"
   ]
  },
  {
   "cell_type": "code",
   "execution_count": 7,
   "metadata": {},
   "outputs": [],
   "source": [
    "from collections import defaultdict\n",
    "d = defaultdict(\n",
    "        lambda: defaultdict(\n",
    "            lambda: defaultdict(\n",
    "                lambda: defaultdict(set))))"
   ]
  },
  {
   "cell_type": "code",
   "execution_count": 70,
   "metadata": {},
   "outputs": [
    {
     "name": "stdout",
     "output_type": "stream",
     "text": [
      "vulnerable\n",
      "cpe23Uri\n",
      "versionEndIncluding\n",
      "versionStartIncluding\n",
      "versionEndExcluding\n",
      "versionStartExcluding\n"
     ]
    }
   ],
   "source": [
    "from itertools import chain\n",
    "from pprint import pprint\n",
    "\n",
    "results = nvd_database.find({}, {\n",
    "    'cve.CVE_data_meta.ID': 1,\n",
    "    'configurations': 1,\n",
    "    '_id': 0,\n",
    "})\n",
    "\n",
    "def extract_cpe_matches(node):\n",
    "    if 'cpe_match' in node:\n",
    "        return node['cpe_match']\n",
    "    if 'children' in node:\n",
    "        return chain(*[extract_cpe_matches(child) for child in node['children']])\n",
    "    # pprint(node)\n",
    "    return []\n",
    "\n",
    "def yield_cpe_match(results):\n",
    "    for r in results:\n",
    "        cve_id = r['cve']['CVE_data_meta']['ID']\n",
    "        for node in r['configurations']['nodes']:\n",
    "            for cpe_match in extract_cpe_matches(node):\n",
    "                yield cpe_match\n",
    "\n",
    "keys = set()\n",
    "for cpe_match in yield_cpe_match(results):\n",
    "    for key in cpe_match.keys():\n",
    "        if key not in keys:\n",
    "            print(key)\n",
    "            keys.add(key)\n",
    "    '''\n",
    "    component_type = \n",
    "    vendor_name = \n",
    "    product_name =\n",
    "    product_version_tuple =\n",
    "    d[component_type][vendor_name][product_name][product_version_tuple].append(cve.update(ids))\n",
    "    '''"
   ]
  },
  {
   "cell_type": "code",
   "execution_count": null,
   "metadata": {},
   "outputs": [],
   "source": []
  },
  {
   "cell_type": "code",
   "execution_count": 71,
   "metadata": {},
   "outputs": [
    {
     "data": {
      "text/plain": [
       "'cpe:2.3:a:webmproject:libwebm:*:*:*:*:*:*:*:*'"
      ]
     },
     "execution_count": 71,
     "metadata": {},
     "output_type": "execute_result"
    }
   ],
   "source": [
    "cpe_uri = cpe_match['cpe23Uri']\n",
    "cpe_uri"
   ]
  },
  {
   "cell_type": "code",
   "execution_count": 72,
   "metadata": {},
   "outputs": [],
   "source": [
    "component_type, vendor_name, product_name, product_version = cpe_uri.split(':')[2:6]"
   ]
  },
  {
   "cell_type": "code",
   "execution_count": 73,
   "metadata": {},
   "outputs": [
    {
     "data": {
      "text/plain": [
       "'a'"
      ]
     },
     "execution_count": 73,
     "metadata": {},
     "output_type": "execute_result"
    }
   ],
   "source": [
    "component_type"
   ]
  },
  {
   "cell_type": "code",
   "execution_count": 74,
   "metadata": {},
   "outputs": [
    {
     "data": {
      "text/plain": [
       "'webmproject'"
      ]
     },
     "execution_count": 74,
     "metadata": {},
     "output_type": "execute_result"
    }
   ],
   "source": [
    "vendor_name"
   ]
  },
  {
   "cell_type": "code",
   "execution_count": 75,
   "metadata": {},
   "outputs": [
    {
     "data": {
      "text/plain": [
       "'libwebm'"
      ]
     },
     "execution_count": 75,
     "metadata": {},
     "output_type": "execute_result"
    }
   ],
   "source": [
    "product_name"
   ]
  },
  {
   "cell_type": "code",
   "execution_count": 76,
   "metadata": {},
   "outputs": [
    {
     "data": {
      "text/plain": [
       "'*'"
      ]
     },
     "execution_count": 76,
     "metadata": {},
     "output_type": "execute_result"
    }
   ],
   "source": [
    "product_version"
   ]
  },
  {
   "cell_type": "code",
   "execution_count": 77,
   "metadata": {},
   "outputs": [],
   "source": [
    "d = defaultdict(\n",
    "    lambda: defaultdict(\n",
    "        lambda: defaultdict(\n",
    "            lambda: defaultdict(set))))\n"
   ]
  },
  {
   "cell_type": "code",
   "execution_count": 78,
   "metadata": {},
   "outputs": [],
   "source": [
    "d['a']['b']['c']['d'].add(1)"
   ]
  },
  {
   "cell_type": "code",
   "execution_count": 79,
   "metadata": {},
   "outputs": [],
   "source": [
    "d['o']['b']['c']['d'].add(1)"
   ]
  },
  {
   "cell_type": "code",
   "execution_count": 80,
   "metadata": {},
   "outputs": [
    {
     "data": {
      "text/plain": [
       "dict_keys(['a', 'o'])"
      ]
     },
     "execution_count": 80,
     "metadata": {},
     "output_type": "execute_result"
    }
   ],
   "source": [
    "d.keys()"
   ]
  },
  {
   "cell_type": "code",
   "execution_count": 81,
   "metadata": {},
   "outputs": [],
   "source": [
    "from collections import defaultdict\n",
    "from itertools import chain\n",
    "\n",
    "def extract_cpe_matches(node):\n",
    "    if 'cpe_match' in node:\n",
    "        return node['cpe_match']\n",
    "    if 'children' in node:\n",
    "        return chain(*[extract_cpe_matches(child) for child in node['children']])\n",
    "    return []\n",
    "\n",
    "def yield_cpe_pack(results):\n",
    "    for r in results:\n",
    "        cve_id = r['cve']['CVE_data_meta']['ID']\n",
    "        for node in r['configurations']['nodes']:\n",
    "            for cpe_match in extract_cpe_matches(node):\n",
    "                yield cve_id, cpe_match"
   ]
  },
  {
   "cell_type": "code",
   "execution_count": 82,
   "metadata": {},
   "outputs": [],
   "source": [
    "results = nvd_database.find({}, {\n",
    "    'cve.CVE_data_meta.ID': 1,\n",
    "    'configurations': 1,\n",
    "    '_id': 0,\n",
    "})\n",
    "component_types = set()\n",
    "\n",
    "d = defaultdict(\n",
    "    lambda: defaultdict(\n",
    "        lambda: defaultdict(\n",
    "            lambda: defaultdict(set))))\n",
    "\n",
    "for cve_id, cpe_match in yield_cpe_pack(results):\n",
    "    component_type, vendor_name, product_name, product_version = cpe_match['cpe23Uri'].split(':')[2:6]\n",
    "    if product_version:\n",
    "        version_a_including = product_version\n",
    "        version_b_including = product_version\n",
    "    version_a_excluding = cpe_match['versionStartExcluding'] if 'versionStartExcluding' in cpe_match else None\n",
    "    version_a_including = cpe_match['versionStartIncluding'] if 'versionStartIncluding' in cpe_match else None\n",
    "    version_b_including = cpe_match['versionEndIncluding'] if 'versionEndIncluding' in cpe_match else None\n",
    "    version_b_excluding = cpe_match['versionEndExcluding'] if 'versionEndExcluding' in cpe_match else None\n",
    "    product_version_pack = (\n",
    "        version_a_excluding,\n",
    "        version_a_including,\n",
    "        version_b_including,\n",
    "        version_b_excluding)\n",
    "    component_types.add(component_type)\n",
    "    d[component_type][vendor_name][product_name][product_version_pack].add(cve_id)"
   ]
  },
  {
   "cell_type": "code",
   "execution_count": 83,
   "metadata": {},
   "outputs": [
    {
     "data": {
      "text/plain": [
       "{'a', 'h', 'o'}"
      ]
     },
     "execution_count": 83,
     "metadata": {},
     "output_type": "execute_result"
    }
   ],
   "source": [
    "component_types"
   ]
  },
  {
   "cell_type": "code",
   "execution_count": 84,
   "metadata": {},
   "outputs": [
    {
     "data": {
      "text/plain": [
       "119564"
      ]
     },
     "execution_count": 84,
     "metadata": {},
     "output_type": "execute_result"
    }
   ],
   "source": [
    "nvd_database.count_documents({})"
   ]
  },
  {
   "cell_type": "code",
   "execution_count": 85,
   "metadata": {},
   "outputs": [],
   "source": [
    "results = nvd_database.find({}, {\n",
    "    'cve.CVE_data_meta.ID': 1,\n",
    "    'configurations': 1,\n",
    "    '_id': 0,\n",
    "})\n",
    "for i, r in enumerate(results):\n",
    "    if i == 3:\n",
    "        break"
   ]
  },
  {
   "cell_type": "code",
   "execution_count": 86,
   "metadata": {},
   "outputs": [
    {
     "data": {
      "text/plain": [
       "{'configurations': {'CVE_data_version': '4.0',\n",
       "  'nodes': [{'cpe_match': [{'cpe23Uri': 'cpe:2.3:a:hp:dtmail:*:*:*:*:*:*:*:*',\n",
       "      'vulnerable': True},\n",
       "     {'cpe23Uri': 'cpe:2.3:a:university_of_washington:pine:4.02:*:*:*:*:*:*:*',\n",
       "      'vulnerable': True}],\n",
       "    'operator': 'OR'},\n",
       "   {'cpe_match': [{'cpe23Uri': 'cpe:2.3:o:sco:unixware:7.0:*:*:*:*:*:*:*',\n",
       "      'vulnerable': True}],\n",
       "    'operator': 'OR'}]},\n",
       " 'cve': {'CVE_data_meta': {'ID': 'CVE-1999-0004'}}}"
      ]
     },
     "execution_count": 86,
     "metadata": {},
     "output_type": "execute_result"
    }
   ],
   "source": [
    "r"
   ]
  },
  {
   "cell_type": "code",
   "execution_count": 87,
   "metadata": {},
   "outputs": [
    {
     "data": {
      "text/plain": [
       "[('CVE-1999-0004',\n",
       "  {'cpe23Uri': 'cpe:2.3:a:hp:dtmail:*:*:*:*:*:*:*:*', 'vulnerable': True}),\n",
       " ('CVE-1999-0004',\n",
       "  {'cpe23Uri': 'cpe:2.3:a:university_of_washington:pine:4.02:*:*:*:*:*:*:*',\n",
       "   'vulnerable': True}),\n",
       " ('CVE-1999-0004',\n",
       "  {'cpe23Uri': 'cpe:2.3:o:sco:unixware:7.0:*:*:*:*:*:*:*',\n",
       "   'vulnerable': True})]"
      ]
     },
     "execution_count": 87,
     "metadata": {},
     "output_type": "execute_result"
    }
   ],
   "source": [
    "list(yield_cpe_pack([r]))"
   ]
  },
  {
   "cell_type": "code",
   "execution_count": 91,
   "metadata": {},
   "outputs": [
    {
     "name": "stdout",
     "output_type": "stream",
     "text": [
      "a\n",
      "a\n",
      "o\n"
     ]
    }
   ],
   "source": [
    "for cve_id, cpe_match in yield_cpe_pack([r]):\n",
    "    component_type, vendor_name, product_name, product_version = cpe_match['cpe23Uri'].split(':')[2:6]\n",
    "    print(component_type)"
   ]
  },
  {
   "cell_type": "code",
   "execution_count": 94,
   "metadata": {},
   "outputs": [
    {
     "data": {
      "text/plain": [
       "19248"
      ]
     },
     "execution_count": 94,
     "metadata": {},
     "output_type": "execute_result"
    }
   ],
   "source": [
    "len(d['a'])"
   ]
  },
  {
   "cell_type": "code",
   "execution_count": 95,
   "metadata": {},
   "outputs": [
    {
     "data": {
      "text/plain": [
       "918"
      ]
     },
     "execution_count": 95,
     "metadata": {},
     "output_type": "execute_result"
    }
   ],
   "source": [
    "len(d['h'])"
   ]
  },
  {
   "cell_type": "code",
   "execution_count": 96,
   "metadata": {},
   "outputs": [
    {
     "data": {
      "text/plain": [
       "788"
      ]
     },
     "execution_count": 96,
     "metadata": {},
     "output_type": "execute_result"
    }
   ],
   "source": [
    "len(d['o'])"
   ]
  },
  {
   "cell_type": "code",
   "execution_count": 99,
   "metadata": {},
   "outputs": [
    {
     "data": {
      "text/plain": [
       "True"
      ]
     },
     "execution_count": 99,
     "metadata": {},
     "output_type": "execute_result"
    }
   ],
   "source": [
    "'huawei' in sorted(d['h'].keys())"
   ]
  }
 ],
 "metadata": {
  "kernelspec": {
   "display_name": "Python 3",
   "language": "python",
   "name": "python3"
  },
  "language_info": {
   "codemirror_mode": {
    "name": "ipython",
    "version": 3
   },
   "file_extension": ".py",
   "mimetype": "text/x-python",
   "name": "python",
   "nbconvert_exporter": "python",
   "pygments_lexer": "ipython3",
   "version": "3.6.5"
  }
 },
 "nbformat": 4,
 "nbformat_minor": 2
}
