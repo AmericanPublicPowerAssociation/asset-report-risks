{
 "cells": [
  {
   "cell_type": "markdown",
   "metadata": {},
   "source": [
    "# Explore NVD"
   ]
  },
  {
   "cell_type": "code",
   "execution_count": 1,
   "metadata": {},
   "outputs": [],
   "source": [
    "import subprocess\n",
    "assert subprocess.call('pip install packaging'.split()) == 0"
   ]
  },
  {
   "cell_type": "code",
   "execution_count": 2,
   "metadata": {},
   "outputs": [],
   "source": [
    "from packaging.version import parse as parse_version"
   ]
  },
  {
   "cell_type": "code",
   "execution_count": 3,
   "metadata": {},
   "outputs": [],
   "source": [
    "version = parse_version('1.2.3')"
   ]
  },
  {
   "cell_type": "code",
   "execution_count": 4,
   "metadata": {},
   "outputs": [
    {
     "name": "stdout",
     "output_type": "stream",
     "text": [
      "base_version = 1.2.3\n",
      "dev = None\n",
      "epoch = 0\n",
      "is_devrelease = False\n",
      "is_postrelease = False\n",
      "is_prerelease = False\n",
      "local = None\n",
      "post = None\n",
      "pre = None\n",
      "public = 1.2.3\n",
      "release = (1, 2, 3)\n"
     ]
    }
   ],
   "source": [
    "for _ in dir(version):\n",
    "    if _.startswith('_'):\n",
    "        continue\n",
    "    print(f'{_} = {getattr(version, _)}')"
   ]
  },
  {
   "cell_type": "code",
   "execution_count": 6,
   "metadata": {},
   "outputs": [],
   "source": [
    "from invisibleroads_macros.disk import make_folder\n",
    "target_folder = make_folder('/tmp/nvd')"
   ]
  },
  {
   "cell_type": "markdown",
   "metadata": {},
   "source": [
    "## Load CVE-2002"
   ]
  },
  {
   "cell_type": "code",
   "execution_count": 7,
   "metadata": {},
   "outputs": [],
   "source": [
    "# Load meta\n",
    "url = 'https://nvd.nist.gov/feeds/json/cve/1.0/nvdcve-1.0-2002.meta'"
   ]
  },
  {
   "cell_type": "code",
   "execution_count": 8,
   "metadata": {},
   "outputs": [
    {
     "data": {
      "text/plain": [
       "'nvdcve-1.0-2002.meta'"
      ]
     },
     "execution_count": 8,
     "metadata": {},
     "output_type": "execute_result"
    }
   ],
   "source": [
    "from os.path import basename, join\n",
    "target_name = basename(url)\n",
    "target_name"
   ]
  },
  {
   "cell_type": "code",
   "execution_count": 9,
   "metadata": {},
   "outputs": [
    {
     "data": {
      "text/plain": [
       "('/tmp/nvd/nvdcve-1.0-2002.meta', <http.client.HTTPMessage at 0x7fc24c1a7080>)"
      ]
     },
     "execution_count": 9,
     "metadata": {},
     "output_type": "execute_result"
    }
   ],
   "source": [
    "from urllib.request import urlretrieve as download\n",
    "target_path = join(target_folder, target_name)\n",
    "download(url, filename=target_path)"
   ]
  },
  {
   "cell_type": "code",
   "execution_count": 10,
   "metadata": {},
   "outputs": [
    {
     "name": "stdout",
     "output_type": "stream",
     "text": [
      "lastModifiedDate:2019-03-26T04:24:29-04:00\n",
      "size:25958074\n",
      "zipSize:1672460\n",
      "gzSize:1672324\n",
      "sha256:B8C405B84604CCBC48E956E1E8B43C7E6C0B55B325F0BD908ED603B1969474BA\n"
     ]
    }
   ],
   "source": [
    "cat $target_path"
   ]
  },
  {
   "cell_type": "markdown",
   "metadata": {},
   "source": [
    "I think we can assume that if the content of the meta file has changed, then the content of the original file has changed as well."
   ]
  },
  {
   "cell_type": "code",
   "execution_count": 11,
   "metadata": {},
   "outputs": [],
   "source": [
    "# Load gz\n",
    "url = 'https://nvd.nist.gov/feeds/json/cve/1.0/nvdcve-1.0-2002.json.gz'"
   ]
  },
  {
   "cell_type": "code",
   "execution_count": 12,
   "metadata": {},
   "outputs": [
    {
     "data": {
      "text/plain": [
       "'nvdcve-1.0-2002.json.gz'"
      ]
     },
     "execution_count": 12,
     "metadata": {},
     "output_type": "execute_result"
    }
   ],
   "source": [
    "from os.path import basename, join\n",
    "target_name = basename(url)\n",
    "target_name"
   ]
  },
  {
   "cell_type": "code",
   "execution_count": 13,
   "metadata": {},
   "outputs": [
    {
     "data": {
      "text/plain": [
       "('/tmp/nvd/nvdcve-1.0-2002.json.gz',\n",
       " <http.client.HTTPMessage at 0x7fc24c1a79e8>)"
      ]
     },
     "execution_count": 13,
     "metadata": {},
     "output_type": "execute_result"
    }
   ],
   "source": [
    "from urllib.request import urlretrieve as download\n",
    "target_path = join(target_folder, target_name)\n",
    "download(url, filename=target_path)"
   ]
  },
  {
   "cell_type": "code",
   "execution_count": 14,
   "metadata": {},
   "outputs": [],
   "source": [
    "import gzip\n",
    "with gzip.open(target_path, 'rb') as f:\n",
    "    content = f.read()"
   ]
  },
  {
   "cell_type": "code",
   "execution_count": 15,
   "metadata": {},
   "outputs": [
    {
     "data": {
      "text/plain": [
       "25958074"
      ]
     },
     "execution_count": 15,
     "metadata": {},
     "output_type": "execute_result"
    }
   ],
   "source": [
    "len(content)"
   ]
  },
  {
   "cell_type": "code",
   "execution_count": 16,
   "metadata": {},
   "outputs": [
    {
     "data": {
      "text/plain": [
       "b'{\\r\\n  \"CVE_data_type\" : \"CVE\",\\r\\n  \"CVE_data_format\" : \"MITRE\",\\r\\n  \"CVE_data_version\" : \"4.0\",\\r\\n  \"CVE'"
      ]
     },
     "execution_count": 16,
     "metadata": {},
     "output_type": "execute_result"
    }
   ],
   "source": [
    "content[:100]"
   ]
  },
  {
   "cell_type": "code",
   "execution_count": 17,
   "metadata": {},
   "outputs": [],
   "source": [
    "import json\n",
    "d = json.load(gzip.open(target_path, 'rb'))"
   ]
  },
  {
   "cell_type": "code",
   "execution_count": 18,
   "metadata": {},
   "outputs": [
    {
     "data": {
      "text/plain": [
       "dict_keys(['CVE_data_type', 'CVE_data_format', 'CVE_data_version', 'CVE_data_numberOfCVEs', 'CVE_data_timestamp', 'CVE_Items'])"
      ]
     },
     "execution_count": 18,
     "metadata": {},
     "output_type": "execute_result"
    }
   ],
   "source": [
    "d.keys()"
   ]
  },
  {
   "cell_type": "code",
   "execution_count": 19,
   "metadata": {},
   "outputs": [
    {
     "data": {
      "text/plain": [
       "'CVE'"
      ]
     },
     "execution_count": 19,
     "metadata": {},
     "output_type": "execute_result"
    }
   ],
   "source": [
    "d['CVE_data_type']"
   ]
  },
  {
   "cell_type": "code",
   "execution_count": 20,
   "metadata": {},
   "outputs": [
    {
     "data": {
      "text/plain": [
       "'MITRE'"
      ]
     },
     "execution_count": 20,
     "metadata": {},
     "output_type": "execute_result"
    }
   ],
   "source": [
    "d['CVE_data_format']"
   ]
  },
  {
   "cell_type": "code",
   "execution_count": 21,
   "metadata": {},
   "outputs": [
    {
     "data": {
      "text/plain": [
       "'4.0'"
      ]
     },
     "execution_count": 21,
     "metadata": {},
     "output_type": "execute_result"
    }
   ],
   "source": [
    "d['CVE_data_version']"
   ]
  },
  {
   "cell_type": "code",
   "execution_count": 22,
   "metadata": {},
   "outputs": [
    {
     "data": {
      "text/plain": [
       "'6745'"
      ]
     },
     "execution_count": 22,
     "metadata": {},
     "output_type": "execute_result"
    }
   ],
   "source": [
    "d['CVE_data_numberOfCVEs']"
   ]
  },
  {
   "cell_type": "code",
   "execution_count": 23,
   "metadata": {},
   "outputs": [
    {
     "data": {
      "text/plain": [
       "'2019-03-26T08:21Z'"
      ]
     },
     "execution_count": 23,
     "metadata": {},
     "output_type": "execute_result"
    }
   ],
   "source": [
    "d['CVE_data_timestamp']"
   ]
  },
  {
   "cell_type": "code",
   "execution_count": 24,
   "metadata": {},
   "outputs": [
    {
     "data": {
      "text/plain": [
       "6745"
      ]
     },
     "execution_count": 24,
     "metadata": {},
     "output_type": "execute_result"
    }
   ],
   "source": [
    "len(d['CVE_Items'])"
   ]
  },
  {
   "cell_type": "code",
   "execution_count": 25,
   "metadata": {},
   "outputs": [],
   "source": [
    "x = d['CVE_Items'][0]"
   ]
  },
  {
   "cell_type": "code",
   "execution_count": 26,
   "metadata": {},
   "outputs": [
    {
     "data": {
      "text/plain": [
       "dict_keys(['cve', 'configurations', 'impact', 'publishedDate', 'lastModifiedDate'])"
      ]
     },
     "execution_count": 26,
     "metadata": {},
     "output_type": "execute_result"
    }
   ],
   "source": [
    "x.keys()"
   ]
  },
  {
   "cell_type": "code",
   "execution_count": 27,
   "metadata": {},
   "outputs": [
    {
     "data": {
      "text/plain": [
       "dict_keys(['data_type', 'data_format', 'data_version', 'CVE_data_meta', 'affects', 'problemtype', 'references', 'description'])"
      ]
     },
     "execution_count": 27,
     "metadata": {},
     "output_type": "execute_result"
    }
   ],
   "source": [
    "x['cve'].keys()"
   ]
  },
  {
   "cell_type": "code",
   "execution_count": 28,
   "metadata": {},
   "outputs": [
    {
     "data": {
      "text/plain": [
       "dict_keys(['CVE_data_version', 'nodes'])"
      ]
     },
     "execution_count": 28,
     "metadata": {},
     "output_type": "execute_result"
    }
   ],
   "source": [
    "x['configurations'].keys()"
   ]
  },
  {
   "cell_type": "code",
   "execution_count": 93,
   "metadata": {},
   "outputs": [
    {
     "data": {
      "text/plain": [
       "'4.0'"
      ]
     },
     "execution_count": 93,
     "metadata": {},
     "output_type": "execute_result"
    }
   ],
   "source": [
    "x['configurations']['CVE_data_version']"
   ]
  },
  {
   "cell_type": "code",
   "execution_count": 96,
   "metadata": {},
   "outputs": [
    {
     "data": {
      "text/plain": [
       "dict_keys(['operator', 'cpe_match'])"
      ]
     },
     "execution_count": 96,
     "metadata": {},
     "output_type": "execute_result"
    }
   ],
   "source": [
    "x['configurations']['nodes'][0].keys()"
   ]
  },
  {
   "cell_type": "code",
   "execution_count": 30,
   "metadata": {},
   "outputs": [
    {
     "data": {
      "text/plain": [
       "dict_keys(['baseMetricV2'])"
      ]
     },
     "execution_count": 30,
     "metadata": {},
     "output_type": "execute_result"
    }
   ],
   "source": [
    "x['impact'].keys()"
   ]
  },
  {
   "cell_type": "code",
   "execution_count": 31,
   "metadata": {},
   "outputs": [
    {
     "data": {
      "text/plain": [
       "dict_keys(['cvssV2', 'severity', 'exploitabilityScore', 'impactScore', 'obtainAllPrivilege', 'obtainUserPrivilege', 'obtainOtherPrivilege', 'userInteractionRequired'])"
      ]
     },
     "execution_count": 31,
     "metadata": {},
     "output_type": "execute_result"
    }
   ],
   "source": [
    "x['impact']['baseMetricV2'].keys()"
   ]
  },
  {
   "cell_type": "code",
   "execution_count": 32,
   "metadata": {},
   "outputs": [
    {
     "data": {
      "text/plain": [
       "{'cvssV2': {'accessComplexity': 'LOW',\n",
       "  'accessVector': 'NETWORK',\n",
       "  'authentication': 'NONE',\n",
       "  'availabilityImpact': 'PARTIAL',\n",
       "  'baseScore': 5.0,\n",
       "  'confidentialityImpact': 'NONE',\n",
       "  'integrityImpact': 'NONE',\n",
       "  'vectorString': 'AV:N/AC:L/Au:N/C:N/I:N/A:P',\n",
       "  'version': '2.0'},\n",
       " 'exploitabilityScore': 10.0,\n",
       " 'impactScore': 2.9,\n",
       " 'obtainAllPrivilege': False,\n",
       " 'obtainOtherPrivilege': False,\n",
       " 'obtainUserPrivilege': False,\n",
       " 'severity': 'MEDIUM',\n",
       " 'userInteractionRequired': False}"
      ]
     },
     "execution_count": 32,
     "metadata": {},
     "output_type": "execute_result"
    }
   ],
   "source": [
    "x['impact']['baseMetricV2']"
   ]
  },
  {
   "cell_type": "code",
   "execution_count": 33,
   "metadata": {},
   "outputs": [
    {
     "data": {
      "text/plain": [
       "{'accessComplexity': 'LOW',\n",
       " 'accessVector': 'NETWORK',\n",
       " 'authentication': 'NONE',\n",
       " 'availabilityImpact': 'PARTIAL',\n",
       " 'baseScore': 5.0,\n",
       " 'confidentialityImpact': 'NONE',\n",
       " 'integrityImpact': 'NONE',\n",
       " 'vectorString': 'AV:N/AC:L/Au:N/C:N/I:N/A:P',\n",
       " 'version': '2.0'}"
      ]
     },
     "execution_count": 33,
     "metadata": {},
     "output_type": "execute_result"
    }
   ],
   "source": [
    "x['impact']['baseMetricV2']['cvssV2']"
   ]
  },
  {
   "cell_type": "code",
   "execution_count": 34,
   "metadata": {},
   "outputs": [
    {
     "data": {
      "text/plain": [
       "5.0"
      ]
     },
     "execution_count": 34,
     "metadata": {},
     "output_type": "execute_result"
    }
   ],
   "source": [
    "x['impact']['baseMetricV2']['cvssV2']['baseScore']"
   ]
  },
  {
   "cell_type": "code",
   "execution_count": 35,
   "metadata": {},
   "outputs": [
    {
     "data": {
      "text/plain": [
       "'1999-12-30T05:00Z'"
      ]
     },
     "execution_count": 35,
     "metadata": {},
     "output_type": "execute_result"
    }
   ],
   "source": [
    "x['publishedDate']"
   ]
  },
  {
   "cell_type": "code",
   "execution_count": 36,
   "metadata": {},
   "outputs": [
    {
     "data": {
      "text/plain": [
       "'2010-12-16T05:00Z'"
      ]
     },
     "execution_count": 36,
     "metadata": {},
     "output_type": "execute_result"
    }
   ],
   "source": [
    "x['lastModifiedDate']"
   ]
  },
  {
   "cell_type": "code",
   "execution_count": 37,
   "metadata": {},
   "outputs": [
    {
     "data": {
      "text/plain": [
       "dict_keys(['data_type', 'data_format', 'data_version', 'CVE_data_meta', 'affects', 'problemtype', 'references', 'description'])"
      ]
     },
     "execution_count": 37,
     "metadata": {},
     "output_type": "execute_result"
    }
   ],
   "source": [
    "x['cve'].keys()"
   ]
  },
  {
   "cell_type": "code",
   "execution_count": 38,
   "metadata": {},
   "outputs": [
    {
     "data": {
      "text/plain": [
       "'CVE-1999-0001'"
      ]
     },
     "execution_count": 38,
     "metadata": {},
     "output_type": "execute_result"
    }
   ],
   "source": [
    "x['cve']['CVE_data_meta']['ID']"
   ]
  },
  {
   "cell_type": "markdown",
   "metadata": {},
   "source": [
    "## Load CVE-2019"
   ]
  },
  {
   "cell_type": "code",
   "execution_count": 39,
   "metadata": {},
   "outputs": [],
   "source": [
    "# Load meta\n",
    "url = 'https://nvd.nist.gov/feeds/json/cve/1.0/nvdcve-1.0-2019.meta'"
   ]
  },
  {
   "cell_type": "code",
   "execution_count": 40,
   "metadata": {},
   "outputs": [
    {
     "data": {
      "text/plain": [
       "'nvdcve-1.0-2019.meta'"
      ]
     },
     "execution_count": 40,
     "metadata": {},
     "output_type": "execute_result"
    }
   ],
   "source": [
    "from os.path import basename, join\n",
    "target_name = basename(url)\n",
    "target_name"
   ]
  },
  {
   "cell_type": "code",
   "execution_count": 41,
   "metadata": {},
   "outputs": [
    {
     "data": {
      "text/plain": [
       "('/tmp/nvd/nvdcve-1.0-2019.meta', <http.client.HTTPMessage at 0x7fc22e70eb38>)"
      ]
     },
     "execution_count": 41,
     "metadata": {},
     "output_type": "execute_result"
    }
   ],
   "source": [
    "from urllib.request import urlretrieve as download\n",
    "target_path = join(target_folder, target_name)\n",
    "download(url, filename=target_path)"
   ]
  },
  {
   "cell_type": "code",
   "execution_count": 42,
   "metadata": {},
   "outputs": [
    {
     "name": "stdout",
     "output_type": "stream",
     "text": [
      "lastModifiedDate:2019-03-31T03:01:59-04:00\n",
      "size:28742838\n",
      "zipSize:1157010\n",
      "gzSize:1156874\n",
      "sha256:891928234CB801AF648F83B803C1E2CECA2EC7EEFE23CDE465418F6B46E2B63B\n"
     ]
    }
   ],
   "source": [
    "cat $target_path"
   ]
  },
  {
   "cell_type": "code",
   "execution_count": 43,
   "metadata": {},
   "outputs": [],
   "source": [
    "# Load gz\n",
    "url = 'https://nvd.nist.gov/feeds/json/cve/1.0/nvdcve-1.0-2019.json.gz'"
   ]
  },
  {
   "cell_type": "code",
   "execution_count": 44,
   "metadata": {},
   "outputs": [
    {
     "data": {
      "text/plain": [
       "'nvdcve-1.0-2019.json.gz'"
      ]
     },
     "execution_count": 44,
     "metadata": {},
     "output_type": "execute_result"
    }
   ],
   "source": [
    "from os.path import basename, join\n",
    "target_name = basename(url)\n",
    "target_name"
   ]
  },
  {
   "cell_type": "code",
   "execution_count": 45,
   "metadata": {},
   "outputs": [
    {
     "data": {
      "text/plain": [
       "('/tmp/nvd/nvdcve-1.0-2019.json.gz',\n",
       " <http.client.HTTPMessage at 0x7fc22e7155c0>)"
      ]
     },
     "execution_count": 45,
     "metadata": {},
     "output_type": "execute_result"
    }
   ],
   "source": [
    "from urllib.request import urlretrieve as download\n",
    "target_path = join(target_folder, target_name)\n",
    "download(url, filename=target_path)"
   ]
  },
  {
   "cell_type": "code",
   "execution_count": 46,
   "metadata": {},
   "outputs": [],
   "source": [
    "import gzip\n",
    "with gzip.open(target_path, 'rb') as f:\n",
    "    content = f.read()"
   ]
  },
  {
   "cell_type": "code",
   "execution_count": 47,
   "metadata": {},
   "outputs": [
    {
     "data": {
      "text/plain": [
       "28742838"
      ]
     },
     "execution_count": 47,
     "metadata": {},
     "output_type": "execute_result"
    }
   ],
   "source": [
    "len(content)"
   ]
  },
  {
   "cell_type": "code",
   "execution_count": 48,
   "metadata": {},
   "outputs": [
    {
     "data": {
      "text/plain": [
       "b'{\\r\\n  \"CVE_data_type\" : \"CVE\",\\r\\n  \"CVE_data_format\" : \"MITRE\",\\r\\n  \"CVE_data_version\" : \"4.0\",\\r\\n  \"CVE'"
      ]
     },
     "execution_count": 48,
     "metadata": {},
     "output_type": "execute_result"
    }
   ],
   "source": [
    "content[:100]"
   ]
  },
  {
   "cell_type": "code",
   "execution_count": 49,
   "metadata": {},
   "outputs": [],
   "source": [
    "import json\n",
    "d = json.load(gzip.open(target_path, 'rb'))"
   ]
  },
  {
   "cell_type": "code",
   "execution_count": 50,
   "metadata": {},
   "outputs": [
    {
     "data": {
      "text/plain": [
       "dict_keys(['CVE_data_type', 'CVE_data_format', 'CVE_data_version', 'CVE_data_numberOfCVEs', 'CVE_data_timestamp', 'CVE_Items'])"
      ]
     },
     "execution_count": 50,
     "metadata": {},
     "output_type": "execute_result"
    }
   ],
   "source": [
    "d.keys()"
   ]
  },
  {
   "cell_type": "code",
   "execution_count": 51,
   "metadata": {},
   "outputs": [
    {
     "data": {
      "text/plain": [
       "'CVE'"
      ]
     },
     "execution_count": 51,
     "metadata": {},
     "output_type": "execute_result"
    }
   ],
   "source": [
    "d['CVE_data_type']"
   ]
  },
  {
   "cell_type": "code",
   "execution_count": 52,
   "metadata": {},
   "outputs": [
    {
     "data": {
      "text/plain": [
       "'MITRE'"
      ]
     },
     "execution_count": 52,
     "metadata": {},
     "output_type": "execute_result"
    }
   ],
   "source": [
    "d['CVE_data_format']"
   ]
  },
  {
   "cell_type": "code",
   "execution_count": 53,
   "metadata": {},
   "outputs": [
    {
     "data": {
      "text/plain": [
       "'4.0'"
      ]
     },
     "execution_count": 53,
     "metadata": {},
     "output_type": "execute_result"
    }
   ],
   "source": [
    "d['CVE_data_version']"
   ]
  },
  {
   "cell_type": "code",
   "execution_count": 54,
   "metadata": {},
   "outputs": [
    {
     "data": {
      "text/plain": [
       "'1826'"
      ]
     },
     "execution_count": 54,
     "metadata": {},
     "output_type": "execute_result"
    }
   ],
   "source": [
    "d['CVE_data_numberOfCVEs']"
   ]
  },
  {
   "cell_type": "code",
   "execution_count": 55,
   "metadata": {},
   "outputs": [
    {
     "data": {
      "text/plain": [
       "'2019-03-31T07:00Z'"
      ]
     },
     "execution_count": 55,
     "metadata": {},
     "output_type": "execute_result"
    }
   ],
   "source": [
    "d['CVE_data_timestamp']"
   ]
  },
  {
   "cell_type": "code",
   "execution_count": 56,
   "metadata": {},
   "outputs": [
    {
     "data": {
      "text/plain": [
       "1826"
      ]
     },
     "execution_count": 56,
     "metadata": {},
     "output_type": "execute_result"
    }
   ],
   "source": [
    "len(d['CVE_Items'])"
   ]
  },
  {
   "cell_type": "code",
   "execution_count": 57,
   "metadata": {},
   "outputs": [],
   "source": [
    "x = d['CVE_Items'][0]"
   ]
  },
  {
   "cell_type": "code",
   "execution_count": 58,
   "metadata": {},
   "outputs": [
    {
     "data": {
      "text/plain": [
       "dict_keys(['cve', 'configurations', 'impact', 'publishedDate', 'lastModifiedDate'])"
      ]
     },
     "execution_count": 58,
     "metadata": {},
     "output_type": "execute_result"
    }
   ],
   "source": [
    "x.keys()"
   ]
  },
  {
   "cell_type": "code",
   "execution_count": 59,
   "metadata": {},
   "outputs": [
    {
     "data": {
      "text/plain": [
       "dict_keys(['data_type', 'data_format', 'data_version', 'CVE_data_meta', 'affects', 'problemtype', 'references', 'description'])"
      ]
     },
     "execution_count": 59,
     "metadata": {},
     "output_type": "execute_result"
    }
   ],
   "source": [
    "x['cve'].keys()"
   ]
  },
  {
   "cell_type": "code",
   "execution_count": 60,
   "metadata": {},
   "outputs": [
    {
     "data": {
      "text/plain": [
       "{'CVE_data_version': '4.0',\n",
       " 'nodes': [{'cpe_match': [{'cpe23Uri': 'cpe:2.3:o:juniper:junos:16.1:*:*:*:*:*:*:*',\n",
       "     'vulnerable': True},\n",
       "    {'cpe23Uri': 'cpe:2.3:o:juniper:junos:16.1:r1:*:*:*:*:*:*',\n",
       "     'vulnerable': True},\n",
       "    {'cpe23Uri': 'cpe:2.3:o:juniper:junos:16.1:r2:*:*:*:*:*:*',\n",
       "     'vulnerable': True},\n",
       "    {'cpe23Uri': 'cpe:2.3:o:juniper:junos:16.1:r3:*:*:*:*:*:*',\n",
       "     'vulnerable': True},\n",
       "    {'cpe23Uri': 'cpe:2.3:o:juniper:junos:16.1:r3-s10:*:*:*:*:*:*',\n",
       "     'vulnerable': True},\n",
       "    {'cpe23Uri': 'cpe:2.3:o:juniper:junos:16.1:r4:*:*:*:*:*:*',\n",
       "     'vulnerable': True},\n",
       "    {'cpe23Uri': 'cpe:2.3:o:juniper:junos:16.1:r5:*:*:*:*:*:*',\n",
       "     'vulnerable': True},\n",
       "    {'cpe23Uri': 'cpe:2.3:o:juniper:junos:16.1:r6:*:*:*:*:*:*',\n",
       "     'vulnerable': True},\n",
       "    {'cpe23Uri': 'cpe:2.3:o:juniper:junos:16.1:r6-s6:*:*:*:*:*:*',\n",
       "     'vulnerable': True},\n",
       "    {'cpe23Uri': 'cpe:2.3:o:juniper:junos:16.1:r7:*:*:*:*:*:*',\n",
       "     'vulnerable': True}],\n",
       "   'operator': 'OR'},\n",
       "  {'cpe_match': [{'cpe23Uri': 'cpe:2.3:o:juniper:junos:16.2:*:*:*:*:*:*:*',\n",
       "     'vulnerable': True},\n",
       "    {'cpe23Uri': 'cpe:2.3:o:juniper:junos:16.2:r1:*:*:*:*:*:*',\n",
       "     'vulnerable': True},\n",
       "    {'cpe23Uri': 'cpe:2.3:o:juniper:junos:16.2:r2:*:*:*:*:*:*',\n",
       "     'vulnerable': True}],\n",
       "   'operator': 'OR'},\n",
       "  {'cpe_match': [{'cpe23Uri': 'cpe:2.3:o:juniper:junos:17.1:*:*:*:*:*:*:*',\n",
       "     'vulnerable': True},\n",
       "    {'cpe23Uri': 'cpe:2.3:o:juniper:junos:17.1:r1:*:*:*:*:*:*',\n",
       "     'vulnerable': True},\n",
       "    {'cpe23Uri': 'cpe:2.3:o:juniper:junos:17.1:r2:*:*:*:*:*:*',\n",
       "     'vulnerable': True}],\n",
       "   'operator': 'OR'},\n",
       "  {'cpe_match': [{'cpe23Uri': 'cpe:2.3:o:juniper:junos:17.2:*:*:*:*:*:*:*',\n",
       "     'vulnerable': True},\n",
       "    {'cpe23Uri': 'cpe:2.3:o:juniper:junos:17.2:r1:*:*:*:*:*:*',\n",
       "     'vulnerable': True},\n",
       "    {'cpe23Uri': 'cpe:2.3:o:juniper:junos:17.2:r1-s7:*:*:*:*:*:*',\n",
       "     'vulnerable': True},\n",
       "    {'cpe23Uri': 'cpe:2.3:o:juniper:junos:17.2:r2:*:*:*:*:*:*',\n",
       "     'vulnerable': True}],\n",
       "   'operator': 'OR'},\n",
       "  {'cpe_match': [{'cpe23Uri': 'cpe:2.3:o:juniper:junos:17.3:*:*:*:*:*:*:*',\n",
       "     'vulnerable': True},\n",
       "    {'cpe23Uri': 'cpe:2.3:o:juniper:junos:17.3:r1:*:*:*:*:*:*',\n",
       "     'vulnerable': True},\n",
       "    {'cpe23Uri': 'cpe:2.3:o:juniper:junos:17.3:r2:*:*:*:*:*:*',\n",
       "     'vulnerable': True}],\n",
       "   'operator': 'OR'},\n",
       "  {'cpe_match': [{'cpe23Uri': 'cpe:2.3:o:juniper:junos:17.4:*:*:*:*:*:*:*',\n",
       "     'vulnerable': True},\n",
       "    {'cpe23Uri': 'cpe:2.3:o:juniper:junos:17.4:r1:*:*:*:*:*:*',\n",
       "     'vulnerable': True}],\n",
       "   'operator': 'OR'},\n",
       "  {'cpe_match': [{'cpe23Uri': 'cpe:2.3:a:juniper:junos:18.1:*:*:*:*:*:*:*',\n",
       "     'vulnerable': True},\n",
       "    {'cpe23Uri': 'cpe:2.3:a:juniper:junos:18.1:r1:*:*:*:*:*:*',\n",
       "     'vulnerable': True},\n",
       "    {'cpe23Uri': 'cpe:2.3:a:juniper:junos:18.1:r2:*:*:*:*:*:*',\n",
       "     'vulnerable': True}],\n",
       "   'operator': 'OR'},\n",
       "  {'cpe_match': [{'cpe23Uri': 'cpe:2.3:a:juniper:junos:18.2:*:*:*:*:*:*:*',\n",
       "     'vulnerable': True},\n",
       "    {'cpe23Uri': 'cpe:2.3:a:juniper:junos:18.2:r1-s3:*:*:*:*:*:*',\n",
       "     'vulnerable': True},\n",
       "    {'cpe23Uri': 'cpe:2.3:a:juniper:junos:18.2:r1-s4:*:*:*:*:*:*',\n",
       "     'vulnerable': True}],\n",
       "   'operator': 'OR'}]}"
      ]
     },
     "execution_count": 60,
     "metadata": {},
     "output_type": "execute_result"
    }
   ],
   "source": [
    "x['configurations']"
   ]
  },
  {
   "cell_type": "code",
   "execution_count": 61,
   "metadata": {},
   "outputs": [
    {
     "data": {
      "text/plain": [
       "dict_keys(['baseMetricV3', 'baseMetricV2'])"
      ]
     },
     "execution_count": 61,
     "metadata": {},
     "output_type": "execute_result"
    }
   ],
   "source": [
    "x['impact'].keys()"
   ]
  },
  {
   "cell_type": "code",
   "execution_count": 62,
   "metadata": {},
   "outputs": [
    {
     "data": {
      "text/plain": [
       "{'cvssV3': {'attackComplexity': 'HIGH',\n",
       "  'attackVector': 'NETWORK',\n",
       "  'availabilityImpact': 'HIGH',\n",
       "  'baseScore': 5.9,\n",
       "  'baseSeverity': 'MEDIUM',\n",
       "  'confidentialityImpact': 'NONE',\n",
       "  'integrityImpact': 'NONE',\n",
       "  'privilegesRequired': 'NONE',\n",
       "  'scope': 'UNCHANGED',\n",
       "  'userInteraction': 'NONE',\n",
       "  'vectorString': 'CVSS:3.0/AV:N/AC:H/PR:N/UI:N/S:U/C:N/I:N/A:H',\n",
       "  'version': '3.0'},\n",
       " 'exploitabilityScore': 2.2,\n",
       " 'impactScore': 3.6}"
      ]
     },
     "execution_count": 62,
     "metadata": {},
     "output_type": "execute_result"
    }
   ],
   "source": [
    "x['impact']['baseMetricV3']"
   ]
  },
  {
   "cell_type": "code",
   "execution_count": 63,
   "metadata": {},
   "outputs": [
    {
     "data": {
      "text/plain": [
       "5.9"
      ]
     },
     "execution_count": 63,
     "metadata": {},
     "output_type": "execute_result"
    }
   ],
   "source": [
    "x['impact']['baseMetricV3']['cvssV3']['baseScore']"
   ]
  },
  {
   "cell_type": "code",
   "execution_count": 64,
   "metadata": {},
   "outputs": [
    {
     "data": {
      "text/plain": [
       "7.1"
      ]
     },
     "execution_count": 64,
     "metadata": {},
     "output_type": "execute_result"
    }
   ],
   "source": [
    "x['impact']['baseMetricV2']['cvssV2']['baseScore']"
   ]
  },
  {
   "cell_type": "code",
   "execution_count": 65,
   "metadata": {},
   "outputs": [
    {
     "data": {
      "text/plain": [
       "'2019-01-15T21:29Z'"
      ]
     },
     "execution_count": 65,
     "metadata": {},
     "output_type": "execute_result"
    }
   ],
   "source": [
    "x['publishedDate']"
   ]
  },
  {
   "cell_type": "code",
   "execution_count": 66,
   "metadata": {},
   "outputs": [
    {
     "data": {
      "text/plain": [
       "'2019-02-14T18:35Z'"
      ]
     },
     "execution_count": 66,
     "metadata": {},
     "output_type": "execute_result"
    }
   ],
   "source": [
    "x['lastModifiedDate']"
   ]
  },
  {
   "cell_type": "code",
   "execution_count": 67,
   "metadata": {},
   "outputs": [
    {
     "data": {
      "text/plain": [
       "'CVE-2019-0001'"
      ]
     },
     "execution_count": 67,
     "metadata": {},
     "output_type": "execute_result"
    }
   ],
   "source": [
    "x['cve']['CVE_data_meta']['ID']"
   ]
  },
  {
   "cell_type": "markdown",
   "metadata": {},
   "source": [
    "## Load CVE-Recent"
   ]
  },
  {
   "cell_type": "code",
   "execution_count": 68,
   "metadata": {},
   "outputs": [],
   "source": [
    "# Load meta\n",
    "url = 'https://nvd.nist.gov/feeds/json/cve/1.0/nvdcve-1.0-recent.meta'"
   ]
  },
  {
   "cell_type": "code",
   "execution_count": 69,
   "metadata": {},
   "outputs": [
    {
     "data": {
      "text/plain": [
       "'nvdcve-1.0-recent.meta'"
      ]
     },
     "execution_count": 69,
     "metadata": {},
     "output_type": "execute_result"
    }
   ],
   "source": [
    "from os.path import basename, join\n",
    "target_name = basename(url)\n",
    "target_name"
   ]
  },
  {
   "cell_type": "code",
   "execution_count": 70,
   "metadata": {},
   "outputs": [
    {
     "data": {
      "text/plain": [
       "('/tmp/nvd/nvdcve-1.0-recent.meta',\n",
       " <http.client.HTTPMessage at 0x7fc224743a58>)"
      ]
     },
     "execution_count": 70,
     "metadata": {},
     "output_type": "execute_result"
    }
   ],
   "source": [
    "from urllib.request import urlretrieve as download\n",
    "target_path = join(target_folder, target_name)\n",
    "download(url, filename=target_path)"
   ]
  },
  {
   "cell_type": "code",
   "execution_count": 71,
   "metadata": {},
   "outputs": [
    {
     "name": "stdout",
     "output_type": "stream",
     "text": [
      "lastModifiedDate:2019-03-31T20:00:18-04:00\n",
      "size:2353721\n",
      "zipSize:142966\n",
      "gzSize:142826\n",
      "sha256:8EF66C0446EA14CA7449BF66B8473132851E72B16FC9D8C5621BBD13621BDC04\n"
     ]
    }
   ],
   "source": [
    "cat $target_path"
   ]
  },
  {
   "cell_type": "code",
   "execution_count": 72,
   "metadata": {},
   "outputs": [],
   "source": [
    "# Load gz\n",
    "url = 'https://nvd.nist.gov/feeds/json/cve/1.0/nvdcve-1.0-recent.json.gz'"
   ]
  },
  {
   "cell_type": "code",
   "execution_count": 73,
   "metadata": {},
   "outputs": [
    {
     "data": {
      "text/plain": [
       "'nvdcve-1.0-recent.json.gz'"
      ]
     },
     "execution_count": 73,
     "metadata": {},
     "output_type": "execute_result"
    }
   ],
   "source": [
    "from os.path import basename, join\n",
    "target_name = basename(url)\n",
    "target_name"
   ]
  },
  {
   "cell_type": "code",
   "execution_count": 74,
   "metadata": {},
   "outputs": [
    {
     "data": {
      "text/plain": [
       "('/tmp/nvd/nvdcve-1.0-recent.json.gz',\n",
       " <http.client.HTTPMessage at 0x7fc2247430f0>)"
      ]
     },
     "execution_count": 74,
     "metadata": {},
     "output_type": "execute_result"
    }
   ],
   "source": [
    "from urllib.request import urlretrieve as download\n",
    "target_path = join(target_folder, target_name)\n",
    "download(url, filename=target_path)"
   ]
  },
  {
   "cell_type": "code",
   "execution_count": 75,
   "metadata": {},
   "outputs": [],
   "source": [
    "import json\n",
    "d = json.load(gzip.open(target_path, 'rb'))"
   ]
  },
  {
   "cell_type": "code",
   "execution_count": 76,
   "metadata": {},
   "outputs": [
    {
     "data": {
      "text/plain": [
       "'469'"
      ]
     },
     "execution_count": 76,
     "metadata": {},
     "output_type": "execute_result"
    }
   ],
   "source": [
    "d['CVE_data_numberOfCVEs']"
   ]
  },
  {
   "cell_type": "code",
   "execution_count": 77,
   "metadata": {},
   "outputs": [],
   "source": [
    "x = d['CVE_Items'][-1]"
   ]
  },
  {
   "cell_type": "code",
   "execution_count": 78,
   "metadata": {},
   "outputs": [
    {
     "data": {
      "text/plain": [
       "dict_keys(['baseMetricV3', 'baseMetricV2'])"
      ]
     },
     "execution_count": 78,
     "metadata": {},
     "output_type": "execute_result"
    }
   ],
   "source": [
    "x['impact'].keys()"
   ]
  },
  {
   "cell_type": "code",
   "execution_count": 79,
   "metadata": {},
   "outputs": [
    {
     "data": {
      "text/plain": [
       "'CVE-2019-9978'"
      ]
     },
     "execution_count": 79,
     "metadata": {},
     "output_type": "execute_result"
    }
   ],
   "source": [
    "x['cve']['CVE_data_meta']['ID']"
   ]
  },
  {
   "cell_type": "markdown",
   "metadata": {},
   "source": [
    "## Load CVE-Modified"
   ]
  },
  {
   "cell_type": "code",
   "execution_count": 80,
   "metadata": {},
   "outputs": [],
   "source": [
    "# Load meta\n",
    "url = 'https://nvd.nist.gov/feeds/json/cve/1.0/nvdcve-1.0-modified.meta'"
   ]
  },
  {
   "cell_type": "code",
   "execution_count": 81,
   "metadata": {},
   "outputs": [
    {
     "data": {
      "text/plain": [
       "'nvdcve-1.0-modified.meta'"
      ]
     },
     "execution_count": 81,
     "metadata": {},
     "output_type": "execute_result"
    }
   ],
   "source": [
    "from os.path import basename, join\n",
    "target_name = basename(url)\n",
    "target_name"
   ]
  },
  {
   "cell_type": "code",
   "execution_count": 82,
   "metadata": {},
   "outputs": [
    {
     "data": {
      "text/plain": [
       "('/tmp/nvd/nvdcve-1.0-modified.meta',\n",
       " <http.client.HTTPMessage at 0x7fc225cfacc0>)"
      ]
     },
     "execution_count": 82,
     "metadata": {},
     "output_type": "execute_result"
    }
   ],
   "source": [
    "from urllib.request import urlretrieve as download\n",
    "target_path = join(target_folder, target_name)\n",
    "download(url, filename=target_path)"
   ]
  },
  {
   "cell_type": "code",
   "execution_count": 83,
   "metadata": {},
   "outputs": [
    {
     "name": "stdout",
     "output_type": "stream",
     "text": [
      "lastModifiedDate:2019-03-31T20:02:13-04:00\n",
      "size:30161915\n",
      "zipSize:1269586\n",
      "gzSize:1269442\n",
      "sha256:A1570FA46369800769A4BD37458B6E1E07EB759048256D9FEFD6898ED5EDB781\n"
     ]
    }
   ],
   "source": [
    "cat $target_path"
   ]
  },
  {
   "cell_type": "code",
   "execution_count": 84,
   "metadata": {},
   "outputs": [],
   "source": [
    "# Load gz\n",
    "url = 'https://nvd.nist.gov/feeds/json/cve/1.0/nvdcve-1.0-modified.json.gz'"
   ]
  },
  {
   "cell_type": "code",
   "execution_count": 85,
   "metadata": {},
   "outputs": [
    {
     "data": {
      "text/plain": [
       "'nvdcve-1.0-modified.json.gz'"
      ]
     },
     "execution_count": 85,
     "metadata": {},
     "output_type": "execute_result"
    }
   ],
   "source": [
    "from os.path import basename, join\n",
    "target_name = basename(url)\n",
    "target_name"
   ]
  },
  {
   "cell_type": "code",
   "execution_count": 86,
   "metadata": {},
   "outputs": [
    {
     "data": {
      "text/plain": [
       "('/tmp/nvd/nvdcve-1.0-modified.json.gz',\n",
       " <http.client.HTTPMessage at 0x7fc225d04b00>)"
      ]
     },
     "execution_count": 86,
     "metadata": {},
     "output_type": "execute_result"
    }
   ],
   "source": [
    "from urllib.request import urlretrieve as download\n",
    "target_path = join(target_folder, target_name)\n",
    "download(url, filename=target_path)"
   ]
  },
  {
   "cell_type": "code",
   "execution_count": 87,
   "metadata": {},
   "outputs": [],
   "source": [
    "import gzip\n",
    "with gzip.open(target_path, 'rb') as f:\n",
    "    content = f.read()"
   ]
  },
  {
   "cell_type": "code",
   "execution_count": 88,
   "metadata": {},
   "outputs": [],
   "source": [
    "import json\n",
    "d = json.load(gzip.open(target_path, 'rb'))"
   ]
  },
  {
   "cell_type": "code",
   "execution_count": 89,
   "metadata": {},
   "outputs": [
    {
     "data": {
      "text/plain": [
       "'1149'"
      ]
     },
     "execution_count": 89,
     "metadata": {},
     "output_type": "execute_result"
    }
   ],
   "source": [
    "d['CVE_data_numberOfCVEs']"
   ]
  },
  {
   "cell_type": "code",
   "execution_count": 90,
   "metadata": {},
   "outputs": [],
   "source": [
    "x = d['CVE_Items'][-1]"
   ]
  },
  {
   "cell_type": "code",
   "execution_count": 91,
   "metadata": {},
   "outputs": [
    {
     "data": {
      "text/plain": [
       "dict_keys(['baseMetricV3', 'baseMetricV2'])"
      ]
     },
     "execution_count": 91,
     "metadata": {},
     "output_type": "execute_result"
    }
   ],
   "source": [
    "x['impact'].keys()"
   ]
  },
  {
   "cell_type": "code",
   "execution_count": 92,
   "metadata": {},
   "outputs": [
    {
     "data": {
      "text/plain": [
       "'CVE-2019-9978'"
      ]
     },
     "execution_count": 92,
     "metadata": {},
     "output_type": "execute_result"
    }
   ],
   "source": [
    "x['cve']['CVE_data_meta']['ID']"
   ]
  },
  {
   "cell_type": "markdown",
   "metadata": {},
   "source": [
    "I think we should do a full import once a month. We can check modified once a week. We can check recent every day."
   ]
  }
 ],
 "metadata": {
  "kernelspec": {
   "display_name": "Python 3",
   "language": "python",
   "name": "python3"
  },
  "language_info": {
   "codemirror_mode": {
    "name": "ipython",
    "version": 3
   },
   "file_extension": ".py",
   "mimetype": "text/x-python",
   "name": "python",
   "nbconvert_exporter": "python",
   "pygments_lexer": "ipython3",
   "version": "3.6.6"
  }
 },
 "nbformat": 4,
 "nbformat_minor": 2
}
