{
 "cells": [
  {
   "cell_type": "markdown",
   "metadata": {},
   "source": [
    "# Explore NVD"
   ]
  },
  {
   "cell_type": "code",
   "execution_count": 2,
   "metadata": {},
   "outputs": [],
   "source": [
    "import subprocess\n",
    "assert subprocess.call('pip install packaging'.split()) == 0"
   ]
  },
  {
   "cell_type": "code",
   "execution_count": 3,
   "metadata": {},
   "outputs": [],
   "source": [
    "from packaging.version import parse as parse_version"
   ]
  },
  {
   "cell_type": "code",
   "execution_count": 23,
   "metadata": {},
   "outputs": [],
   "source": [
    "version = parse_version('1.2.3')"
   ]
  },
  {
   "cell_type": "code",
   "execution_count": 24,
   "metadata": {},
   "outputs": [
    {
     "name": "stdout",
     "output_type": "stream",
     "text": [
      "base_version = 1.2.3\n",
      "dev = None\n",
      "epoch = 0\n",
      "is_devrelease = False\n",
      "is_postrelease = False\n",
      "is_prerelease = False\n",
      "local = None\n",
      "post = None\n",
      "pre = None\n",
      "public = 1.2.3\n",
      "release = (1, 2, 3)\n"
     ]
    }
   ],
   "source": [
    "for _ in dir(version):\n",
    "    if _.startswith('_'):\n",
    "        continue\n",
    "    print(f'{_} = {getattr(version, _)}')"
   ]
  },
  {
   "cell_type": "code",
   "execution_count": null,
   "metadata": {},
   "outputs": [],
   "source": [
    "# Load CVE-2002\n",
    "# Load CVE-2019\n",
    "# Load CVE-Recent\n",
    "# Load CVE-Modified"
   ]
  },
  {
   "cell_type": "code",
   "execution_count": 30,
   "metadata": {},
   "outputs": [],
   "source": [
    "from invisibleroads_macros.disk import make_folder\n",
    "target_folder = make_folder('/tmp/nvd')"
   ]
  },
  {
   "cell_type": "markdown",
   "metadata": {},
   "source": [
    "## Load CVE-2002"
   ]
  },
  {
   "cell_type": "code",
   "execution_count": 31,
   "metadata": {},
   "outputs": [],
   "source": [
    "# Load meta\n",
    "url = 'https://nvd.nist.gov/feeds/json/cve/1.0/nvdcve-1.0-2002.meta'"
   ]
  },
  {
   "cell_type": "code",
   "execution_count": 33,
   "metadata": {},
   "outputs": [
    {
     "data": {
      "text/plain": [
       "'nvdcve-1.0-2002.meta'"
      ]
     },
     "execution_count": 33,
     "metadata": {},
     "output_type": "execute_result"
    }
   ],
   "source": [
    "from os.path import basename, join\n",
    "target_name = basename(url)\n",
    "target_name"
   ]
  },
  {
   "cell_type": "code",
   "execution_count": 34,
   "metadata": {},
   "outputs": [
    {
     "data": {
      "text/plain": [
       "('/tmp/nvd/nvdcve-1.0-2002.meta', <http.client.HTTPMessage at 0x7f2f1cffad30>)"
      ]
     },
     "execution_count": 34,
     "metadata": {},
     "output_type": "execute_result"
    }
   ],
   "source": [
    "from urllib.request import urlretrieve as download\n",
    "target_path = join(target_folder, target_name)\n",
    "download(url, filename=target_path)"
   ]
  },
  {
   "cell_type": "code",
   "execution_count": 35,
   "metadata": {},
   "outputs": [
    {
     "name": "stdout",
     "output_type": "stream",
     "text": [
      "lastModifiedDate:2019-03-08T04:13:35-05:00\n",
      "size:25950036\n",
      "zipSize:1670233\n",
      "gzSize:1670097\n",
      "sha256:0C4CD876512D0A8141305412504F288B2A6B157FD03A8797FFEB59708820E008\n"
     ]
    }
   ],
   "source": [
    "cat $target_path"
   ]
  },
  {
   "cell_type": "markdown",
   "metadata": {},
   "source": [
    "I think we can assume that if the content of the meta file has changed, then the content of the original file has changed as well."
   ]
  },
  {
   "cell_type": "code",
   "execution_count": 36,
   "metadata": {},
   "outputs": [],
   "source": [
    "# Load gz\n",
    "url = 'https://nvd.nist.gov/feeds/json/cve/1.0/nvdcve-1.0-2002.json.gz'"
   ]
  },
  {
   "cell_type": "code",
   "execution_count": 37,
   "metadata": {},
   "outputs": [
    {
     "data": {
      "text/plain": [
       "'nvdcve-1.0-2002.json.gz'"
      ]
     },
     "execution_count": 37,
     "metadata": {},
     "output_type": "execute_result"
    }
   ],
   "source": [
    "from os.path import basename, join\n",
    "target_name = basename(url)\n",
    "target_name"
   ]
  },
  {
   "cell_type": "code",
   "execution_count": 38,
   "metadata": {},
   "outputs": [
    {
     "data": {
      "text/plain": [
       "('/tmp/nvd/nvdcve-1.0-2002.json.gz',\n",
       " <http.client.HTTPMessage at 0x7f2f1d737128>)"
      ]
     },
     "execution_count": 38,
     "metadata": {},
     "output_type": "execute_result"
    }
   ],
   "source": [
    "from urllib.request import urlretrieve as download\n",
    "target_path = join(target_folder, target_name)\n",
    "download(url, filename=target_path)"
   ]
  },
  {
   "cell_type": "code",
   "execution_count": 39,
   "metadata": {},
   "outputs": [],
   "source": [
    "import gzip\n",
    "with gzip.open(target_path, 'rb') as f:\n",
    "    content = f.read()"
   ]
  },
  {
   "cell_type": "code",
   "execution_count": 40,
   "metadata": {},
   "outputs": [
    {
     "data": {
      "text/plain": [
       "25950036"
      ]
     },
     "execution_count": 40,
     "metadata": {},
     "output_type": "execute_result"
    }
   ],
   "source": [
    "len(content)"
   ]
  },
  {
   "cell_type": "code",
   "execution_count": 41,
   "metadata": {},
   "outputs": [
    {
     "data": {
      "text/plain": [
       "b'{\\r\\n  \"CVE_data_type\" : \"CVE\",\\r\\n  \"CVE_data_format\" : \"MITRE\",\\r\\n  \"CVE_data_version\" : \"4.0\",\\r\\n  \"CVE'"
      ]
     },
     "execution_count": 41,
     "metadata": {},
     "output_type": "execute_result"
    }
   ],
   "source": [
    "content[:100]"
   ]
  },
  {
   "cell_type": "code",
   "execution_count": 42,
   "metadata": {},
   "outputs": [],
   "source": [
    "import json\n",
    "d = json.load(gzip.open(target_path, 'rb'))"
   ]
  },
  {
   "cell_type": "code",
   "execution_count": 43,
   "metadata": {},
   "outputs": [
    {
     "data": {
      "text/plain": [
       "dict_keys(['CVE_data_type', 'CVE_data_format', 'CVE_data_version', 'CVE_data_numberOfCVEs', 'CVE_data_timestamp', 'CVE_Items'])"
      ]
     },
     "execution_count": 43,
     "metadata": {},
     "output_type": "execute_result"
    }
   ],
   "source": [
    "d.keys()"
   ]
  },
  {
   "cell_type": "code",
   "execution_count": 44,
   "metadata": {},
   "outputs": [
    {
     "data": {
      "text/plain": [
       "'CVE'"
      ]
     },
     "execution_count": 44,
     "metadata": {},
     "output_type": "execute_result"
    }
   ],
   "source": [
    "d['CVE_data_type']"
   ]
  },
  {
   "cell_type": "code",
   "execution_count": 45,
   "metadata": {},
   "outputs": [
    {
     "data": {
      "text/plain": [
       "'MITRE'"
      ]
     },
     "execution_count": 45,
     "metadata": {},
     "output_type": "execute_result"
    }
   ],
   "source": [
    "d['CVE_data_format']"
   ]
  },
  {
   "cell_type": "code",
   "execution_count": 46,
   "metadata": {},
   "outputs": [
    {
     "data": {
      "text/plain": [
       "'4.0'"
      ]
     },
     "execution_count": 46,
     "metadata": {},
     "output_type": "execute_result"
    }
   ],
   "source": [
    "d['CVE_data_version']"
   ]
  },
  {
   "cell_type": "code",
   "execution_count": 47,
   "metadata": {},
   "outputs": [
    {
     "data": {
      "text/plain": [
       "'6745'"
      ]
     },
     "execution_count": 47,
     "metadata": {},
     "output_type": "execute_result"
    }
   ],
   "source": [
    "d['CVE_data_numberOfCVEs']"
   ]
  },
  {
   "cell_type": "code",
   "execution_count": 48,
   "metadata": {},
   "outputs": [
    {
     "data": {
      "text/plain": [
       "'2019-03-08T09:11Z'"
      ]
     },
     "execution_count": 48,
     "metadata": {},
     "output_type": "execute_result"
    }
   ],
   "source": [
    "d['CVE_data_timestamp']"
   ]
  },
  {
   "cell_type": "code",
   "execution_count": 50,
   "metadata": {},
   "outputs": [
    {
     "data": {
      "text/plain": [
       "6745"
      ]
     },
     "execution_count": 50,
     "metadata": {},
     "output_type": "execute_result"
    }
   ],
   "source": [
    "len(d['CVE_Items'])"
   ]
  },
  {
   "cell_type": "code",
   "execution_count": 53,
   "metadata": {},
   "outputs": [],
   "source": [
    "x = d['CVE_Items'][0]"
   ]
  },
  {
   "cell_type": "code",
   "execution_count": 54,
   "metadata": {},
   "outputs": [
    {
     "data": {
      "text/plain": [
       "dict_keys(['cve', 'configurations', 'impact', 'publishedDate', 'lastModifiedDate'])"
      ]
     },
     "execution_count": 54,
     "metadata": {},
     "output_type": "execute_result"
    }
   ],
   "source": [
    "x.keys()"
   ]
  },
  {
   "cell_type": "code",
   "execution_count": 56,
   "metadata": {},
   "outputs": [
    {
     "data": {
      "text/plain": [
       "dict_keys(['data_type', 'data_format', 'data_version', 'CVE_data_meta', 'affects', 'problemtype', 'references', 'description'])"
      ]
     },
     "execution_count": 56,
     "metadata": {},
     "output_type": "execute_result"
    }
   ],
   "source": [
    "x['cve'].keys()"
   ]
  },
  {
   "cell_type": "code",
   "execution_count": 57,
   "metadata": {},
   "outputs": [
    {
     "data": {
      "text/plain": [
       "dict_keys(['CVE_data_version', 'nodes'])"
      ]
     },
     "execution_count": 57,
     "metadata": {},
     "output_type": "execute_result"
    }
   ],
   "source": [
    "x['configurations'].keys()"
   ]
  },
  {
   "cell_type": "code",
   "execution_count": 76,
   "metadata": {},
   "outputs": [
    {
     "data": {
      "text/plain": [
       "{'CVE_data_version': '4.0',\n",
       " 'nodes': [{'cpe_match': [{'cpe23Uri': 'cpe:2.3:o:bsdi:bsd_os:3.1:*:*:*:*:*:*:*',\n",
       "     'vulnerable': True},\n",
       "    {'cpe23Uri': 'cpe:2.3:o:freebsd:freebsd:1.0:*:*:*:*:*:*:*',\n",
       "     'vulnerable': True},\n",
       "    {'cpe23Uri': 'cpe:2.3:o:freebsd:freebsd:1.1:*:*:*:*:*:*:*',\n",
       "     'vulnerable': True},\n",
       "    {'cpe23Uri': 'cpe:2.3:o:freebsd:freebsd:1.1.5.1:*:*:*:*:*:*:*',\n",
       "     'vulnerable': True},\n",
       "    {'cpe23Uri': 'cpe:2.3:o:freebsd:freebsd:1.2:*:*:*:*:*:*:*',\n",
       "     'vulnerable': True},\n",
       "    {'cpe23Uri': 'cpe:2.3:o:freebsd:freebsd:2.0:*:*:*:*:*:*:*',\n",
       "     'vulnerable': True},\n",
       "    {'cpe23Uri': 'cpe:2.3:o:freebsd:freebsd:2.0.1:*:*:*:*:*:*:*',\n",
       "     'vulnerable': True},\n",
       "    {'cpe23Uri': 'cpe:2.3:o:freebsd:freebsd:2.0.5:*:*:*:*:*:*:*',\n",
       "     'vulnerable': True},\n",
       "    {'cpe23Uri': 'cpe:2.3:o:freebsd:freebsd:2.1.5:*:*:*:*:*:*:*',\n",
       "     'vulnerable': True},\n",
       "    {'cpe23Uri': 'cpe:2.3:o:freebsd:freebsd:2.1.6:*:*:*:*:*:*:*',\n",
       "     'vulnerable': True},\n",
       "    {'cpe23Uri': 'cpe:2.3:o:freebsd:freebsd:2.1.6.1:*:*:*:*:*:*:*',\n",
       "     'vulnerable': True},\n",
       "    {'cpe23Uri': 'cpe:2.3:o:freebsd:freebsd:2.1.7:*:*:*:*:*:*:*',\n",
       "     'vulnerable': True},\n",
       "    {'cpe23Uri': 'cpe:2.3:o:freebsd:freebsd:2.1.7.1:*:*:*:*:*:*:*',\n",
       "     'vulnerable': True},\n",
       "    {'cpe23Uri': 'cpe:2.3:o:freebsd:freebsd:2.2:*:*:*:*:*:*:*',\n",
       "     'vulnerable': True},\n",
       "    {'cpe23Uri': 'cpe:2.3:o:freebsd:freebsd:2.2.2:*:*:*:*:*:*:*',\n",
       "     'vulnerable': True},\n",
       "    {'cpe23Uri': 'cpe:2.3:o:freebsd:freebsd:2.2.3:*:*:*:*:*:*:*',\n",
       "     'vulnerable': True},\n",
       "    {'cpe23Uri': 'cpe:2.3:o:freebsd:freebsd:2.2.4:*:*:*:*:*:*:*',\n",
       "     'vulnerable': True},\n",
       "    {'cpe23Uri': 'cpe:2.3:o:freebsd:freebsd:2.2.5:*:*:*:*:*:*:*',\n",
       "     'vulnerable': True},\n",
       "    {'cpe23Uri': 'cpe:2.3:o:freebsd:freebsd:2.2.6:*:*:*:*:*:*:*',\n",
       "     'vulnerable': True},\n",
       "    {'cpe23Uri': 'cpe:2.3:o:freebsd:freebsd:2.2.8:*:*:*:*:*:*:*',\n",
       "     'vulnerable': True},\n",
       "    {'cpe23Uri': 'cpe:2.3:o:freebsd:freebsd:3.0:*:*:*:*:*:*:*',\n",
       "     'vulnerable': True},\n",
       "    {'cpe23Uri': 'cpe:2.3:o:openbsd:openbsd:2.3:*:*:*:*:*:*:*',\n",
       "     'vulnerable': True},\n",
       "    {'cpe23Uri': 'cpe:2.3:o:openbsd:openbsd:2.4:*:*:*:*:*:*:*',\n",
       "     'vulnerable': True}],\n",
       "   'operator': 'OR'}]}"
      ]
     },
     "execution_count": 76,
     "metadata": {},
     "output_type": "execute_result"
    }
   ],
   "source": [
    "x['configurations']"
   ]
  },
  {
   "cell_type": "code",
   "execution_count": 58,
   "metadata": {},
   "outputs": [
    {
     "data": {
      "text/plain": [
       "dict_keys(['baseMetricV2'])"
      ]
     },
     "execution_count": 58,
     "metadata": {},
     "output_type": "execute_result"
    }
   ],
   "source": [
    "x['impact'].keys()"
   ]
  },
  {
   "cell_type": "code",
   "execution_count": 64,
   "metadata": {},
   "outputs": [
    {
     "data": {
      "text/plain": [
       "dict_keys(['cvssV2', 'severity', 'exploitabilityScore', 'impactScore', 'obtainAllPrivilege', 'obtainUserPrivilege', 'obtainOtherPrivilege', 'userInteractionRequired'])"
      ]
     },
     "execution_count": 64,
     "metadata": {},
     "output_type": "execute_result"
    }
   ],
   "source": [
    "x['impact']['baseMetricV2'].keys()"
   ]
  },
  {
   "cell_type": "code",
   "execution_count": 81,
   "metadata": {},
   "outputs": [
    {
     "data": {
      "text/plain": [
       "{'cvssV2': {'accessComplexity': 'LOW',\n",
       "  'accessVector': 'NETWORK',\n",
       "  'authentication': 'NONE',\n",
       "  'availabilityImpact': 'PARTIAL',\n",
       "  'baseScore': 5.0,\n",
       "  'confidentialityImpact': 'NONE',\n",
       "  'integrityImpact': 'NONE',\n",
       "  'vectorString': 'AV:N/AC:L/Au:N/C:N/I:N/A:P',\n",
       "  'version': '2.0'},\n",
       " 'exploitabilityScore': 10.0,\n",
       " 'impactScore': 2.9,\n",
       " 'obtainAllPrivilege': False,\n",
       " 'obtainOtherPrivilege': False,\n",
       " 'obtainUserPrivilege': False,\n",
       " 'severity': 'MEDIUM',\n",
       " 'userInteractionRequired': False}"
      ]
     },
     "execution_count": 81,
     "metadata": {},
     "output_type": "execute_result"
    }
   ],
   "source": [
    "x['impact']['baseMetricV2']"
   ]
  },
  {
   "cell_type": "code",
   "execution_count": 82,
   "metadata": {},
   "outputs": [
    {
     "data": {
      "text/plain": [
       "{'accessComplexity': 'LOW',\n",
       " 'accessVector': 'NETWORK',\n",
       " 'authentication': 'NONE',\n",
       " 'availabilityImpact': 'PARTIAL',\n",
       " 'baseScore': 5.0,\n",
       " 'confidentialityImpact': 'NONE',\n",
       " 'integrityImpact': 'NONE',\n",
       " 'vectorString': 'AV:N/AC:L/Au:N/C:N/I:N/A:P',\n",
       " 'version': '2.0'}"
      ]
     },
     "execution_count": 82,
     "metadata": {},
     "output_type": "execute_result"
    }
   ],
   "source": [
    "x['impact']['baseMetricV2']['cvssV2']"
   ]
  },
  {
   "cell_type": "code",
   "execution_count": 83,
   "metadata": {},
   "outputs": [
    {
     "data": {
      "text/plain": [
       "5.0"
      ]
     },
     "execution_count": 83,
     "metadata": {},
     "output_type": "execute_result"
    }
   ],
   "source": [
    "x['impact']['baseMetricV2']['cvssV2']['baseScore']"
   ]
  },
  {
   "cell_type": "code",
   "execution_count": 61,
   "metadata": {},
   "outputs": [
    {
     "data": {
      "text/plain": [
       "'1999-12-30T05:00Z'"
      ]
     },
     "execution_count": 61,
     "metadata": {},
     "output_type": "execute_result"
    }
   ],
   "source": [
    "x['publishedDate']"
   ]
  },
  {
   "cell_type": "code",
   "execution_count": 62,
   "metadata": {},
   "outputs": [
    {
     "data": {
      "text/plain": [
       "'2010-12-16T05:00Z'"
      ]
     },
     "execution_count": 62,
     "metadata": {},
     "output_type": "execute_result"
    }
   ],
   "source": [
    "x['lastModifiedDate']"
   ]
  },
  {
   "cell_type": "code",
   "execution_count": 77,
   "metadata": {},
   "outputs": [
    {
     "data": {
      "text/plain": [
       "dict_keys(['data_type', 'data_format', 'data_version', 'CVE_data_meta', 'affects', 'problemtype', 'references', 'description'])"
      ]
     },
     "execution_count": 77,
     "metadata": {},
     "output_type": "execute_result"
    }
   ],
   "source": [
    "x['cve'].keys()"
   ]
  },
  {
   "cell_type": "code",
   "execution_count": 80,
   "metadata": {},
   "outputs": [
    {
     "data": {
      "text/plain": [
       "'CVE-1999-0001'"
      ]
     },
     "execution_count": 80,
     "metadata": {},
     "output_type": "execute_result"
    }
   ],
   "source": [
    "x['cve']['CVE_data_meta']['ID']"
   ]
  },
  {
   "cell_type": "markdown",
   "metadata": {},
   "source": [
    "## Load CVE-2019"
   ]
  },
  {
   "cell_type": "code",
   "execution_count": 85,
   "metadata": {},
   "outputs": [],
   "source": [
    "# Load meta\n",
    "url = 'https://nvd.nist.gov/feeds/json/cve/1.0/nvdcve-1.0-2019.meta'"
   ]
  },
  {
   "cell_type": "code",
   "execution_count": 86,
   "metadata": {},
   "outputs": [
    {
     "data": {
      "text/plain": [
       "'nvdcve-1.0-2019.meta'"
      ]
     },
     "execution_count": 86,
     "metadata": {},
     "output_type": "execute_result"
    }
   ],
   "source": [
    "from os.path import basename, join\n",
    "target_name = basename(url)\n",
    "target_name"
   ]
  },
  {
   "cell_type": "code",
   "execution_count": 87,
   "metadata": {},
   "outputs": [
    {
     "data": {
      "text/plain": [
       "('/tmp/nvd/nvdcve-1.0-2019.meta', <http.client.HTTPMessage at 0x7f2f0a110e10>)"
      ]
     },
     "execution_count": 87,
     "metadata": {},
     "output_type": "execute_result"
    }
   ],
   "source": [
    "from urllib.request import urlretrieve as download\n",
    "target_path = join(target_folder, target_name)\n",
    "download(url, filename=target_path)"
   ]
  },
  {
   "cell_type": "code",
   "execution_count": 88,
   "metadata": {},
   "outputs": [
    {
     "name": "stdout",
     "output_type": "stream",
     "text": [
      "lastModifiedDate:2019-03-14T03:01:37-04:00\n",
      "size:25715303\n",
      "zipSize:977226\n",
      "gzSize:977090\n",
      "sha256:7333614AA7C9E5B7EF31A75D4DF6788F9370ABB9BC8B7FCBCF8D293C5945B497\n"
     ]
    }
   ],
   "source": [
    "cat $target_path"
   ]
  },
  {
   "cell_type": "code",
   "execution_count": 89,
   "metadata": {},
   "outputs": [],
   "source": [
    "# Load gz\n",
    "url = 'https://nvd.nist.gov/feeds/json/cve/1.0/nvdcve-1.0-2019.json.gz'"
   ]
  },
  {
   "cell_type": "code",
   "execution_count": 90,
   "metadata": {},
   "outputs": [
    {
     "data": {
      "text/plain": [
       "'nvdcve-1.0-2019.json.gz'"
      ]
     },
     "execution_count": 90,
     "metadata": {},
     "output_type": "execute_result"
    }
   ],
   "source": [
    "from os.path import basename, join\n",
    "target_name = basename(url)\n",
    "target_name"
   ]
  },
  {
   "cell_type": "code",
   "execution_count": 91,
   "metadata": {},
   "outputs": [
    {
     "data": {
      "text/plain": [
       "('/tmp/nvd/nvdcve-1.0-2019.json.gz',\n",
       " <http.client.HTTPMessage at 0x7f2f0a1146a0>)"
      ]
     },
     "execution_count": 91,
     "metadata": {},
     "output_type": "execute_result"
    }
   ],
   "source": [
    "from urllib.request import urlretrieve as download\n",
    "target_path = join(target_folder, target_name)\n",
    "download(url, filename=target_path)"
   ]
  },
  {
   "cell_type": "code",
   "execution_count": 107,
   "metadata": {},
   "outputs": [],
   "source": [
    "import gzip\n",
    "with gzip.open(target_path, 'rb') as f:\n",
    "    content = f.read()"
   ]
  },
  {
   "cell_type": "code",
   "execution_count": 108,
   "metadata": {},
   "outputs": [
    {
     "data": {
      "text/plain": [
       "25715303"
      ]
     },
     "execution_count": 108,
     "metadata": {},
     "output_type": "execute_result"
    }
   ],
   "source": [
    "len(content)"
   ]
  },
  {
   "cell_type": "code",
   "execution_count": 109,
   "metadata": {},
   "outputs": [
    {
     "data": {
      "text/plain": [
       "b'{\\r\\n  \"CVE_data_type\" : \"CVE\",\\r\\n  \"CVE_data_format\" : \"MITRE\",\\r\\n  \"CVE_data_version\" : \"4.0\",\\r\\n  \"CVE'"
      ]
     },
     "execution_count": 109,
     "metadata": {},
     "output_type": "execute_result"
    }
   ],
   "source": [
    "content[:100]"
   ]
  },
  {
   "cell_type": "code",
   "execution_count": 115,
   "metadata": {},
   "outputs": [],
   "source": [
    "import json\n",
    "d = json.load(gzip.open(target_path, 'rb'))"
   ]
  },
  {
   "cell_type": "code",
   "execution_count": 116,
   "metadata": {},
   "outputs": [
    {
     "data": {
      "text/plain": [
       "dict_keys(['CVE_data_type', 'CVE_data_format', 'CVE_data_version', 'CVE_data_numberOfCVEs', 'CVE_data_timestamp', 'CVE_Items'])"
      ]
     },
     "execution_count": 116,
     "metadata": {},
     "output_type": "execute_result"
    }
   ],
   "source": [
    "d.keys()"
   ]
  },
  {
   "cell_type": "code",
   "execution_count": 117,
   "metadata": {},
   "outputs": [
    {
     "data": {
      "text/plain": [
       "'CVE'"
      ]
     },
     "execution_count": 117,
     "metadata": {},
     "output_type": "execute_result"
    }
   ],
   "source": [
    "d['CVE_data_type']"
   ]
  },
  {
   "cell_type": "code",
   "execution_count": 118,
   "metadata": {},
   "outputs": [
    {
     "data": {
      "text/plain": [
       "'MITRE'"
      ]
     },
     "execution_count": 118,
     "metadata": {},
     "output_type": "execute_result"
    }
   ],
   "source": [
    "d['CVE_data_format']"
   ]
  },
  {
   "cell_type": "code",
   "execution_count": 119,
   "metadata": {},
   "outputs": [
    {
     "data": {
      "text/plain": [
       "'4.0'"
      ]
     },
     "execution_count": 119,
     "metadata": {},
     "output_type": "execute_result"
    }
   ],
   "source": [
    "d['CVE_data_version']"
   ]
  },
  {
   "cell_type": "code",
   "execution_count": 120,
   "metadata": {},
   "outputs": [
    {
     "data": {
      "text/plain": [
       "'1411'"
      ]
     },
     "execution_count": 120,
     "metadata": {},
     "output_type": "execute_result"
    }
   ],
   "source": [
    "d['CVE_data_numberOfCVEs']"
   ]
  },
  {
   "cell_type": "code",
   "execution_count": 121,
   "metadata": {},
   "outputs": [
    {
     "data": {
      "text/plain": [
       "'2019-03-14T07:00Z'"
      ]
     },
     "execution_count": 121,
     "metadata": {},
     "output_type": "execute_result"
    }
   ],
   "source": [
    "d['CVE_data_timestamp']"
   ]
  },
  {
   "cell_type": "code",
   "execution_count": 122,
   "metadata": {},
   "outputs": [
    {
     "data": {
      "text/plain": [
       "1411"
      ]
     },
     "execution_count": 122,
     "metadata": {},
     "output_type": "execute_result"
    }
   ],
   "source": [
    "len(d['CVE_Items'])"
   ]
  },
  {
   "cell_type": "code",
   "execution_count": 123,
   "metadata": {},
   "outputs": [],
   "source": [
    "x = d['CVE_Items'][0]"
   ]
  },
  {
   "cell_type": "code",
   "execution_count": 124,
   "metadata": {},
   "outputs": [
    {
     "data": {
      "text/plain": [
       "dict_keys(['cve', 'configurations', 'impact', 'publishedDate', 'lastModifiedDate'])"
      ]
     },
     "execution_count": 124,
     "metadata": {},
     "output_type": "execute_result"
    }
   ],
   "source": [
    "x.keys()"
   ]
  },
  {
   "cell_type": "code",
   "execution_count": 125,
   "metadata": {},
   "outputs": [
    {
     "data": {
      "text/plain": [
       "dict_keys(['data_type', 'data_format', 'data_version', 'CVE_data_meta', 'affects', 'problemtype', 'references', 'description'])"
      ]
     },
     "execution_count": 125,
     "metadata": {},
     "output_type": "execute_result"
    }
   ],
   "source": [
    "x['cve'].keys()"
   ]
  },
  {
   "cell_type": "code",
   "execution_count": 126,
   "metadata": {},
   "outputs": [
    {
     "data": {
      "text/plain": [
       "{'CVE_data_version': '4.0',\n",
       " 'nodes': [{'cpe_match': [{'cpe23Uri': 'cpe:2.3:o:juniper:junos:16.1:*:*:*:*:*:*:*',\n",
       "     'vulnerable': True},\n",
       "    {'cpe23Uri': 'cpe:2.3:o:juniper:junos:16.1:r1:*:*:*:*:*:*',\n",
       "     'vulnerable': True},\n",
       "    {'cpe23Uri': 'cpe:2.3:o:juniper:junos:16.1:r2:*:*:*:*:*:*',\n",
       "     'vulnerable': True},\n",
       "    {'cpe23Uri': 'cpe:2.3:o:juniper:junos:16.1:r3:*:*:*:*:*:*',\n",
       "     'vulnerable': True},\n",
       "    {'cpe23Uri': 'cpe:2.3:o:juniper:junos:16.1:r3-s10:*:*:*:*:*:*',\n",
       "     'vulnerable': True},\n",
       "    {'cpe23Uri': 'cpe:2.3:o:juniper:junos:16.1:r4:*:*:*:*:*:*',\n",
       "     'vulnerable': True},\n",
       "    {'cpe23Uri': 'cpe:2.3:o:juniper:junos:16.1:r5:*:*:*:*:*:*',\n",
       "     'vulnerable': True},\n",
       "    {'cpe23Uri': 'cpe:2.3:o:juniper:junos:16.1:r6:*:*:*:*:*:*',\n",
       "     'vulnerable': True},\n",
       "    {'cpe23Uri': 'cpe:2.3:o:juniper:junos:16.1:r6-s6:*:*:*:*:*:*',\n",
       "     'vulnerable': True},\n",
       "    {'cpe23Uri': 'cpe:2.3:o:juniper:junos:16.1:r7:*:*:*:*:*:*',\n",
       "     'vulnerable': True}],\n",
       "   'operator': 'OR'},\n",
       "  {'cpe_match': [{'cpe23Uri': 'cpe:2.3:o:juniper:junos:16.2:*:*:*:*:*:*:*',\n",
       "     'vulnerable': True},\n",
       "    {'cpe23Uri': 'cpe:2.3:o:juniper:junos:16.2:r1:*:*:*:*:*:*',\n",
       "     'vulnerable': True},\n",
       "    {'cpe23Uri': 'cpe:2.3:o:juniper:junos:16.2:r2:*:*:*:*:*:*',\n",
       "     'vulnerable': True}],\n",
       "   'operator': 'OR'},\n",
       "  {'cpe_match': [{'cpe23Uri': 'cpe:2.3:o:juniper:junos:17.1:*:*:*:*:*:*:*',\n",
       "     'vulnerable': True},\n",
       "    {'cpe23Uri': 'cpe:2.3:o:juniper:junos:17.1:r1:*:*:*:*:*:*',\n",
       "     'vulnerable': True},\n",
       "    {'cpe23Uri': 'cpe:2.3:o:juniper:junos:17.1:r2:*:*:*:*:*:*',\n",
       "     'vulnerable': True}],\n",
       "   'operator': 'OR'},\n",
       "  {'cpe_match': [{'cpe23Uri': 'cpe:2.3:o:juniper:junos:17.2:*:*:*:*:*:*:*',\n",
       "     'vulnerable': True},\n",
       "    {'cpe23Uri': 'cpe:2.3:o:juniper:junos:17.2:r1:*:*:*:*:*:*',\n",
       "     'vulnerable': True},\n",
       "    {'cpe23Uri': 'cpe:2.3:o:juniper:junos:17.2:r1-s7:*:*:*:*:*:*',\n",
       "     'vulnerable': True},\n",
       "    {'cpe23Uri': 'cpe:2.3:o:juniper:junos:17.2:r2:*:*:*:*:*:*',\n",
       "     'vulnerable': True}],\n",
       "   'operator': 'OR'},\n",
       "  {'cpe_match': [{'cpe23Uri': 'cpe:2.3:o:juniper:junos:17.3:*:*:*:*:*:*:*',\n",
       "     'vulnerable': True},\n",
       "    {'cpe23Uri': 'cpe:2.3:o:juniper:junos:17.3:r1:*:*:*:*:*:*',\n",
       "     'vulnerable': True},\n",
       "    {'cpe23Uri': 'cpe:2.3:o:juniper:junos:17.3:r2:*:*:*:*:*:*',\n",
       "     'vulnerable': True}],\n",
       "   'operator': 'OR'},\n",
       "  {'cpe_match': [{'cpe23Uri': 'cpe:2.3:o:juniper:junos:17.4:*:*:*:*:*:*:*',\n",
       "     'vulnerable': True},\n",
       "    {'cpe23Uri': 'cpe:2.3:o:juniper:junos:17.4:r1:*:*:*:*:*:*',\n",
       "     'vulnerable': True}],\n",
       "   'operator': 'OR'},\n",
       "  {'cpe_match': [{'cpe23Uri': 'cpe:2.3:a:juniper:junos:18.1:*:*:*:*:*:*:*',\n",
       "     'vulnerable': True},\n",
       "    {'cpe23Uri': 'cpe:2.3:a:juniper:junos:18.1:r1:*:*:*:*:*:*',\n",
       "     'vulnerable': True},\n",
       "    {'cpe23Uri': 'cpe:2.3:a:juniper:junos:18.1:r2:*:*:*:*:*:*',\n",
       "     'vulnerable': True}],\n",
       "   'operator': 'OR'},\n",
       "  {'cpe_match': [{'cpe23Uri': 'cpe:2.3:a:juniper:junos:18.2:*:*:*:*:*:*:*',\n",
       "     'vulnerable': True},\n",
       "    {'cpe23Uri': 'cpe:2.3:a:juniper:junos:18.2:r1-s3:*:*:*:*:*:*',\n",
       "     'vulnerable': True},\n",
       "    {'cpe23Uri': 'cpe:2.3:a:juniper:junos:18.2:r1-s4:*:*:*:*:*:*',\n",
       "     'vulnerable': True}],\n",
       "   'operator': 'OR'}]}"
      ]
     },
     "execution_count": 126,
     "metadata": {},
     "output_type": "execute_result"
    }
   ],
   "source": [
    "x['configurations']"
   ]
  },
  {
   "cell_type": "code",
   "execution_count": 127,
   "metadata": {},
   "outputs": [
    {
     "data": {
      "text/plain": [
       "dict_keys(['baseMetricV3', 'baseMetricV2'])"
      ]
     },
     "execution_count": 127,
     "metadata": {},
     "output_type": "execute_result"
    }
   ],
   "source": [
    "x['impact'].keys()"
   ]
  },
  {
   "cell_type": "code",
   "execution_count": 128,
   "metadata": {},
   "outputs": [
    {
     "data": {
      "text/plain": [
       "{'cvssV3': {'attackComplexity': 'HIGH',\n",
       "  'attackVector': 'NETWORK',\n",
       "  'availabilityImpact': 'HIGH',\n",
       "  'baseScore': 5.9,\n",
       "  'baseSeverity': 'MEDIUM',\n",
       "  'confidentialityImpact': 'NONE',\n",
       "  'integrityImpact': 'NONE',\n",
       "  'privilegesRequired': 'NONE',\n",
       "  'scope': 'UNCHANGED',\n",
       "  'userInteraction': 'NONE',\n",
       "  'vectorString': 'CVSS:3.0/AV:N/AC:H/PR:N/UI:N/S:U/C:N/I:N/A:H',\n",
       "  'version': '3.0'},\n",
       " 'exploitabilityScore': 2.2,\n",
       " 'impactScore': 3.6}"
      ]
     },
     "execution_count": 128,
     "metadata": {},
     "output_type": "execute_result"
    }
   ],
   "source": [
    "x['impact']['baseMetricV3']"
   ]
  },
  {
   "cell_type": "code",
   "execution_count": 130,
   "metadata": {},
   "outputs": [
    {
     "data": {
      "text/plain": [
       "5.9"
      ]
     },
     "execution_count": 130,
     "metadata": {},
     "output_type": "execute_result"
    }
   ],
   "source": [
    "x['impact']['baseMetricV3']['cvssV3']['baseScore']"
   ]
  },
  {
   "cell_type": "code",
   "execution_count": 131,
   "metadata": {},
   "outputs": [
    {
     "data": {
      "text/plain": [
       "7.1"
      ]
     },
     "execution_count": 131,
     "metadata": {},
     "output_type": "execute_result"
    }
   ],
   "source": [
    "x['impact']['baseMetricV2']['cvssV2']['baseScore']"
   ]
  },
  {
   "cell_type": "code",
   "execution_count": 133,
   "metadata": {},
   "outputs": [
    {
     "data": {
      "text/plain": [
       "'2019-01-15T21:29Z'"
      ]
     },
     "execution_count": 133,
     "metadata": {},
     "output_type": "execute_result"
    }
   ],
   "source": [
    "x['publishedDate']"
   ]
  },
  {
   "cell_type": "code",
   "execution_count": 134,
   "metadata": {},
   "outputs": [
    {
     "data": {
      "text/plain": [
       "'2019-02-14T18:35Z'"
      ]
     },
     "execution_count": 134,
     "metadata": {},
     "output_type": "execute_result"
    }
   ],
   "source": [
    "x['lastModifiedDate']"
   ]
  },
  {
   "cell_type": "code",
   "execution_count": 135,
   "metadata": {},
   "outputs": [
    {
     "data": {
      "text/plain": [
       "'CVE-2019-0001'"
      ]
     },
     "execution_count": 135,
     "metadata": {},
     "output_type": "execute_result"
    }
   ],
   "source": [
    "x['cve']['CVE_data_meta']['ID']"
   ]
  },
  {
   "cell_type": "markdown",
   "metadata": {},
   "source": [
    "## Load CVE-Recent"
   ]
  },
  {
   "cell_type": "code",
   "execution_count": 169,
   "metadata": {},
   "outputs": [],
   "source": [
    "# Load meta\n",
    "url = 'https://nvd.nist.gov/feeds/json/cve/1.0/nvdcve-1.0-recent.meta'"
   ]
  },
  {
   "cell_type": "code",
   "execution_count": 170,
   "metadata": {},
   "outputs": [
    {
     "data": {
      "text/plain": [
       "'nvdcve-1.0-recent.meta'"
      ]
     },
     "execution_count": 170,
     "metadata": {},
     "output_type": "execute_result"
    }
   ],
   "source": [
    "from os.path import basename, join\n",
    "target_name = basename(url)\n",
    "target_name"
   ]
  },
  {
   "cell_type": "code",
   "execution_count": 171,
   "metadata": {},
   "outputs": [
    {
     "data": {
      "text/plain": [
       "('/tmp/nvd/nvdcve-1.0-recent.meta',\n",
       " <http.client.HTTPMessage at 0x7f2f01805da0>)"
      ]
     },
     "execution_count": 171,
     "metadata": {},
     "output_type": "execute_result"
    }
   ],
   "source": [
    "from urllib.request import urlretrieve as download\n",
    "target_path = join(target_folder, target_name)\n",
    "download(url, filename=target_path)"
   ]
  },
  {
   "cell_type": "code",
   "execution_count": 172,
   "metadata": {},
   "outputs": [
    {
     "name": "stdout",
     "output_type": "stream",
     "text": [
      "lastModifiedDate:2019-03-14T14:00:27-04:00\n",
      "size:4038716\n",
      "zipSize:207941\n",
      "gzSize:207801\n",
      "sha256:394578DC839787F50FDAE83568F11167F3D498659B8D7E1E8B18D43FC1F0683E\n"
     ]
    }
   ],
   "source": [
    "cat $target_path"
   ]
  },
  {
   "cell_type": "code",
   "execution_count": 173,
   "metadata": {},
   "outputs": [],
   "source": [
    "# Load gz\n",
    "url = 'https://nvd.nist.gov/feeds/json/cve/1.0/nvdcve-1.0-recent.json.gz'"
   ]
  },
  {
   "cell_type": "code",
   "execution_count": 174,
   "metadata": {},
   "outputs": [
    {
     "data": {
      "text/plain": [
       "'nvdcve-1.0-recent.json.gz'"
      ]
     },
     "execution_count": 174,
     "metadata": {},
     "output_type": "execute_result"
    }
   ],
   "source": [
    "from os.path import basename, join\n",
    "target_name = basename(url)\n",
    "target_name"
   ]
  },
  {
   "cell_type": "code",
   "execution_count": 175,
   "metadata": {},
   "outputs": [
    {
     "data": {
      "text/plain": [
       "('/tmp/nvd/nvdcve-1.0-recent.json.gz',\n",
       " <http.client.HTTPMessage at 0x7f2f01805ac8>)"
      ]
     },
     "execution_count": 175,
     "metadata": {},
     "output_type": "execute_result"
    }
   ],
   "source": [
    "from urllib.request import urlretrieve as download\n",
    "target_path = join(target_folder, target_name)\n",
    "download(url, filename=target_path)"
   ]
  },
  {
   "cell_type": "code",
   "execution_count": 183,
   "metadata": {},
   "outputs": [],
   "source": [
    "import json\n",
    "d = json.load(gzip.open(target_path, 'rb'))"
   ]
  },
  {
   "cell_type": "code",
   "execution_count": 184,
   "metadata": {},
   "outputs": [
    {
     "data": {
      "text/plain": [
       "'425'"
      ]
     },
     "execution_count": 184,
     "metadata": {},
     "output_type": "execute_result"
    }
   ],
   "source": [
    "d['CVE_data_numberOfCVEs']"
   ]
  },
  {
   "cell_type": "code",
   "execution_count": 201,
   "metadata": {},
   "outputs": [],
   "source": [
    "x = d['CVE_Items'][-1]"
   ]
  },
  {
   "cell_type": "code",
   "execution_count": 202,
   "metadata": {},
   "outputs": [
    {
     "data": {
      "text/plain": [
       "dict_keys([])"
      ]
     },
     "execution_count": 202,
     "metadata": {},
     "output_type": "execute_result"
    }
   ],
   "source": [
    "x['impact'].keys()"
   ]
  },
  {
   "cell_type": "code",
   "execution_count": 203,
   "metadata": {},
   "outputs": [
    {
     "data": {
      "text/plain": [
       "'CVE-2019-9787'"
      ]
     },
     "execution_count": 203,
     "metadata": {},
     "output_type": "execute_result"
    }
   ],
   "source": [
    "x['cve']['CVE_data_meta']['ID']"
   ]
  },
  {
   "cell_type": "markdown",
   "metadata": {},
   "source": [
    "## Load CVE-Modified"
   ]
  },
  {
   "cell_type": "code",
   "execution_count": 188,
   "metadata": {},
   "outputs": [],
   "source": [
    "# Load meta\n",
    "url = 'https://nvd.nist.gov/feeds/json/cve/1.0/nvdcve-1.0-modified.meta'"
   ]
  },
  {
   "cell_type": "code",
   "execution_count": 189,
   "metadata": {},
   "outputs": [
    {
     "data": {
      "text/plain": [
       "'nvdcve-1.0-modified.meta'"
      ]
     },
     "execution_count": 189,
     "metadata": {},
     "output_type": "execute_result"
    }
   ],
   "source": [
    "from os.path import basename, join\n",
    "target_name = basename(url)\n",
    "target_name"
   ]
  },
  {
   "cell_type": "code",
   "execution_count": 190,
   "metadata": {},
   "outputs": [
    {
     "data": {
      "text/plain": [
       "('/tmp/nvd/nvdcve-1.0-modified.meta',\n",
       " <http.client.HTTPMessage at 0x7f2f01805e10>)"
      ]
     },
     "execution_count": 190,
     "metadata": {},
     "output_type": "execute_result"
    }
   ],
   "source": [
    "from urllib.request import urlretrieve as download\n",
    "target_path = join(target_folder, target_name)\n",
    "download(url, filename=target_path)"
   ]
  },
  {
   "cell_type": "code",
   "execution_count": 191,
   "metadata": {},
   "outputs": [
    {
     "name": "stdout",
     "output_type": "stream",
     "text": [
      "lastModifiedDate:2019-03-14T14:02:24-04:00\n",
      "size:27890598\n",
      "zipSize:1226286\n",
      "gzSize:1226142\n",
      "sha256:4C6267128B42E85582AE6ACE3BBC5032B97387FE60B42AA50EE08FD15485BAC8\n"
     ]
    }
   ],
   "source": [
    "cat $target_path"
   ]
  },
  {
   "cell_type": "code",
   "execution_count": 192,
   "metadata": {},
   "outputs": [],
   "source": [
    "# Load gz\n",
    "url = 'https://nvd.nist.gov/feeds/json/cve/1.0/nvdcve-1.0-modified.json.gz'"
   ]
  },
  {
   "cell_type": "code",
   "execution_count": 193,
   "metadata": {},
   "outputs": [
    {
     "data": {
      "text/plain": [
       "'nvdcve-1.0-modified.json.gz'"
      ]
     },
     "execution_count": 193,
     "metadata": {},
     "output_type": "execute_result"
    }
   ],
   "source": [
    "from os.path import basename, join\n",
    "target_name = basename(url)\n",
    "target_name"
   ]
  },
  {
   "cell_type": "code",
   "execution_count": 194,
   "metadata": {},
   "outputs": [
    {
     "data": {
      "text/plain": [
       "('/tmp/nvd/nvdcve-1.0-modified.json.gz',\n",
       " <http.client.HTTPMessage at 0x7f2efcf43470>)"
      ]
     },
     "execution_count": 194,
     "metadata": {},
     "output_type": "execute_result"
    }
   ],
   "source": [
    "from urllib.request import urlretrieve as download\n",
    "target_path = join(target_folder, target_name)\n",
    "download(url, filename=target_path)"
   ]
  },
  {
   "cell_type": "code",
   "execution_count": 195,
   "metadata": {},
   "outputs": [],
   "source": [
    "import gzip\n",
    "with gzip.open(target_path, 'rb') as f:\n",
    "    content = f.read()"
   ]
  },
  {
   "cell_type": "code",
   "execution_count": 196,
   "metadata": {},
   "outputs": [],
   "source": [
    "import json\n",
    "d = json.load(gzip.open(target_path, 'rb'))"
   ]
  },
  {
   "cell_type": "code",
   "execution_count": 197,
   "metadata": {},
   "outputs": [
    {
     "data": {
      "text/plain": [
       "'1934'"
      ]
     },
     "execution_count": 197,
     "metadata": {},
     "output_type": "execute_result"
    }
   ],
   "source": [
    "d['CVE_data_numberOfCVEs']"
   ]
  },
  {
   "cell_type": "code",
   "execution_count": 204,
   "metadata": {},
   "outputs": [],
   "source": [
    "x = d['CVE_Items'][-1]"
   ]
  },
  {
   "cell_type": "code",
   "execution_count": 205,
   "metadata": {},
   "outputs": [
    {
     "data": {
      "text/plain": [
       "dict_keys([])"
      ]
     },
     "execution_count": 205,
     "metadata": {},
     "output_type": "execute_result"
    }
   ],
   "source": [
    "x['impact'].keys()"
   ]
  },
  {
   "cell_type": "code",
   "execution_count": 206,
   "metadata": {},
   "outputs": [
    {
     "data": {
      "text/plain": [
       "'CVE-2019-9787'"
      ]
     },
     "execution_count": 206,
     "metadata": {},
     "output_type": "execute_result"
    }
   ],
   "source": [
    "x['cve']['CVE_data_meta']['ID']"
   ]
  },
  {
   "cell_type": "markdown",
   "metadata": {},
   "source": [
    "I think we should do a full import once a month. We can check modified once a week. We can check recent every day."
   ]
  }
 ],
 "metadata": {
  "kernelspec": {
   "display_name": "Python 3",
   "language": "python",
   "name": "python3"
  },
  "language_info": {
   "codemirror_mode": {
    "name": "ipython",
    "version": 3
   },
   "file_extension": ".py",
   "mimetype": "text/x-python",
   "name": "python",
   "nbconvert_exporter": "python",
   "pygments_lexer": "ipython3",
   "version": "3.6.6"
  }
 },
 "nbformat": 4,
 "nbformat_minor": 2
}
