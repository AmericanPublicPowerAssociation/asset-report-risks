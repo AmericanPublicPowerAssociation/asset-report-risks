{
 "cells": [
  {
   "cell_type": "code",
   "execution_count": 1,
   "metadata": {},
   "outputs": [
    {
     "data": {
      "text/plain": [
       "'/home/rhh/Experiments/asset-vulnerability-report/datasets/nvdcve-1.0-2017.json'"
      ]
     },
     "execution_count": 1,
     "metadata": {},
     "output_type": "execute_result"
    }
   ],
   "source": [
    "from asset_vulnerability_report.settings import DATASET_FOLDER\n",
    "from glob import glob\n",
    "from os.path import join\n",
    "\n",
    "source_paths = sorted(glob(join(DATASET_FOLDER, '*.json')))\n",
    "source_path = source_paths[-3]\n",
    "source_path"
   ]
  },
  {
   "cell_type": "code",
   "execution_count": 4,
   "metadata": {},
   "outputs": [],
   "source": [
    "import json\n",
    "d = json.load(open(source_path))"
   ]
  },
  {
   "cell_type": "code",
   "execution_count": 5,
   "metadata": {},
   "outputs": [
    {
     "data": {
      "text/plain": [
       "dict_keys(['CVE_data_type', 'CVE_data_format', 'CVE_data_version', 'CVE_data_numberOfCVEs', 'CVE_data_timestamp', 'CVE_Items'])"
      ]
     },
     "execution_count": 5,
     "metadata": {},
     "output_type": "execute_result"
    }
   ],
   "source": [
    "d.keys()"
   ]
  },
  {
   "cell_type": "code",
   "execution_count": 7,
   "metadata": {},
   "outputs": [],
   "source": [
    "i = d['CVE_Items'][0]"
   ]
  },
  {
   "cell_type": "markdown",
   "metadata": {},
   "source": [
    "# ID"
   ]
  },
  {
   "cell_type": "code",
   "execution_count": 23,
   "metadata": {},
   "outputs": [
    {
     "data": {
      "text/plain": [
       "'CVE-2017-0001'"
      ]
     },
     "execution_count": 23,
     "metadata": {},
     "output_type": "execute_result"
    }
   ],
   "source": [
    "i['cve']['CVE_data_meta']['ID']"
   ]
  },
  {
   "cell_type": "markdown",
   "metadata": {},
   "source": [
    "# URIs"
   ]
  },
  {
   "cell_type": "code",
   "execution_count": 50,
   "metadata": {},
   "outputs": [],
   "source": [
    "from itertools import chain\n",
    "\n",
    "def extract_cpe_matches(node):\n",
    "    if 'cpe_match' in node:\n",
    "        return node['cpe_match']\n",
    "    if 'children' in node:\n",
    "        return chain(*[extract_cpe_matches(_) for _ in node['children']])\n",
    "    return []"
   ]
  },
  {
   "cell_type": "code",
   "execution_count": 55,
   "metadata": {},
   "outputs": [
    {
     "data": {
      "text/plain": [
       "['o:microsoft:windows_10:-:*:*:*:*:*:*:*',\n",
       " 'o:microsoft:windows_10:1511:*:*:*:*:*:*:*',\n",
       " 'o:microsoft:windows_10:1607:*:*:*:*:*:*:*',\n",
       " 'o:microsoft:windows_7:*:sp1:*:*:*:*:*:*',\n",
       " 'o:microsoft:windows_8.1:*:*:*:*:*:*:*:*',\n",
       " 'o:microsoft:windows_rt_8.1:*:*:*:*:*:*:*:*',\n",
       " 'o:microsoft:windows_server_2008:*:sp2:*:*:*:*:*:*',\n",
       " 'o:microsoft:windows_server_2008:r2:sp1:*:*:*:*:*:*',\n",
       " 'o:microsoft:windows_server_2012:-:*:*:*:*:*:*:*',\n",
       " 'o:microsoft:windows_server_2012:r2:*:*:*:*:*:*:*',\n",
       " 'o:microsoft:windows_vista:*:sp2:*:*:*:*:*:*']"
      ]
     },
     "execution_count": 55,
     "metadata": {},
     "output_type": "execute_result"
    }
   ],
   "source": [
    "uris = []\n",
    "for node in i['configurations']['nodes']:\n",
    "    for cpe_match in extract_cpe_matches(node):\n",
    "        uris.append(cpe_match['cpe23Uri'][8:])\n",
    "uris"
   ]
  },
  {
   "cell_type": "markdown",
   "metadata": {},
   "source": [
    "# Text"
   ]
  },
  {
   "cell_type": "code",
   "execution_count": 45,
   "metadata": {},
   "outputs": [
    {
     "data": {
      "text/plain": [
       "['The Graphics Device Interface (GDI) in Microsoft Windows Vista SP2; Windows Server 2008 SP2 and R2 SP1; Windows 7 SP1; Windows 8.1; Windows Server 2012 Gold and R2; Windows RT 8.1; and Windows 10 Gold, 1511, and 1607 allows local users to gain privileges via a crafted application, aka \"Windows GDI Elevation of Privilege Vulnerability.\" This vulnerability is different from those described in CVE-2017-0005, CVE-2017-0025, and CVE-2017-0047.']"
      ]
     },
     "execution_count": 45,
     "metadata": {},
     "output_type": "execute_result"
    }
   ],
   "source": [
    "texts = []\n",
    "for description in i['cve']['description']['description_data']:\n",
    "    if description['lang'] != 'en':\n",
    "        continue\n",
    "    texts.append(description['value'])\n",
    "texts"
   ]
  },
  {
   "cell_type": "code",
   "execution_count": 47,
   "metadata": {},
   "outputs": [],
   "source": [
    "assert len(texts) == 1"
   ]
  },
  {
   "cell_type": "markdown",
   "metadata": {},
   "source": [
    "# Date"
   ]
  },
  {
   "cell_type": "code",
   "execution_count": 40,
   "metadata": {},
   "outputs": [
    {
     "data": {
      "text/plain": [
       "datetime.datetime(2017, 3, 17, 0, 59)"
      ]
     },
     "execution_count": 40,
     "metadata": {},
     "output_type": "execute_result"
    }
   ],
   "source": [
    "from datetime import datetime\n",
    "datetime.strptime(i['publishedDate'], '%Y-%m-%dT%H:%MZ')"
   ]
  },
  {
   "cell_type": "markdown",
   "metadata": {},
   "source": [
    "# Score"
   ]
  },
  {
   "cell_type": "code",
   "execution_count": 21,
   "metadata": {},
   "outputs": [],
   "source": [
    "i['impact']['baseMetricV3']['cvssV3']['baseScore']"
   ]
  },
  {
   "cell_type": "code",
   "execution_count": 20,
   "metadata": {},
   "outputs": [
    {
     "data": {
      "text/plain": [
       "7.2"
      ]
     },
     "execution_count": 20,
     "metadata": {},
     "output_type": "execute_result"
    }
   ],
   "source": [
    "i['impact']['baseMetricV2']['cvssV2']['baseScore']"
   ]
  }
 ],
 "metadata": {
  "kernelspec": {
   "display_name": "Python 3",
   "language": "python",
   "name": "python3"
  },
  "language_info": {
   "codemirror_mode": {
    "name": "ipython",
    "version": 3
   },
   "file_extension": ".py",
   "mimetype": "text/x-python",
   "name": "python",
   "nbconvert_exporter": "python",
   "pygments_lexer": "ipython3",
   "version": "3.6.6"
  }
 },
 "nbformat": 4,
 "nbformat_minor": 2
}
