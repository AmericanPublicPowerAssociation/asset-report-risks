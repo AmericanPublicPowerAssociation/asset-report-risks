{
 "cells": [
  {
   "cell_type": "code",
   "execution_count": 2,
   "metadata": {},
   "outputs": [
    {
     "data": {
      "text/plain": [
       "'/home/rhh/Experiments/nvd/datasets/nvdcve-1.0-2017.json'"
      ]
     },
     "execution_count": 2,
     "metadata": {},
     "output_type": "execute_result"
    }
   ],
   "source": [
    "from glob import glob\n",
    "from os.path import expanduser\n",
    "\n",
    "source_paths = sorted(glob(expanduser('/home/rhh/Experiments/nvd/datasets/*.json')))\n",
    "source_path = source_paths[-3]\n",
    "source_path"
   ]
  },
  {
   "cell_type": "code",
   "execution_count": 3,
   "metadata": {},
   "outputs": [],
   "source": [
    "import json\n",
    "d = json.load(open(source_path))"
   ]
  },
  {
   "cell_type": "code",
   "execution_count": 4,
   "metadata": {},
   "outputs": [
    {
     "data": {
      "text/plain": [
       "'CVE'"
      ]
     },
     "execution_count": 4,
     "metadata": {},
     "output_type": "execute_result"
    }
   ],
   "source": [
    "d['CVE_data_type']"
   ]
  },
  {
   "cell_type": "code",
   "execution_count": 5,
   "metadata": {},
   "outputs": [
    {
     "data": {
      "text/plain": [
       "'MITRE'"
      ]
     },
     "execution_count": 5,
     "metadata": {},
     "output_type": "execute_result"
    }
   ],
   "source": [
    "d['CVE_data_format']"
   ]
  },
  {
   "cell_type": "code",
   "execution_count": 6,
   "metadata": {},
   "outputs": [
    {
     "data": {
      "text/plain": [
       "'4.0'"
      ]
     },
     "execution_count": 6,
     "metadata": {},
     "output_type": "execute_result"
    }
   ],
   "source": [
    "d['CVE_data_version']"
   ]
  },
  {
   "cell_type": "code",
   "execution_count": 7,
   "metadata": {},
   "outputs": [
    {
     "data": {
      "text/plain": [
       "'15165'"
      ]
     },
     "execution_count": 7,
     "metadata": {},
     "output_type": "execute_result"
    }
   ],
   "source": [
    "d['CVE_data_numberOfCVEs']"
   ]
  },
  {
   "cell_type": "code",
   "execution_count": 8,
   "metadata": {},
   "outputs": [
    {
     "data": {
      "text/plain": [
       "'2019-03-14T07:16Z'"
      ]
     },
     "execution_count": 8,
     "metadata": {},
     "output_type": "execute_result"
    }
   ],
   "source": [
    "d['CVE_data_timestamp']"
   ]
  },
  {
   "cell_type": "code",
   "execution_count": 9,
   "metadata": {},
   "outputs": [],
   "source": [
    "from pprint import pprint"
   ]
  },
  {
   "cell_type": "code",
   "execution_count": 10,
   "metadata": {},
   "outputs": [],
   "source": [
    "xs = []\n",
    "for x in d['CVE_Items']:\n",
    "    try:\n",
    "        vendor_name = x['cve']['affects']['vendor']['vendor_data'][0]['vendor_name']\n",
    "    except IndexError:\n",
    "        continue\n",
    "    if vendor_name == 'selinc':\n",
    "        # pprint(x)\n",
    "        xs.append(x)"
   ]
  },
  {
   "cell_type": "code",
   "execution_count": 11,
   "metadata": {},
   "outputs": [
    {
     "data": {
      "text/plain": [
       "1"
      ]
     },
     "execution_count": 11,
     "metadata": {},
     "output_type": "execute_result"
    }
   ],
   "source": [
    "len(xs)"
   ]
  },
  {
   "cell_type": "code",
   "execution_count": 12,
   "metadata": {},
   "outputs": [],
   "source": [
    "x = xs[0]"
   ]
  },
  {
   "cell_type": "code",
   "execution_count": 13,
   "metadata": {},
   "outputs": [
    {
     "data": {
      "text/plain": [
       "dict_keys(['cve', 'configurations', 'impact', 'publishedDate', 'lastModifiedDate'])"
      ]
     },
     "execution_count": 13,
     "metadata": {},
     "output_type": "execute_result"
    }
   ],
   "source": [
    "x.keys()"
   ]
  },
  {
   "cell_type": "code",
   "execution_count": 14,
   "metadata": {},
   "outputs": [
    {
     "data": {
      "text/plain": [
       "'2017-08-24T16:48Z'"
      ]
     },
     "execution_count": 14,
     "metadata": {},
     "output_type": "execute_result"
    }
   ],
   "source": [
    "x['lastModifiedDate']"
   ]
  },
  {
   "cell_type": "code",
   "execution_count": 15,
   "metadata": {},
   "outputs": [
    {
     "data": {
      "text/plain": [
       "'2017-08-07T08:29Z'"
      ]
     },
     "execution_count": 15,
     "metadata": {},
     "output_type": "execute_result"
    }
   ],
   "source": [
    "x['publishedDate']"
   ]
  },
  {
   "cell_type": "code",
   "execution_count": 16,
   "metadata": {},
   "outputs": [
    {
     "data": {
      "text/plain": [
       "{'baseMetricV2': {'cvssV2': {'accessComplexity': 'LOW',\n",
       "   'accessVector': 'NETWORK',\n",
       "   'authentication': 'NONE',\n",
       "   'availabilityImpact': 'PARTIAL',\n",
       "   'baseScore': 7.5,\n",
       "   'confidentialityImpact': 'PARTIAL',\n",
       "   'integrityImpact': 'PARTIAL',\n",
       "   'vectorString': 'AV:N/AC:L/Au:N/C:P/I:P/A:P',\n",
       "   'version': '2.0'},\n",
       "  'exploitabilityScore': 10.0,\n",
       "  'impactScore': 6.4,\n",
       "  'obtainAllPrivilege': False,\n",
       "  'obtainOtherPrivilege': False,\n",
       "  'obtainUserPrivilege': False,\n",
       "  'severity': 'HIGH',\n",
       "  'userInteractionRequired': False},\n",
       " 'baseMetricV3': {'cvssV3': {'attackComplexity': 'LOW',\n",
       "   'attackVector': 'NETWORK',\n",
       "   'availabilityImpact': 'HIGH',\n",
       "   'baseScore': 10.0,\n",
       "   'baseSeverity': 'CRITICAL',\n",
       "   'confidentialityImpact': 'HIGH',\n",
       "   'integrityImpact': 'HIGH',\n",
       "   'privilegesRequired': 'NONE',\n",
       "   'scope': 'CHANGED',\n",
       "   'userInteraction': 'NONE',\n",
       "   'vectorString': 'CVSS:3.0/AV:N/AC:L/PR:N/UI:N/S:C/C:H/I:H/A:H',\n",
       "   'version': '3.0'},\n",
       "  'exploitabilityScore': 3.9,\n",
       "  'impactScore': 6.0}}"
      ]
     },
     "execution_count": 16,
     "metadata": {},
     "output_type": "execute_result"
    }
   ],
   "source": [
    "x['impact']"
   ]
  },
  {
   "cell_type": "code",
   "execution_count": 17,
   "metadata": {},
   "outputs": [
    {
     "data": {
      "text/plain": [
       "dict_keys(['cvssV3', 'exploitabilityScore', 'impactScore'])"
      ]
     },
     "execution_count": 17,
     "metadata": {},
     "output_type": "execute_result"
    }
   ],
   "source": [
    "x['impact']['baseMetricV3'].keys()"
   ]
  },
  {
   "cell_type": "code",
   "execution_count": 18,
   "metadata": {},
   "outputs": [
    {
     "data": {
      "text/plain": [
       "{'cvssV3': {'attackComplexity': 'LOW',\n",
       "  'attackVector': 'NETWORK',\n",
       "  'availabilityImpact': 'HIGH',\n",
       "  'baseScore': 10.0,\n",
       "  'baseSeverity': 'CRITICAL',\n",
       "  'confidentialityImpact': 'HIGH',\n",
       "  'integrityImpact': 'HIGH',\n",
       "  'privilegesRequired': 'NONE',\n",
       "  'scope': 'CHANGED',\n",
       "  'userInteraction': 'NONE',\n",
       "  'vectorString': 'CVSS:3.0/AV:N/AC:L/PR:N/UI:N/S:C/C:H/I:H/A:H',\n",
       "  'version': '3.0'},\n",
       " 'exploitabilityScore': 3.9,\n",
       " 'impactScore': 6.0}"
      ]
     },
     "execution_count": 18,
     "metadata": {},
     "output_type": "execute_result"
    }
   ],
   "source": [
    "x['impact']['baseMetricV3']"
   ]
  },
  {
   "cell_type": "code",
   "execution_count": 19,
   "metadata": {},
   "outputs": [
    {
     "data": {
      "text/plain": [
       "10.0"
      ]
     },
     "execution_count": 19,
     "metadata": {},
     "output_type": "execute_result"
    }
   ],
   "source": [
    "x['impact']['baseMetricV3']['cvssV3']['baseScore']"
   ]
  },
  {
   "cell_type": "code",
   "execution_count": 20,
   "metadata": {},
   "outputs": [
    {
     "data": {
      "text/plain": [
       "{'CVE_data_version': '4.0',\n",
       " 'nodes': [{'children': [{'cpe_match': [{'cpe23Uri': 'cpe:2.3:o:selinc:sel-3620_firmware:r202:*:*:*:*:*:*:*',\n",
       "       'vulnerable': True},\n",
       "      {'cpe23Uri': 'cpe:2.3:o:selinc:sel-3620_firmware:r203:*:*:*:*:*:*:*',\n",
       "       'vulnerable': True},\n",
       "      {'cpe23Uri': 'cpe:2.3:o:selinc:sel-3620_firmware:r203-v:*:*:*:*:*:*:*',\n",
       "       'vulnerable': True},\n",
       "      {'cpe23Uri': 'cpe:2.3:o:selinc:sel-3620_firmware:r203-v1:*:*:*:*:*:*:*',\n",
       "       'vulnerable': True},\n",
       "      {'cpe23Uri': 'cpe:2.3:o:selinc:sel-3620_firmware:r204:*:*:*:*:*:*:*',\n",
       "       'vulnerable': True},\n",
       "      {'cpe23Uri': 'cpe:2.3:o:selinc:sel-3620_firmware:r204-v1:*:*:*:*:*:*:*',\n",
       "       'vulnerable': True}],\n",
       "     'operator': 'OR'},\n",
       "    {'cpe_match': [{'cpe23Uri': 'cpe:2.3:h:selinc:sel-3620:-:*:*:*:*:*:*:*',\n",
       "       'vulnerable': False}],\n",
       "     'operator': 'OR'}],\n",
       "   'operator': 'AND'},\n",
       "  {'children': [{'cpe_match': [{'cpe23Uri': 'cpe:2.3:o:selinc:sel-3622_firmware:r202:*:*:*:*:*:*:*',\n",
       "       'vulnerable': True},\n",
       "      {'cpe23Uri': 'cpe:2.3:o:selinc:sel-3622_firmware:r203:*:*:*:*:*:*:*',\n",
       "       'vulnerable': True},\n",
       "      {'cpe23Uri': 'cpe:2.3:o:selinc:sel-3622_firmware:r203-v:*:*:*:*:*:*:*',\n",
       "       'vulnerable': True},\n",
       "      {'cpe23Uri': 'cpe:2.3:o:selinc:sel-3622_firmware:r203-v1:*:*:*:*:*:*:*',\n",
       "       'vulnerable': True},\n",
       "      {'cpe23Uri': 'cpe:2.3:o:selinc:sel-3622_firmware:r204:*:*:*:*:*:*:*',\n",
       "       'vulnerable': True},\n",
       "      {'cpe23Uri': 'cpe:2.3:o:selinc:sel-3622_firmware:r204-v1:*:*:*:*:*:*:*',\n",
       "       'vulnerable': True}],\n",
       "     'operator': 'OR'},\n",
       "    {'cpe_match': [{'cpe23Uri': 'cpe:2.3:h:selinc:sel-3622:-:*:*:*:*:*:*:*',\n",
       "       'vulnerable': False}],\n",
       "     'operator': 'OR'}],\n",
       "   'operator': 'AND'}]}"
      ]
     },
     "execution_count": 20,
     "metadata": {},
     "output_type": "execute_result"
    }
   ],
   "source": [
    "x['configurations']"
   ]
  },
  {
   "cell_type": "code",
   "execution_count": 21,
   "metadata": {},
   "outputs": [
    {
     "data": {
      "text/plain": [
       "{'CVE_data_meta': {'ASSIGNER': 'cve@mitre.org', 'ID': 'CVE-2017-7928'},\n",
       " 'affects': {'vendor': {'vendor_data': [{'product': {'product_data': [{'product_name': 'sel-3620_firmware',\n",
       "        'version': {'version_data': [{'version_affected': '=',\n",
       "           'version_value': 'r202'},\n",
       "          {'version_affected': '=', 'version_value': 'r203'},\n",
       "          {'version_affected': '=', 'version_value': 'r203-v'},\n",
       "          {'version_affected': '=', 'version_value': 'r203-v1'},\n",
       "          {'version_affected': '=', 'version_value': 'r204'},\n",
       "          {'version_affected': '=', 'version_value': 'r204-v1'}]}},\n",
       "       {'product_name': 'sel-3622_firmware',\n",
       "        'version': {'version_data': [{'version_affected': '=',\n",
       "           'version_value': 'r202'},\n",
       "          {'version_affected': '=', 'version_value': 'r203'},\n",
       "          {'version_affected': '=', 'version_value': 'r203-v'},\n",
       "          {'version_affected': '=', 'version_value': 'r203-v1'},\n",
       "          {'version_affected': '=', 'version_value': 'r204'},\n",
       "          {'version_affected': '=', 'version_value': 'r204-v1'}]}}]},\n",
       "     'vendor_name': 'selinc'}]}},\n",
       " 'data_format': 'MITRE',\n",
       " 'data_type': 'CVE',\n",
       " 'data_version': '4.0',\n",
       " 'description': {'description_data': [{'lang': 'en',\n",
       "    'value': 'An Improper Access Control issue was discovered in Schweitzer Engineering Laboratories (SEL) SEL-3620 and SEL-3622 Security Gateway Versions R202 and, R203, R203-V1, R203-V2 and, R204, R204-V1. The device does not properly enforce access control while configured for NAT port forwarding, which may allow for unauthorized communications to downstream devices.'}]},\n",
       " 'problemtype': {'problemtype_data': [{'description': [{'lang': 'en',\n",
       "      'value': 'CWE-264'}]}]},\n",
       " 'references': {'reference_data': [{'name': '99536',\n",
       "    'refsource': 'BID',\n",
       "    'tags': ['Third Party Advisory', 'VDB Entry'],\n",
       "    'url': 'http://www.securityfocus.com/bid/99536'},\n",
       "   {'name': 'https://ics-cert.us-cert.gov/advisories/ICSA-17-192-06',\n",
       "    'refsource': 'MISC',\n",
       "    'tags': ['Mitigation', 'Third Party Advisory', 'US Government Resource'],\n",
       "    'url': 'https://ics-cert.us-cert.gov/advisories/ICSA-17-192-06'}]}}"
      ]
     },
     "execution_count": 21,
     "metadata": {},
     "output_type": "execute_result"
    }
   ],
   "source": [
    "x['cve']"
   ]
  },
  {
   "cell_type": "markdown",
   "metadata": {},
   "source": [
    "# Check Different Values for Versions Affected"
   ]
  },
  {
   "cell_type": "code",
   "execution_count": 22,
   "metadata": {},
   "outputs": [
    {
     "data": {
      "text/plain": [
       "'selinc'"
      ]
     },
     "execution_count": 22,
     "metadata": {},
     "output_type": "execute_result"
    }
   ],
   "source": [
    "x['cve']['affects']['vendor']['vendor_data'][0]['vendor_name']"
   ]
  },
  {
   "cell_type": "code",
   "execution_count": 23,
   "metadata": {},
   "outputs": [
    {
     "data": {
      "text/plain": [
       "{'product_name': 'sel-3620_firmware',\n",
       " 'version': {'version_data': [{'version_affected': '=',\n",
       "    'version_value': 'r202'},\n",
       "   {'version_affected': '=', 'version_value': 'r203'},\n",
       "   {'version_affected': '=', 'version_value': 'r203-v'},\n",
       "   {'version_affected': '=', 'version_value': 'r203-v1'},\n",
       "   {'version_affected': '=', 'version_value': 'r204'},\n",
       "   {'version_affected': '=', 'version_value': 'r204-v1'}]}}"
      ]
     },
     "execution_count": 23,
     "metadata": {},
     "output_type": "execute_result"
    }
   ],
   "source": [
    "x['cve']['affects']['vendor']['vendor_data'][0]['product']['product_data'][0]"
   ]
  },
  {
   "cell_type": "code",
   "execution_count": 24,
   "metadata": {},
   "outputs": [
    {
     "data": {
      "text/plain": [
       "'sel-3620_firmware'"
      ]
     },
     "execution_count": 24,
     "metadata": {},
     "output_type": "execute_result"
    }
   ],
   "source": [
    "x['cve']['affects']['vendor']['vendor_data'][0]['product']['product_data'][0]['product_name']"
   ]
  },
  {
   "cell_type": "code",
   "execution_count": 25,
   "metadata": {},
   "outputs": [
    {
     "data": {
      "text/plain": [
       "{'version_data': [{'version_affected': '=', 'version_value': 'r202'},\n",
       "  {'version_affected': '=', 'version_value': 'r203'},\n",
       "  {'version_affected': '=', 'version_value': 'r203-v'},\n",
       "  {'version_affected': '=', 'version_value': 'r203-v1'},\n",
       "  {'version_affected': '=', 'version_value': 'r204'},\n",
       "  {'version_affected': '=', 'version_value': 'r204-v1'}]}"
      ]
     },
     "execution_count": 25,
     "metadata": {},
     "output_type": "execute_result"
    }
   ],
   "source": [
    "x['cve']['affects']['vendor']['vendor_data'][0]['product']['product_data'][0]['version']"
   ]
  },
  {
   "cell_type": "code",
   "execution_count": 26,
   "metadata": {},
   "outputs": [
    {
     "data": {
      "text/plain": [
       "{'version_affected': '=', 'version_value': 'r202'}"
      ]
     },
     "execution_count": 26,
     "metadata": {},
     "output_type": "execute_result"
    }
   ],
   "source": [
    "x['cve']['affects']['vendor']['vendor_data'][0]['product']['product_data'][0]['version']['version_data'][0]"
   ]
  },
  {
   "cell_type": "code",
   "execution_count": 27,
   "metadata": {},
   "outputs": [
    {
     "data": {
      "text/plain": [
       "'='"
      ]
     },
     "execution_count": 27,
     "metadata": {},
     "output_type": "execute_result"
    }
   ],
   "source": [
    "x['cve']['affects']['vendor']['vendor_data'][0]['product']['product_data'][0]['version']['version_data'][0]['version_affected']"
   ]
  },
  {
   "cell_type": "code",
   "execution_count": 28,
   "metadata": {},
   "outputs": [
    {
     "data": {
      "text/plain": [
       "{'product_name': 'sel-3622_firmware',\n",
       " 'version': {'version_data': [{'version_affected': '=',\n",
       "    'version_value': 'r202'},\n",
       "   {'version_affected': '=', 'version_value': 'r203'},\n",
       "   {'version_affected': '=', 'version_value': 'r203-v'},\n",
       "   {'version_affected': '=', 'version_value': 'r203-v1'},\n",
       "   {'version_affected': '=', 'version_value': 'r204'},\n",
       "   {'version_affected': '=', 'version_value': 'r204-v1'}]}}"
      ]
     },
     "execution_count": 28,
     "metadata": {},
     "output_type": "execute_result"
    }
   ],
   "source": [
    "x['cve']['affects']['vendor']['vendor_data'][0]['product']['product_data'][1]"
   ]
  },
  {
   "cell_type": "code",
   "execution_count": 29,
   "metadata": {},
   "outputs": [],
   "source": [
    "values = set()"
   ]
  },
  {
   "cell_type": "code",
   "execution_count": 30,
   "metadata": {},
   "outputs": [],
   "source": [
    "xs = d['CVE_Items']"
   ]
  },
  {
   "cell_type": "code",
   "execution_count": 31,
   "metadata": {},
   "outputs": [
    {
     "data": {
      "text/plain": [
       "'/home/rhh/Experiments/nvd/datasets'"
      ]
     },
     "execution_count": 31,
     "metadata": {},
     "output_type": "execute_result"
    }
   ],
   "source": [
    "from os.path import expanduser, join\n",
    "folder = expanduser('~/Experiments/nvd/datasets')\n",
    "folder"
   ]
  },
  {
   "cell_type": "code",
   "execution_count": 32,
   "metadata": {},
   "outputs": [],
   "source": [
    "from glob import glob"
   ]
  },
  {
   "cell_type": "code",
   "execution_count": 33,
   "metadata": {},
   "outputs": [
    {
     "name": "stdout",
     "output_type": "stream",
     "text": [
      "/home/rhh/Experiments/nvd/datasets/nvdcve-1.0-2002.json\n",
      "/home/rhh/Experiments/nvd/datasets/nvdcve-1.0-2003.json\n",
      "/home/rhh/Experiments/nvd/datasets/nvdcve-1.0-2004.json\n",
      "/home/rhh/Experiments/nvd/datasets/nvdcve-1.0-2005.json\n",
      "/home/rhh/Experiments/nvd/datasets/nvdcve-1.0-2006.json\n",
      "/home/rhh/Experiments/nvd/datasets/nvdcve-1.0-2007.json\n",
      "/home/rhh/Experiments/nvd/datasets/nvdcve-1.0-2008.json\n",
      "/home/rhh/Experiments/nvd/datasets/nvdcve-1.0-2009.json\n",
      "/home/rhh/Experiments/nvd/datasets/nvdcve-1.0-2010.json\n",
      "/home/rhh/Experiments/nvd/datasets/nvdcve-1.0-2011.json\n",
      "/home/rhh/Experiments/nvd/datasets/nvdcve-1.0-2012.json\n",
      "/home/rhh/Experiments/nvd/datasets/nvdcve-1.0-2013.json\n",
      "/home/rhh/Experiments/nvd/datasets/nvdcve-1.0-2014.json\n",
      "/home/rhh/Experiments/nvd/datasets/nvdcve-1.0-2015.json\n",
      "/home/rhh/Experiments/nvd/datasets/nvdcve-1.0-2016.json\n",
      "/home/rhh/Experiments/nvd/datasets/nvdcve-1.0-2017.json\n",
      "/home/rhh/Experiments/nvd/datasets/nvdcve-1.0-2018.json\n",
      "/home/rhh/Experiments/nvd/datasets/nvdcve-1.0-2019.json\n"
     ]
    }
   ],
   "source": [
    "for path in sorted(glob(join(folder, '*.json'))):\n",
    "    print(path)"
   ]
  },
  {
   "cell_type": "code",
   "execution_count": 34,
   "metadata": {},
   "outputs": [],
   "source": [
    "for x in xs:\n",
    "    for vendor_data in x['cve']['affects']['vendor']['vendor_data']:\n",
    "        for product_data in vendor_data['product']['product_data']:\n",
    "            for version_data in product_data['version']['version_data']:\n",
    "                values.add(version_data['version_affected'])"
   ]
  },
  {
   "cell_type": "code",
   "execution_count": 35,
   "metadata": {},
   "outputs": [
    {
     "data": {
      "text/plain": [
       "{'<=', '='}"
      ]
     },
     "execution_count": 35,
     "metadata": {},
     "output_type": "execute_result"
    }
   ],
   "source": [
    "values"
   ]
  },
  {
   "cell_type": "code",
   "execution_count": 36,
   "metadata": {},
   "outputs": [],
   "source": [
    "for path in sorted(glob(join(folder, '*.json'))):\n",
    "    d = json.load(open(path))\n",
    "    for cve_item in d['CVE_Items']:\n",
    "        for vendor_data in cve_item['cve']['affects']['vendor']['vendor_data']:\n",
    "            for product_data in vendor_data['product']['product_data']:\n",
    "                for version_data in product_data['version']['version_data']:\n",
    "                    values.add(version_data['version_affected'])"
   ]
  },
  {
   "cell_type": "code",
   "execution_count": 37,
   "metadata": {},
   "outputs": [
    {
     "data": {
      "text/plain": [
       "{'<=', '='}"
      ]
     },
     "execution_count": 37,
     "metadata": {},
     "output_type": "execute_result"
    }
   ],
   "source": [
    "values"
   ]
  },
  {
   "cell_type": "markdown",
   "metadata": {},
   "source": [
    "# Examine Values"
   ]
  },
  {
   "cell_type": "code",
   "execution_count": 38,
   "metadata": {},
   "outputs": [],
   "source": [
    "ds = []\n",
    "for path in sorted(glob(join(folder, '*.json'))):\n",
    "    d = json.load(open(path))\n",
    "    ds.append(d)"
   ]
  },
  {
   "cell_type": "code",
   "execution_count": 39,
   "metadata": {},
   "outputs": [
    {
     "data": {
      "text/plain": [
       "['CVE-1999-0001', 'CVE-1999-0002', 'CVE-1999-0003']"
      ]
     },
     "execution_count": 39,
     "metadata": {},
     "output_type": "execute_result"
    }
   ],
   "source": [
    "ids = []\n",
    "for d in ds:\n",
    "    for cve_item in d['CVE_Items']:\n",
    "        id = cve_item['cve']['CVE_data_meta']['ID']\n",
    "        ids.append(id)\n",
    "ids[:3]"
   ]
  },
  {
   "cell_type": "code",
   "execution_count": 40,
   "metadata": {},
   "outputs": [
    {
     "data": {
      "text/plain": [
       "['bowenehs', 'zhou_bo', 'extensis']"
      ]
     },
     "execution_count": 40,
     "metadata": {},
     "output_type": "execute_result"
    }
   ],
   "source": [
    "vendor_names = set()\n",
    "for d in ds:\n",
    "    for cve_item in d['CVE_Items']:\n",
    "        for vendor_data in cve_item['cve']['affects']['vendor']['vendor_data']:\n",
    "            vendor_name = vendor_data['vendor_name']\n",
    "            vendor_names.add(vendor_name)\n",
    "vendor_names = list(vendor_names)\n",
    "vendor_names[:3]"
   ]
  },
  {
   "cell_type": "code",
   "execution_count": 41,
   "metadata": {},
   "outputs": [
    {
     "data": {
      "text/plain": [
       "['zziplib', 'zziplib_project', 'zzzcms']"
      ]
     },
     "execution_count": 41,
     "metadata": {},
     "output_type": "execute_result"
    }
   ],
   "source": [
    "sorted(vendor_names)[-3:]"
   ]
  },
  {
   "cell_type": "code",
   "execution_count": 42,
   "metadata": {},
   "outputs": [
    {
     "data": {
      "text/plain": [
       "['rational_quality_manager', 'mailscanner', 'ipvc-3510-mcu']"
      ]
     },
     "execution_count": 42,
     "metadata": {},
     "output_type": "execute_result"
    }
   ],
   "source": [
    "product_names = set()\n",
    "for d in ds:\n",
    "    for cve_item in d['CVE_Items']:\n",
    "        for vendor_data in cve_item['cve']['affects']['vendor']['vendor_data']:\n",
    "            for product_data in vendor_data['product']['product_data']:\n",
    "                product_name = product_data['product_name']\n",
    "                product_names.add(product_name)\n",
    "product_names = list(product_names)\n",
    "product_names[:3]"
   ]
  },
  {
   "cell_type": "code",
   "execution_count": 43,
   "metadata": {},
   "outputs": [
    {
     "data": {
      "text/plain": [
       "['12.6.2', '1.0.42', '2.37.0']"
      ]
     },
     "execution_count": 43,
     "metadata": {},
     "output_type": "execute_result"
    }
   ],
   "source": [
    "special_version_values = set()\n",
    "for d in ds:\n",
    "    for cve_item in d['CVE_Items']:\n",
    "        for vendor_data in cve_item['cve']['affects']['vendor']['vendor_data']:\n",
    "            for product_data in vendor_data['product']['product_data']:\n",
    "                for version_data in product_data['version']['version_data']:\n",
    "                    version_affected = version_data['version_affected']\n",
    "                    if version_affected == '=':\n",
    "                        continue\n",
    "                    version_value = version_data['version_value']\n",
    "                    special_version_values.add(version_value)\n",
    "special_version_values = list(special_version_values)\n",
    "special_version_values[:3]"
   ]
  },
  {
   "cell_type": "code",
   "execution_count": 44,
   "metadata": {},
   "outputs": [
    {
     "data": {
      "text/plain": [
       "8629"
      ]
     },
     "execution_count": 44,
     "metadata": {},
     "output_type": "execute_result"
    }
   ],
   "source": [
    "len(special_version_values)"
   ]
  },
  {
   "cell_type": "code",
   "execution_count": 45,
   "metadata": {},
   "outputs": [
    {
     "data": {
      "text/plain": [
       "['-',\n",
       " '.005',\n",
       " '.47',\n",
       " '.48.9',\n",
       " '.51',\n",
       " '0',\n",
       " '0+bzr726',\n",
       " '0..0.0.20150609',\n",
       " '0.0.0.20150918',\n",
       " '0.0.1',\n",
       " '0.0.1-1',\n",
       " '0.0.1-2',\n",
       " '0.0.10',\n",
       " '0.0.102',\n",
       " '0.0.11',\n",
       " '0.0.12',\n",
       " '0.0.13',\n",
       " '0.0.17',\n",
       " '0.0.18',\n",
       " '0.0.1_alpha']"
      ]
     },
     "execution_count": 45,
     "metadata": {},
     "output_type": "execute_result"
    }
   ],
   "source": [
    "sorted(special_version_values)[:20]"
   ]
  },
  {
   "cell_type": "code",
   "execution_count": 46,
   "metadata": {},
   "outputs": [
    {
     "data": {
      "text/plain": [
       "['x4.2.1',\n",
       " 'x4.3.0',\n",
       " 'x5',\n",
       " 'x5.0.0',\n",
       " 'x6.1',\n",
       " 'x7.0',\n",
       " 'x7.2.2',\n",
       " 'x7.2.3',\n",
       " 'x8.1',\n",
       " 'x8.1.1',\n",
       " 'x8.2.1',\n",
       " 'x9.03.24.00.07l',\n",
       " 'xc2.4',\n",
       " 'xc3',\n",
       " 'xe5',\n",
       " 'xp_server_service_pack_1',\n",
       " 'yk.02.048',\n",
       " 'yk.021.057',\n",
       " 'yk.021.062',\n",
       " 'zte.bhs.zxhnh108nr1a.h_pe']"
      ]
     },
     "execution_count": 46,
     "metadata": {},
     "output_type": "execute_result"
    }
   ],
   "source": [
    "sorted(special_version_values)[-20:]"
   ]
  },
  {
   "cell_type": "code",
   "execution_count": 47,
   "metadata": {},
   "outputs": [],
   "source": [
    "from packaging.version import parse as parse_version\n",
    "for version_value in special_version_values:\n",
    "    z = parse_version(version_value)"
   ]
  },
  {
   "cell_type": "code",
   "execution_count": null,
   "metadata": {},
   "outputs": [],
   "source": []
  },
  {
   "cell_type": "code",
   "execution_count": 48,
   "metadata": {},
   "outputs": [
    {
     "data": {
      "text/plain": [
       "<LegacyVersion('-')>"
      ]
     },
     "execution_count": 48,
     "metadata": {},
     "output_type": "execute_result"
    }
   ],
   "source": [
    "parse_version(sorted(special_version_values)[0])"
   ]
  },
  {
   "cell_type": "code",
   "execution_count": 49,
   "metadata": {},
   "outputs": [
    {
     "data": {
      "text/plain": [
       "True"
      ]
     },
     "execution_count": 49,
     "metadata": {},
     "output_type": "execute_result"
    }
   ],
   "source": [
    "parse_version('1.0') > parse_version('0.5')"
   ]
  },
  {
   "cell_type": "code",
   "execution_count": 50,
   "metadata": {},
   "outputs": [
    {
     "data": {
      "text/plain": [
       "False"
      ]
     },
     "execution_count": 50,
     "metadata": {},
     "output_type": "execute_result"
    }
   ],
   "source": [
    "parse_version('1.0') < parse_version('0.5')"
   ]
  },
  {
   "cell_type": "code",
   "execution_count": null,
   "metadata": {},
   "outputs": [],
   "source": []
  },
  {
   "cell_type": "code",
   "execution_count": 51,
   "metadata": {},
   "outputs": [
    {
     "data": {
      "text/plain": [
       "['12.6.2', '1.0.42', '2.37.0']"
      ]
     },
     "execution_count": 51,
     "metadata": {},
     "output_type": "execute_result"
    }
   ],
   "source": [
    "# Get version affected\n",
    "special_version_values[:3]"
   ]
  },
  {
   "cell_type": "code",
   "execution_count": null,
   "metadata": {},
   "outputs": [],
   "source": []
  },
  {
   "cell_type": "code",
   "execution_count": 52,
   "metadata": {},
   "outputs": [
    {
     "data": {
      "text/plain": [
       "dict_keys(['CVE_data_version', 'nodes'])"
      ]
     },
     "execution_count": 52,
     "metadata": {},
     "output_type": "execute_result"
    }
   ],
   "source": [
    "x['configurations'].keys()"
   ]
  },
  {
   "cell_type": "code",
   "execution_count": 54,
   "metadata": {},
   "outputs": [],
   "source": [
    "special_version_values = set()\n",
    "for d in ds:\n",
    "    for cve_item in d['CVE_Items']:\n",
    "        for vendor_data in cve_item['cve']['affects']['vendor']['vendor_data']:\n",
    "            for product_data in vendor_data['product']['product_data']:\n",
    "                for version_data in product_data['version']['version_data']:\n",
    "                    version_affected = version_data['version_affected']\n",
    "                    if version_affected == '=':\n",
    "                        continue\n",
    "                    break"
   ]
  },
  {
   "cell_type": "code",
   "execution_count": 55,
   "metadata": {},
   "outputs": [
    {
     "data": {
      "text/plain": [
       "{'version_affected': '=', 'version_value': '1.0.0.27'}"
      ]
     },
     "execution_count": 55,
     "metadata": {},
     "output_type": "execute_result"
    }
   ],
   "source": [
    "version_data"
   ]
  },
  {
   "cell_type": "code",
   "execution_count": 56,
   "metadata": {},
   "outputs": [
    {
     "data": {
      "text/plain": [
       "{'configurations': {'CVE_data_version': '4.0', 'nodes': []},\n",
       " 'cve': {'CVE_data_meta': {'ASSIGNER': 'cve@mitre.org', 'ID': 'CVE-2019-9762'},\n",
       "  'affects': {'vendor': {'vendor_data': []}},\n",
       "  'data_format': 'MITRE',\n",
       "  'data_type': 'CVE',\n",
       "  'data_version': '4.0',\n",
       "  'description': {'description_data': [{'lang': 'en',\n",
       "     'value': 'A SQL Injection was discovered in PHPSHE 1.7 in include/plugin/payment/alipay/pay.php with the parameter id. The vulnerability does not need any authentication.'}]},\n",
       "  'problemtype': {'problemtype_data': [{'description': []}]},\n",
       "  'references': {'reference_data': [{'name': 'https://gitee.com/koyshe/phpshe/issues/ITC0C',\n",
       "     'refsource': 'MISC',\n",
       "     'tags': [],\n",
       "     'url': 'https://gitee.com/koyshe/phpshe/issues/ITC0C'}]}},\n",
       " 'impact': {},\n",
       " 'lastModifiedDate': '2019-03-14T02:29Z',\n",
       " 'publishedDate': '2019-03-14T02:29Z'}"
      ]
     },
     "execution_count": 56,
     "metadata": {},
     "output_type": "execute_result"
    }
   ],
   "source": [
    "cve_item"
   ]
  },
  {
   "cell_type": "code",
   "execution_count": 57,
   "metadata": {},
   "outputs": [],
   "source": [
    "# Sort by type of asset"
   ]
  },
  {
   "cell_type": "code",
   "execution_count": 58,
   "metadata": {},
   "outputs": [],
   "source": [
    "from collections import defaultdict\n",
    "cpe_keys = set()\n",
    "cpe_uris = set()\n",
    "cpe_types = set()\n",
    "uris_by_type = defaultdict(set)\n",
    "cve_items_by_type = defaultdict(list)\n",
    "for d in ds:\n",
    "    for cve_item in d['CVE_Items']:\n",
    "        for configuration_node in cve_item['configurations']['nodes']:\n",
    "            try:\n",
    "                children = configuration_node['children']\n",
    "            except KeyError:\n",
    "                children = [configuration_node]\n",
    "            for child in children:\n",
    "                try:\n",
    "                    for cpe_match in child['cpe_match']:\n",
    "                        cpe_keys.update(cpe_match.keys())\n",
    "                        cpe_uri = cpe_match['cpe23Uri']\n",
    "                        cpe_type = cpe_uri.split(':')[2]\n",
    "                        cpe_types.add(cpe_type)\n",
    "                        cpe_uris.add(cpe_uri)\n",
    "                        uris_by_type[cpe_type].add(cpe_uri)\n",
    "                        cve_items_by_type[cpe_type].append(cve_item)\n",
    "                except KeyError:\n",
    "                    pass"
   ]
  },
  {
   "cell_type": "code",
   "execution_count": 59,
   "metadata": {},
   "outputs": [
    {
     "data": {
      "text/plain": [
       "{'cpe23Uri',\n",
       " 'versionEndExcluding',\n",
       " 'versionEndIncluding',\n",
       " 'versionStartExcluding',\n",
       " 'versionStartIncluding',\n",
       " 'vulnerable'}"
      ]
     },
     "execution_count": 59,
     "metadata": {},
     "output_type": "execute_result"
    }
   ],
   "source": [
    "cpe_keys"
   ]
  },
  {
   "cell_type": "code",
   "execution_count": 60,
   "metadata": {},
   "outputs": [
    {
     "data": {
      "text/plain": [
       "'cpe:2.3:a:ibm:kenexa_lms:4.2.2:*:*:*:*:*:*:*'"
      ]
     },
     "execution_count": 60,
     "metadata": {},
     "output_type": "execute_result"
    }
   ],
   "source": [
    "list(cpe_uris)[0]"
   ]
  },
  {
   "cell_type": "code",
   "execution_count": 61,
   "metadata": {},
   "outputs": [
    {
     "data": {
      "text/plain": [
       "{'a', 'h', 'o'}"
      ]
     },
     "execution_count": 61,
     "metadata": {},
     "output_type": "execute_result"
    }
   ],
   "source": [
    "cpe_types"
   ]
  },
  {
   "cell_type": "code",
   "execution_count": 62,
   "metadata": {},
   "outputs": [
    {
     "data": {
      "text/plain": [
       "['cpe:2.3:a:ibm:kenexa_lms:4.2.2:*:*:*:*:*:*:*',\n",
       " 'cpe:2.3:a:sugarcrm:sugarcrm:4.5.1i:*:*:*:*:*:*:*',\n",
       " 'cpe:2.3:a:ac_zoom:blockhosts:*:*:*:*:*:*:*:*']"
      ]
     },
     "execution_count": 62,
     "metadata": {},
     "output_type": "execute_result"
    }
   ],
   "source": [
    "list(uris_by_type['a'])[:3]"
   ]
  },
  {
   "cell_type": "code",
   "execution_count": 63,
   "metadata": {},
   "outputs": [
    {
     "data": {
      "text/plain": [
       "195140"
      ]
     },
     "execution_count": 63,
     "metadata": {},
     "output_type": "execute_result"
    }
   ],
   "source": [
    "len(list(uris_by_type['a']))"
   ]
  },
  {
   "cell_type": "code",
   "execution_count": 64,
   "metadata": {},
   "outputs": [
    {
     "data": {
      "text/plain": [
       "['cpe:2.3:h:hp:color_laserjet_2605dtn:*:*:*:*:*:*:*:*',\n",
       " 'cpe:2.3:h:cisco:call_manager:5.1.1.3000:*:*:*:*:*:*:*',\n",
       " 'cpe:2.3:h:cisco:sg550x-24mp:-:*:*:*:*:*:*:*']"
      ]
     },
     "execution_count": 64,
     "metadata": {},
     "output_type": "execute_result"
    }
   ],
   "source": [
    "list(uris_by_type['h'])[:3]"
   ]
  },
  {
   "cell_type": "code",
   "execution_count": 65,
   "metadata": {},
   "outputs": [
    {
     "data": {
      "text/plain": [
       "19407"
      ]
     },
     "execution_count": 65,
     "metadata": {},
     "output_type": "execute_result"
    }
   ],
   "source": [
    "len(list(uris_by_type['h']))"
   ]
  },
  {
   "cell_type": "code",
   "execution_count": 66,
   "metadata": {},
   "outputs": [
    {
     "data": {
      "text/plain": [
       "['cpe:2.3:o:sun:opensolaris:snv_107:*:sparc:*:*:*:*:*',\n",
       " 'cpe:2.3:o:iij:seil_x1_firmware:3.54:*:*:*:*:*:*:*',\n",
       " 'cpe:2.3:o:cisco:ios_xe:16.3.1:*:*:*:*:*:*:*']"
      ]
     },
     "execution_count": 66,
     "metadata": {},
     "output_type": "execute_result"
    }
   ],
   "source": [
    "list(uris_by_type['o'])[:3]"
   ]
  },
  {
   "cell_type": "code",
   "execution_count": 67,
   "metadata": {},
   "outputs": [
    {
     "data": {
      "text/plain": [
       "30435"
      ]
     },
     "execution_count": 67,
     "metadata": {},
     "output_type": "execute_result"
    }
   ],
   "source": [
    "len(list(uris_by_type['o']))"
   ]
  },
  {
   "cell_type": "code",
   "execution_count": 68,
   "metadata": {},
   "outputs": [],
   "source": [
    "# a = application = software\n",
    "# h = hardware\n",
    "# o = other (including firmware)\n",
    "\n",
    "# The value “a”, when the WFN is for a class of applications.\n",
    "# The value “o”, when the WFN is for a class of operating systems.\n",
    "# The value “h”, when the WFN is for a class of hardware devices.\n",
    "\n",
    "https://nvlpubs.nist.gov/nistpubs/Legacy/IR/nistir7695.pdf"
   ]
  },
  {
   "cell_type": "code",
   "execution_count": 70,
   "metadata": {},
   "outputs": [
    {
     "data": {
      "text/plain": [
       "{'configurations': {'CVE_data_version': '4.0',\n",
       "  'nodes': [{'cpe_match': [{'cpe23Uri': 'cpe:2.3:a:tritreal:ted_cde:4.3:*:*:*:*:*:*:*',\n",
       "      'vulnerable': True},\n",
       "     {'cpe23Uri': 'cpe:2.3:o:sgi:irix:5.2:*:*:*:*:*:*:*', 'vulnerable': True},\n",
       "     {'cpe23Uri': 'cpe:2.3:o:sgi:irix:5.3:*:*:*:*:*:*:*', 'vulnerable': True},\n",
       "     {'cpe23Uri': 'cpe:2.3:o:sgi:irix:6.0:*:*:*:*:*:*:*', 'vulnerable': True},\n",
       "     {'cpe23Uri': 'cpe:2.3:o:sgi:irix:6.1:*:*:*:*:*:*:*', 'vulnerable': True},\n",
       "     {'cpe23Uri': 'cpe:2.3:o:sgi:irix:6.2:*:*:*:*:*:*:*', 'vulnerable': True},\n",
       "     {'cpe23Uri': 'cpe:2.3:o:sgi:irix:6.3:*:*:*:*:*:*:*', 'vulnerable': True},\n",
       "     {'cpe23Uri': 'cpe:2.3:o:sgi:irix:6.4:*:*:*:*:*:*:*', 'vulnerable': True}],\n",
       "    'operator': 'OR'},\n",
       "   {'cpe_match': [{'cpe23Uri': 'cpe:2.3:o:hp:hp-ux:10.01:*:*:*:*:*:*:*',\n",
       "      'vulnerable': True},\n",
       "     {'cpe23Uri': 'cpe:2.3:o:hp:hp-ux:10.02:*:*:*:*:*:*:*',\n",
       "      'vulnerable': True},\n",
       "     {'cpe23Uri': 'cpe:2.3:o:hp:hp-ux:10.03:*:*:*:*:*:*:*',\n",
       "      'vulnerable': True},\n",
       "     {'cpe23Uri': 'cpe:2.3:o:hp:hp-ux:11.00:*:*:*:*:*:*:*',\n",
       "      'vulnerable': True},\n",
       "     {'cpe23Uri': 'cpe:2.3:o:ibm:aix:4.1:*:*:*:*:*:*:*', 'vulnerable': True},\n",
       "     {'cpe23Uri': 'cpe:2.3:o:ibm:aix:4.1.1:*:*:*:*:*:*:*', 'vulnerable': True},\n",
       "     {'cpe23Uri': 'cpe:2.3:o:ibm:aix:4.1.2:*:*:*:*:*:*:*', 'vulnerable': True},\n",
       "     {'cpe23Uri': 'cpe:2.3:o:ibm:aix:4.1.3:*:*:*:*:*:*:*', 'vulnerable': True},\n",
       "     {'cpe23Uri': 'cpe:2.3:o:ibm:aix:4.1.4:*:*:*:*:*:*:*', 'vulnerable': True},\n",
       "     {'cpe23Uri': 'cpe:2.3:o:ibm:aix:4.1.5:*:*:*:*:*:*:*', 'vulnerable': True},\n",
       "     {'cpe23Uri': 'cpe:2.3:o:ibm:aix:4.2:*:*:*:*:*:*:*', 'vulnerable': True},\n",
       "     {'cpe23Uri': 'cpe:2.3:o:ibm:aix:4.2.1:*:*:*:*:*:*:*', 'vulnerable': True},\n",
       "     {'cpe23Uri': 'cpe:2.3:o:ibm:aix:4.3:*:*:*:*:*:*:*', 'vulnerable': True},\n",
       "     {'cpe23Uri': 'cpe:2.3:o:sun:solaris:2.6:*:*:*:*:*:*:*',\n",
       "      'vulnerable': True},\n",
       "     {'cpe23Uri': 'cpe:2.3:o:sun:sunos:-:*:*:*:*:*:*:*', 'vulnerable': True},\n",
       "     {'cpe23Uri': 'cpe:2.3:o:sun:sunos:4.1.3:*:*:*:*:*:*:*',\n",
       "      'vulnerable': True},\n",
       "     {'cpe23Uri': 'cpe:2.3:o:sun:sunos:5.0:*:*:*:*:*:*:*', 'vulnerable': True},\n",
       "     {'cpe23Uri': 'cpe:2.3:o:sun:sunos:5.1:*:*:*:*:*:*:*', 'vulnerable': True},\n",
       "     {'cpe23Uri': 'cpe:2.3:o:sun:sunos:5.2:*:*:*:*:*:*:*', 'vulnerable': True},\n",
       "     {'cpe23Uri': 'cpe:2.3:o:sun:sunos:5.3:*:*:*:*:*:*:*', 'vulnerable': True},\n",
       "     {'cpe23Uri': 'cpe:2.3:o:sun:sunos:5.4:*:*:*:*:*:*:*', 'vulnerable': True},\n",
       "     {'cpe23Uri': 'cpe:2.3:o:sun:sunos:5.5:*:*:*:*:*:*:*', 'vulnerable': True},\n",
       "     {'cpe23Uri': 'cpe:2.3:o:sun:sunos:5.5.1:*:*:*:*:*:*:*',\n",
       "      'vulnerable': True}],\n",
       "    'operator': 'OR'}]},\n",
       " 'cve': {'CVE_data_meta': {'ASSIGNER': 'cve@mitre.org', 'ID': 'CVE-1999-0003'},\n",
       "  'affects': {'vendor': {'vendor_data': [{'product': {'product_data': [{'product_name': 'ted_cde',\n",
       "         'version': {'version_data': [{'version_affected': '=',\n",
       "            'version_value': '4.3'}]}}]},\n",
       "      'vendor_name': 'tritreal'},\n",
       "     {'product': {'product_data': [{'product_name': 'hp-ux',\n",
       "         'version': {'version_data': [{'version_affected': '=',\n",
       "            'version_value': '10.01'},\n",
       "           {'version_affected': '=', 'version_value': '10.02'},\n",
       "           {'version_affected': '=', 'version_value': '10.03'},\n",
       "           {'version_affected': '=', 'version_value': '11.00'}]}}]},\n",
       "      'vendor_name': 'hp'},\n",
       "     {'product': {'product_data': [{'product_name': 'aix',\n",
       "         'version': {'version_data': [{'version_affected': '=',\n",
       "            'version_value': '4.1'},\n",
       "           {'version_affected': '=', 'version_value': '4.1.1'},\n",
       "           {'version_affected': '=', 'version_value': '4.1.2'},\n",
       "           {'version_affected': '=', 'version_value': '4.1.3'},\n",
       "           {'version_affected': '=', 'version_value': '4.1.4'},\n",
       "           {'version_affected': '=', 'version_value': '4.1.5'},\n",
       "           {'version_affected': '=', 'version_value': '4.2'},\n",
       "           {'version_affected': '=', 'version_value': '4.2.1'},\n",
       "           {'version_affected': '=', 'version_value': '4.3'}]}}]},\n",
       "      'vendor_name': 'ibm'},\n",
       "     {'product': {'product_data': [{'product_name': 'irix',\n",
       "         'version': {'version_data': [{'version_affected': '=',\n",
       "            'version_value': '5.2'},\n",
       "           {'version_affected': '=', 'version_value': '5.3'},\n",
       "           {'version_affected': '=', 'version_value': '6.0'},\n",
       "           {'version_affected': '=', 'version_value': '6.1'},\n",
       "           {'version_affected': '=', 'version_value': '6.2'},\n",
       "           {'version_affected': '=', 'version_value': '6.3'},\n",
       "           {'version_affected': '=', 'version_value': '6.4'}]}}]},\n",
       "      'vendor_name': 'sgi'},\n",
       "     {'product': {'product_data': [{'product_name': 'solaris',\n",
       "         'version': {'version_data': [{'version_affected': '=',\n",
       "            'version_value': '2.6'}]}},\n",
       "        {'product_name': 'sunos',\n",
       "         'version': {'version_data': [{'version_affected': '=',\n",
       "            'version_value': '-'},\n",
       "           {'version_affected': '=', 'version_value': '4.1.3'},\n",
       "           {'version_affected': '=', 'version_value': '5.0'},\n",
       "           {'version_affected': '=', 'version_value': '5.1'},\n",
       "           {'version_affected': '=', 'version_value': '5.2'},\n",
       "           {'version_affected': '=', 'version_value': '5.3'},\n",
       "           {'version_affected': '=', 'version_value': '5.4'},\n",
       "           {'version_affected': '=', 'version_value': '5.5'},\n",
       "           {'version_affected': '=', 'version_value': '5.5.1'}]}}]},\n",
       "      'vendor_name': 'sun'}]}},\n",
       "  'data_format': 'MITRE',\n",
       "  'data_type': 'CVE',\n",
       "  'data_version': '4.0',\n",
       "  'description': {'description_data': [{'lang': 'en',\n",
       "     'value': 'Execute commands as root via buffer overflow in Tooltalk database server (rpc.ttdbserverd).'}]},\n",
       "  'problemtype': {'problemtype_data': [{'description': [{'lang': 'en',\n",
       "       'value': 'NVD-CWE-Other'}]}]},\n",
       "  'references': {'reference_data': [{'name': '19981101-01-A',\n",
       "     'refsource': 'SGI',\n",
       "     'tags': [],\n",
       "     'url': 'ftp://patches.sgi.com/support/free/security/advisories/19981101-01-A'},\n",
       "    {'name': '19981101-01-PX',\n",
       "     'refsource': 'SGI',\n",
       "     'tags': [],\n",
       "     'url': 'ftp://patches.sgi.com/support/free/security/advisories/19981101-01-PX'},\n",
       "    {'name': '122',\n",
       "     'refsource': 'BID',\n",
       "     'tags': [],\n",
       "     'url': 'http://www.securityfocus.com/bid/122'}]}},\n",
       " 'impact': {'baseMetricV2': {'cvssV2': {'accessComplexity': 'LOW',\n",
       "    'accessVector': 'NETWORK',\n",
       "    'authentication': 'NONE',\n",
       "    'availabilityImpact': 'COMPLETE',\n",
       "    'baseScore': 10.0,\n",
       "    'confidentialityImpact': 'COMPLETE',\n",
       "    'integrityImpact': 'COMPLETE',\n",
       "    'vectorString': 'AV:N/AC:L/Au:N/C:C/I:C/A:C',\n",
       "    'version': '2.0'},\n",
       "   'exploitabilityScore': 10.0,\n",
       "   'impactScore': 10.0,\n",
       "   'obtainAllPrivilege': True,\n",
       "   'obtainOtherPrivilege': False,\n",
       "   'obtainUserPrivilege': False,\n",
       "   'severity': 'HIGH',\n",
       "   'userInteractionRequired': False}},\n",
       " 'lastModifiedDate': '2018-10-30T16:26Z',\n",
       " 'publishedDate': '1998-04-01T05:00Z'}"
      ]
     },
     "execution_count": 70,
     "metadata": {},
     "output_type": "execute_result"
    }
   ],
   "source": [
    "cve_items_by_type['a'][0]"
   ]
  },
  {
   "cell_type": "code",
   "execution_count": 71,
   "metadata": {},
   "outputs": [
    {
     "data": {
      "text/plain": [
       "{'configurations': {'CVE_data_version': '4.0',\n",
       "  'nodes': [{'cpe_match': [{'cpe23Uri': 'cpe:2.3:a:isc:inn:1.4sec:*:*:*:*:*:*:*',\n",
       "      'vulnerable': True},\n",
       "     {'cpe23Uri': 'cpe:2.3:a:isc:inn:1.4sec2:*:*:*:*:*:*:*',\n",
       "      'vulnerable': True},\n",
       "     {'cpe23Uri': 'cpe:2.3:a:isc:inn:1.4unoff3:*:*:*:*:*:*:*',\n",
       "      'vulnerable': True},\n",
       "     {'cpe23Uri': 'cpe:2.3:a:isc:inn:1.4unoff4:*:*:*:*:*:*:*',\n",
       "      'vulnerable': True},\n",
       "     {'cpe23Uri': 'cpe:2.3:a:isc:inn:1.5:*:*:*:*:*:*:*', 'vulnerable': True},\n",
       "     {'cpe23Uri': 'cpe:2.3:a:netscape:news_server:1.1:*:*:*:*:*:*:*',\n",
       "      'vulnerable': True}],\n",
       "    'operator': 'OR'},\n",
       "   {'cpe_match': [{'cpe23Uri': 'cpe:2.3:o:bsdi:bsd_os:2.1:*:*:*:*:*:*:*',\n",
       "      'vulnerable': True},\n",
       "     {'cpe23Uri': 'cpe:2.3:o:caldera:openlinux:1.0:*:*:*:*:*:*:*',\n",
       "      'vulnerable': True},\n",
       "     {'cpe23Uri': 'cpe:2.3:o:redhat:linux:4.0:*:*:*:*:*:*:*',\n",
       "      'vulnerable': True},\n",
       "     {'cpe23Uri': 'cpe:2.3:o:redhat:linux:4.1:*:*:*:*:*:*:*',\n",
       "      'vulnerable': True}],\n",
       "    'operator': 'OR'},\n",
       "   {'cpe_match': [{'cpe23Uri': 'cpe:2.3:h:nec:goah_intrasv:1.1:*:*:*:*:*:*:*',\n",
       "      'vulnerable': True},\n",
       "     {'cpe23Uri': 'cpe:2.3:h:nec:goah_networksv:1.2:*:*:*:*:*:*:*',\n",
       "      'vulnerable': True},\n",
       "     {'cpe23Uri': 'cpe:2.3:h:nec:goah_networksv:2.2:*:*:*:*:*:*:*',\n",
       "      'vulnerable': True},\n",
       "     {'cpe23Uri': 'cpe:2.3:h:nec:goah_networksv:3.1:*:*:*:*:*:*:*',\n",
       "      'vulnerable': True}],\n",
       "    'operator': 'OR'}]},\n",
       " 'cve': {'CVE_data_meta': {'ASSIGNER': 'cve@mitre.org', 'ID': 'CVE-1999-0043'},\n",
       "  'affects': {'vendor': {'vendor_data': [{'product': {'product_data': [{'product_name': 'inn',\n",
       "         'version': {'version_data': [{'version_affected': '=',\n",
       "            'version_value': '1.4sec'},\n",
       "           {'version_affected': '=', 'version_value': '1.4sec2'},\n",
       "           {'version_affected': '=', 'version_value': '1.4unoff3'},\n",
       "           {'version_affected': '=', 'version_value': '1.4unoff4'},\n",
       "           {'version_affected': '=', 'version_value': '1.5'}]}}]},\n",
       "      'vendor_name': 'isc'},\n",
       "     {'product': {'product_data': [{'product_name': 'news_server',\n",
       "         'version': {'version_data': [{'version_affected': '=',\n",
       "            'version_value': '1.1'}]}}]},\n",
       "      'vendor_name': 'netscape'},\n",
       "     {'product': {'product_data': [{'product_name': 'goah_intrasv',\n",
       "         'version': {'version_data': [{'version_affected': '=',\n",
       "            'version_value': '1.1'}]}},\n",
       "        {'product_name': 'goah_networksv',\n",
       "         'version': {'version_data': [{'version_affected': '=',\n",
       "            'version_value': '1.2'},\n",
       "           {'version_affected': '=', 'version_value': '2.2'},\n",
       "           {'version_affected': '=', 'version_value': '3.1'}]}}]},\n",
       "      'vendor_name': 'nec'},\n",
       "     {'product': {'product_data': [{'product_name': 'bsd_os',\n",
       "         'version': {'version_data': [{'version_affected': '=',\n",
       "            'version_value': '2.1'}]}}]},\n",
       "      'vendor_name': 'bsdi'},\n",
       "     {'product': {'product_data': [{'product_name': 'openlinux',\n",
       "         'version': {'version_data': [{'version_affected': '=',\n",
       "            'version_value': '1.0'}]}}]},\n",
       "      'vendor_name': 'caldera'},\n",
       "     {'product': {'product_data': [{'product_name': 'linux',\n",
       "         'version': {'version_data': [{'version_affected': '=',\n",
       "            'version_value': '4.0'},\n",
       "           {'version_affected': '=', 'version_value': '4.1'}]}}]},\n",
       "      'vendor_name': 'redhat'}]}},\n",
       "  'data_format': 'MITRE',\n",
       "  'data_type': 'CVE',\n",
       "  'data_version': '4.0',\n",
       "  'description': {'description_data': [{'lang': 'en',\n",
       "     'value': 'Command execution via shell metachars in INN daemon (innd) 1.5 using \"newgroup\" and \"rmgroup\" control messages, and others.'}]},\n",
       "  'problemtype': {'problemtype_data': [{'description': [{'lang': 'en',\n",
       "       'value': 'NVD-CWE-Other'}]}]},\n",
       "  'references': {'reference_data': []}},\n",
       " 'impact': {'baseMetricV2': {'cvssV2': {'accessComplexity': 'LOW',\n",
       "    'accessVector': 'NETWORK',\n",
       "    'authentication': 'NONE',\n",
       "    'availabilityImpact': 'COMPLETE',\n",
       "    'baseScore': 10.0,\n",
       "    'confidentialityImpact': 'COMPLETE',\n",
       "    'integrityImpact': 'COMPLETE',\n",
       "    'vectorString': 'AV:N/AC:L/Au:N/C:C/I:C/A:C',\n",
       "    'version': '2.0'},\n",
       "   'exploitabilityScore': 10.0,\n",
       "   'impactScore': 10.0,\n",
       "   'obtainAllPrivilege': True,\n",
       "   'obtainOtherPrivilege': False,\n",
       "   'obtainUserPrivilege': False,\n",
       "   'severity': 'HIGH',\n",
       "   'userInteractionRequired': False}},\n",
       " 'lastModifiedDate': '2008-09-09T12:33Z',\n",
       " 'publishedDate': '1996-12-04T05:00Z'}"
      ]
     },
     "execution_count": 71,
     "metadata": {},
     "output_type": "execute_result"
    }
   ],
   "source": [
    "cve_items_by_type['h'][0]"
   ]
  },
  {
   "cell_type": "code",
   "execution_count": 73,
   "metadata": {},
   "outputs": [
    {
     "data": {
      "text/plain": [
       "{'configurations': {'CVE_data_version': '4.0',\n",
       "  'nodes': [{'cpe_match': [{'cpe23Uri': 'cpe:2.3:a:data_general:dg_ux:5.4_3.0:*:*:*:*:*:*:*',\n",
       "      'vulnerable': True},\n",
       "     {'cpe23Uri': 'cpe:2.3:a:data_general:dg_ux:5.4_3.1:*:*:*:*:*:*:*',\n",
       "      'vulnerable': True},\n",
       "     {'cpe23Uri': 'cpe:2.3:a:data_general:dg_ux:5.4_4.1:*:*:*:*:*:*:*',\n",
       "      'vulnerable': True},\n",
       "     {'cpe23Uri': 'cpe:2.3:a:data_general:dg_ux:5.4_4.11:*:*:*:*:*:*:*',\n",
       "      'vulnerable': True},\n",
       "     {'cpe23Uri': 'cpe:2.3:a:isc:bind:4.9.6:*:*:*:*:*:*:*',\n",
       "      'vulnerable': True},\n",
       "     {'cpe23Uri': 'cpe:2.3:a:isc:bind:8.1:*:*:*:*:*:*:*', 'vulnerable': True},\n",
       "     {'cpe23Uri': 'cpe:2.3:a:isc:bind:8.1.1:*:*:*:*:*:*:*',\n",
       "      'vulnerable': True},\n",
       "     {'cpe23Uri': 'cpe:2.3:o:sgi:irix:3.2:*:*:*:*:*:*:*', 'vulnerable': True},\n",
       "     {'cpe23Uri': 'cpe:2.3:o:sgi:irix:3.3:*:*:*:*:*:*:*', 'vulnerable': True},\n",
       "     {'cpe23Uri': 'cpe:2.3:o:sgi:irix:3.3.1:*:*:*:*:*:*:*',\n",
       "      'vulnerable': True},\n",
       "     {'cpe23Uri': 'cpe:2.3:o:sgi:irix:3.3.2:*:*:*:*:*:*:*',\n",
       "      'vulnerable': True},\n",
       "     {'cpe23Uri': 'cpe:2.3:o:sgi:irix:3.3.3:*:*:*:*:*:*:*',\n",
       "      'vulnerable': True},\n",
       "     {'cpe23Uri': 'cpe:2.3:o:sgi:irix:4.0:*:*:*:*:*:*:*', 'vulnerable': True},\n",
       "     {'cpe23Uri': 'cpe:2.3:o:sgi:irix:4.0.1:*:*:*:*:*:*:*',\n",
       "      'vulnerable': True},\n",
       "     {'cpe23Uri': 'cpe:2.3:o:sgi:irix:4.0.1t:*:*:*:*:*:*:*',\n",
       "      'vulnerable': True},\n",
       "     {'cpe23Uri': 'cpe:2.3:o:sgi:irix:4.0.2:*:*:*:*:*:*:*',\n",
       "      'vulnerable': True},\n",
       "     {'cpe23Uri': 'cpe:2.3:o:sgi:irix:4.0.3:*:*:*:*:*:*:*',\n",
       "      'vulnerable': True},\n",
       "     {'cpe23Uri': 'cpe:2.3:o:sgi:irix:4.0.4:*:*:*:*:*:*:*',\n",
       "      'vulnerable': True},\n",
       "     {'cpe23Uri': 'cpe:2.3:o:sgi:irix:4.0.4b:*:*:*:*:*:*:*',\n",
       "      'vulnerable': True},\n",
       "     {'cpe23Uri': 'cpe:2.3:o:sgi:irix:4.0.4t:*:*:*:*:*:*:*',\n",
       "      'vulnerable': True},\n",
       "     {'cpe23Uri': 'cpe:2.3:o:sgi:irix:4.0.5:*:*:*:*:*:*:*',\n",
       "      'vulnerable': True},\n",
       "     {'cpe23Uri': 'cpe:2.3:o:sgi:irix:4.0.5_iop:*:*:*:*:*:*:*',\n",
       "      'vulnerable': True},\n",
       "     {'cpe23Uri': 'cpe:2.3:o:sgi:irix:4.0.5_ipr:*:*:*:*:*:*:*',\n",
       "      'vulnerable': True},\n",
       "     {'cpe23Uri': 'cpe:2.3:o:sgi:irix:4.0.5a:*:*:*:*:*:*:*',\n",
       "      'vulnerable': True},\n",
       "     {'cpe23Uri': 'cpe:2.3:o:sgi:irix:4.0.5d:*:*:*:*:*:*:*',\n",
       "      'vulnerable': True},\n",
       "     {'cpe23Uri': 'cpe:2.3:o:sgi:irix:4.0.5e:*:*:*:*:*:*:*',\n",
       "      'vulnerable': True},\n",
       "     {'cpe23Uri': 'cpe:2.3:o:sgi:irix:4.0.5f:*:*:*:*:*:*:*',\n",
       "      'vulnerable': True},\n",
       "     {'cpe23Uri': 'cpe:2.3:o:sgi:irix:4.0.5g:*:*:*:*:*:*:*',\n",
       "      'vulnerable': True},\n",
       "     {'cpe23Uri': 'cpe:2.3:o:sgi:irix:4.0.5h:*:*:*:*:*:*:*',\n",
       "      'vulnerable': True},\n",
       "     {'cpe23Uri': 'cpe:2.3:o:sgi:irix:5.0:*:*:*:*:*:*:*', 'vulnerable': True},\n",
       "     {'cpe23Uri': 'cpe:2.3:o:sgi:irix:5.0.1:*:*:*:*:*:*:*',\n",
       "      'vulnerable': True},\n",
       "     {'cpe23Uri': 'cpe:2.3:o:sgi:irix:5.1:*:*:*:*:*:*:*', 'vulnerable': True},\n",
       "     {'cpe23Uri': 'cpe:2.3:o:sgi:irix:5.1.1:*:*:*:*:*:*:*',\n",
       "      'vulnerable': True},\n",
       "     {'cpe23Uri': 'cpe:2.3:o:sgi:irix:5.2:*:*:*:*:*:*:*', 'vulnerable': True},\n",
       "     {'cpe23Uri': 'cpe:2.3:o:sgi:irix:5.3:*:*:*:*:*:*:*', 'vulnerable': True},\n",
       "     {'cpe23Uri': 'cpe:2.3:o:sgi:irix:6.0:*:*:*:*:*:*:*', 'vulnerable': True},\n",
       "     {'cpe23Uri': 'cpe:2.3:o:sgi:irix:6.1:*:*:*:*:*:*:*', 'vulnerable': True},\n",
       "     {'cpe23Uri': 'cpe:2.3:o:sgi:irix:6.2:*:*:*:*:*:*:*', 'vulnerable': True},\n",
       "     {'cpe23Uri': 'cpe:2.3:o:sgi:irix:6.3:*:*:*:*:*:*:*', 'vulnerable': True}],\n",
       "    'operator': 'OR'},\n",
       "   {'cpe_match': [{'cpe23Uri': 'cpe:2.3:o:bsdi:bsd_os:2.0:*:*:*:*:*:*:*',\n",
       "      'vulnerable': True},\n",
       "     {'cpe23Uri': 'cpe:2.3:o:bsdi:bsd_os:2.0.1:*:*:*:*:*:*:*',\n",
       "      'vulnerable': True},\n",
       "     {'cpe23Uri': 'cpe:2.3:o:bsdi:bsd_os:2.1:*:*:*:*:*:*:*',\n",
       "      'vulnerable': True},\n",
       "     {'cpe23Uri': 'cpe:2.3:o:caldera:openlinux:1.0:*:*:*:*:*:*:*',\n",
       "      'vulnerable': True},\n",
       "     {'cpe23Uri': 'cpe:2.3:o:ibm:aix:4.1:*:*:*:*:*:*:*', 'vulnerable': True},\n",
       "     {'cpe23Uri': 'cpe:2.3:o:ibm:aix:4.1.1:*:*:*:*:*:*:*', 'vulnerable': True},\n",
       "     {'cpe23Uri': 'cpe:2.3:o:ibm:aix:4.1.2:*:*:*:*:*:*:*', 'vulnerable': True},\n",
       "     {'cpe23Uri': 'cpe:2.3:o:ibm:aix:4.1.3:*:*:*:*:*:*:*', 'vulnerable': True},\n",
       "     {'cpe23Uri': 'cpe:2.3:o:ibm:aix:4.1.4:*:*:*:*:*:*:*', 'vulnerable': True},\n",
       "     {'cpe23Uri': 'cpe:2.3:o:ibm:aix:4.1.5:*:*:*:*:*:*:*', 'vulnerable': True},\n",
       "     {'cpe23Uri': 'cpe:2.3:o:ibm:aix:4.2:*:*:*:*:*:*:*', 'vulnerable': True},\n",
       "     {'cpe23Uri': 'cpe:2.3:o:ibm:aix:4.2.1:*:*:*:*:*:*:*', 'vulnerable': True},\n",
       "     {'cpe23Uri': 'cpe:2.3:o:ibm:aix:4.3:*:*:*:*:*:*:*', 'vulnerable': True},\n",
       "     {'cpe23Uri': 'cpe:2.3:o:nec:asl_ux_4800:64:*:*:*:*:*:*:*',\n",
       "      'vulnerable': True},\n",
       "     {'cpe23Uri': 'cpe:2.3:o:netbsd:netbsd:1.0:*:*:*:*:*:*:*',\n",
       "      'vulnerable': True},\n",
       "     {'cpe23Uri': 'cpe:2.3:o:netbsd:netbsd:1.1:*:*:*:*:*:*:*',\n",
       "      'vulnerable': True},\n",
       "     {'cpe23Uri': 'cpe:2.3:o:netbsd:netbsd:1.2:*:*:*:*:*:*:*',\n",
       "      'vulnerable': True},\n",
       "     {'cpe23Uri': 'cpe:2.3:o:netbsd:netbsd:1.2.1:*:*:*:*:*:*:*',\n",
       "      'vulnerable': True},\n",
       "     {'cpe23Uri': 'cpe:2.3:o:netbsd:netbsd:1.3:*:*:*:*:*:*:*',\n",
       "      'vulnerable': True},\n",
       "     {'cpe23Uri': 'cpe:2.3:o:netbsd:netbsd:1.3.1:*:*:*:*:*:*:*',\n",
       "      'vulnerable': True},\n",
       "     {'cpe23Uri': 'cpe:2.3:o:redhat:linux:4.0:*:*:*:*:*:*:*',\n",
       "      'vulnerable': True},\n",
       "     {'cpe23Uri': 'cpe:2.3:o:redhat:linux:4.1:*:*:*:*:*:*:*',\n",
       "      'vulnerable': True},\n",
       "     {'cpe23Uri': 'cpe:2.3:o:redhat:linux:4.2:*:*:*:*:*:*:*',\n",
       "      'vulnerable': True},\n",
       "     {'cpe23Uri': 'cpe:2.3:o:redhat:linux:5.0:*:*:*:*:*:*:*',\n",
       "      'vulnerable': True},\n",
       "     {'cpe23Uri': 'cpe:2.3:o:sco:open_desktop:3.0:*:*:*:*:*:*:*',\n",
       "      'vulnerable': True},\n",
       "     {'cpe23Uri': 'cpe:2.3:o:sco:open_desktop:5.0:*:*:*:*:*:*:*',\n",
       "      'vulnerable': True},\n",
       "     {'cpe23Uri': 'cpe:2.3:o:sco:unixware:2.1:*:*:*:*:*:*:*',\n",
       "      'vulnerable': True},\n",
       "     {'cpe23Uri': 'cpe:2.3:o:sco:unixware:7.0:*:*:*:*:*:*:*',\n",
       "      'vulnerable': True},\n",
       "     {'cpe23Uri': 'cpe:2.3:o:sun:solaris:2.5:*:x86:*:*:*:*:*',\n",
       "      'vulnerable': True},\n",
       "     {'cpe23Uri': 'cpe:2.3:o:sun:solaris:2.5.1:*:ppc:*:*:*:*:*',\n",
       "      'vulnerable': True},\n",
       "     {'cpe23Uri': 'cpe:2.3:o:sun:solaris:2.5.1:*:x86:*:*:*:*:*',\n",
       "      'vulnerable': True},\n",
       "     {'cpe23Uri': 'cpe:2.3:o:sun:solaris:2.6:*:*:*:*:*:*:*',\n",
       "      'vulnerable': True},\n",
       "     {'cpe23Uri': 'cpe:2.3:o:sun:sunos:-:*:*:*:*:*:*:*', 'vulnerable': True},\n",
       "     {'cpe23Uri': 'cpe:2.3:o:sun:sunos:5.3:*:*:*:*:*:*:*', 'vulnerable': True},\n",
       "     {'cpe23Uri': 'cpe:2.3:o:sun:sunos:5.4:*:*:*:*:*:*:*', 'vulnerable': True},\n",
       "     {'cpe23Uri': 'cpe:2.3:o:sun:sunos:5.5:*:*:*:*:*:*:*', 'vulnerable': True},\n",
       "     {'cpe23Uri': 'cpe:2.3:o:sun:sunos:5.5.1:*:*:*:*:*:*:*',\n",
       "      'vulnerable': True}],\n",
       "    'operator': 'OR'}]},\n",
       " 'cve': {'CVE_data_meta': {'ASSIGNER': 'cve@mitre.org', 'ID': 'CVE-1999-0009'},\n",
       "  'affects': {'vendor': {'vendor_data': [{'product': {'product_data': [{'product_name': 'dg_ux',\n",
       "         'version': {'version_data': [{'version_affected': '=',\n",
       "            'version_value': '5.4_3.0'},\n",
       "           {'version_affected': '=', 'version_value': '5.4_3.1'},\n",
       "           {'version_affected': '=', 'version_value': '5.4_4.1'},\n",
       "           {'version_affected': '=', 'version_value': '5.4_4.11'}]}}]},\n",
       "      'vendor_name': 'data_general'},\n",
       "     {'product': {'product_data': [{'product_name': 'bind',\n",
       "         'version': {'version_data': [{'version_affected': '=',\n",
       "            'version_value': '4.9.6'},\n",
       "           {'version_affected': '=', 'version_value': '8.1'},\n",
       "           {'version_affected': '=', 'version_value': '8.1.1'}]}}]},\n",
       "      'vendor_name': 'isc'},\n",
       "     {'product': {'product_data': [{'product_name': 'bsd_os',\n",
       "         'version': {'version_data': [{'version_affected': '=',\n",
       "            'version_value': '2.0'},\n",
       "           {'version_affected': '=', 'version_value': '2.0.1'},\n",
       "           {'version_affected': '=', 'version_value': '2.1'}]}}]},\n",
       "      'vendor_name': 'bsdi'},\n",
       "     {'product': {'product_data': [{'product_name': 'openlinux',\n",
       "         'version': {'version_data': [{'version_affected': '=',\n",
       "            'version_value': '1.0'}]}}]},\n",
       "      'vendor_name': 'caldera'},\n",
       "     {'product': {'product_data': [{'product_name': 'aix',\n",
       "         'version': {'version_data': [{'version_affected': '=',\n",
       "            'version_value': '4.1'},\n",
       "           {'version_affected': '=', 'version_value': '4.1.1'},\n",
       "           {'version_affected': '=', 'version_value': '4.1.2'},\n",
       "           {'version_affected': '=', 'version_value': '4.1.3'},\n",
       "           {'version_affected': '=', 'version_value': '4.1.4'},\n",
       "           {'version_affected': '=', 'version_value': '4.1.5'},\n",
       "           {'version_affected': '=', 'version_value': '4.2'},\n",
       "           {'version_affected': '=', 'version_value': '4.2.1'},\n",
       "           {'version_affected': '=', 'version_value': '4.3'}]}}]},\n",
       "      'vendor_name': 'ibm'},\n",
       "     {'product': {'product_data': [{'product_name': 'asl_ux_4800',\n",
       "         'version': {'version_data': [{'version_affected': '=',\n",
       "            'version_value': '64'}]}}]},\n",
       "      'vendor_name': 'nec'},\n",
       "     {'product': {'product_data': [{'product_name': 'netbsd',\n",
       "         'version': {'version_data': [{'version_affected': '=',\n",
       "            'version_value': '1.0'},\n",
       "           {'version_affected': '=', 'version_value': '1.1'},\n",
       "           {'version_affected': '=', 'version_value': '1.2'},\n",
       "           {'version_affected': '=', 'version_value': '1.2.1'},\n",
       "           {'version_affected': '=', 'version_value': '1.3'},\n",
       "           {'version_affected': '=', 'version_value': '1.3.1'}]}}]},\n",
       "      'vendor_name': 'netbsd'},\n",
       "     {'product': {'product_data': [{'product_name': 'linux',\n",
       "         'version': {'version_data': [{'version_affected': '=',\n",
       "            'version_value': '4.0'},\n",
       "           {'version_affected': '=', 'version_value': '4.1'},\n",
       "           {'version_affected': '=', 'version_value': '4.2'},\n",
       "           {'version_affected': '=', 'version_value': '5.0'}]}}]},\n",
       "      'vendor_name': 'redhat'},\n",
       "     {'product': {'product_data': [{'product_name': 'open_desktop',\n",
       "         'version': {'version_data': [{'version_affected': '=',\n",
       "            'version_value': '3.0'},\n",
       "           {'version_affected': '=', 'version_value': '5.0'}]}},\n",
       "        {'product_name': 'unixware',\n",
       "         'version': {'version_data': [{'version_affected': '=',\n",
       "            'version_value': '2.1'},\n",
       "           {'version_affected': '=', 'version_value': '7.0'}]}}]},\n",
       "      'vendor_name': 'sco'},\n",
       "     {'product': {'product_data': [{'product_name': 'irix',\n",
       "         'version': {'version_data': [{'version_affected': '=',\n",
       "            'version_value': '3.2'},\n",
       "           {'version_affected': '=', 'version_value': '3.3'},\n",
       "           {'version_affected': '=', 'version_value': '3.3.1'},\n",
       "           {'version_affected': '=', 'version_value': '3.3.2'},\n",
       "           {'version_affected': '=', 'version_value': '3.3.3'},\n",
       "           {'version_affected': '=', 'version_value': '4.0'},\n",
       "           {'version_affected': '=', 'version_value': '4.0.1'},\n",
       "           {'version_affected': '=', 'version_value': '4.0.1t'},\n",
       "           {'version_affected': '=', 'version_value': '4.0.2'},\n",
       "           {'version_affected': '=', 'version_value': '4.0.3'},\n",
       "           {'version_affected': '=', 'version_value': '4.0.4'},\n",
       "           {'version_affected': '=', 'version_value': '4.0.4b'},\n",
       "           {'version_affected': '=', 'version_value': '4.0.4t'},\n",
       "           {'version_affected': '=', 'version_value': '4.0.5'},\n",
       "           {'version_affected': '=', 'version_value': '4.0.5_iop'},\n",
       "           {'version_affected': '=', 'version_value': '4.0.5_ipr'},\n",
       "           {'version_affected': '=', 'version_value': '4.0.5a'},\n",
       "           {'version_affected': '=', 'version_value': '4.0.5d'},\n",
       "           {'version_affected': '=', 'version_value': '4.0.5e'},\n",
       "           {'version_affected': '=', 'version_value': '4.0.5f'},\n",
       "           {'version_affected': '=', 'version_value': '4.0.5g'},\n",
       "           {'version_affected': '=', 'version_value': '4.0.5h'},\n",
       "           {'version_affected': '=', 'version_value': '5.0'},\n",
       "           {'version_affected': '=', 'version_value': '5.0.1'},\n",
       "           {'version_affected': '=', 'version_value': '5.1'},\n",
       "           {'version_affected': '=', 'version_value': '5.1.1'},\n",
       "           {'version_affected': '=', 'version_value': '5.2'},\n",
       "           {'version_affected': '=', 'version_value': '5.3'},\n",
       "           {'version_affected': '=', 'version_value': '6.0'},\n",
       "           {'version_affected': '=', 'version_value': '6.1'},\n",
       "           {'version_affected': '=', 'version_value': '6.2'},\n",
       "           {'version_affected': '=', 'version_value': '6.3'}]}}]},\n",
       "      'vendor_name': 'sgi'},\n",
       "     {'product': {'product_data': [{'product_name': 'solaris',\n",
       "         'version': {'version_data': [{'version_affected': '=',\n",
       "            'version_value': '2.5'},\n",
       "           {'version_affected': '=', 'version_value': '2.5.1'},\n",
       "           {'version_affected': '=', 'version_value': '2.6'}]}},\n",
       "        {'product_name': 'sunos',\n",
       "         'version': {'version_data': [{'version_affected': '=',\n",
       "            'version_value': '-'},\n",
       "           {'version_affected': '=', 'version_value': '5.3'},\n",
       "           {'version_affected': '=', 'version_value': '5.4'},\n",
       "           {'version_affected': '=', 'version_value': '5.5'},\n",
       "           {'version_affected': '=', 'version_value': '5.5.1'}]}}]},\n",
       "      'vendor_name': 'sun'}]}},\n",
       "  'data_format': 'MITRE',\n",
       "  'data_type': 'CVE',\n",
       "  'data_version': '4.0',\n",
       "  'description': {'description_data': [{'lang': 'en',\n",
       "     'value': 'Inverse query buffer overflow in BIND 4.9 and BIND 8 Releases.'}]},\n",
       "  'problemtype': {'problemtype_data': [{'description': [{'lang': 'en',\n",
       "       'value': 'NVD-CWE-Other'}]}]},\n",
       "  'references': {'reference_data': [{'name': '19980603-01-PX',\n",
       "     'refsource': 'SGI',\n",
       "     'tags': [],\n",
       "     'url': 'ftp://patches.sgi.com/support/free/security/advisories/19980603-01-PX'},\n",
       "    {'name': '00180',\n",
       "     'refsource': 'SUN',\n",
       "     'tags': [],\n",
       "     'url': 'http://sunsolve.sun.com/pub-cgi/retrieve.pl?doctype=coll&doc=secbull/180'},\n",
       "    {'name': '134',\n",
       "     'refsource': 'BID',\n",
       "     'tags': [],\n",
       "     'url': 'http://www.securityfocus.com/bid/134'},\n",
       "    {'name': 'HPSBUX9808-083',\n",
       "     'refsource': 'HP',\n",
       "     'tags': [],\n",
       "     'url': 'http://www1.itrc.hp.com/service/cki/docDisplay.do?docId=HPSBUX9808-083'}]}},\n",
       " 'impact': {'baseMetricV2': {'cvssV2': {'accessComplexity': 'LOW',\n",
       "    'accessVector': 'NETWORK',\n",
       "    'authentication': 'NONE',\n",
       "    'availabilityImpact': 'COMPLETE',\n",
       "    'baseScore': 10.0,\n",
       "    'confidentialityImpact': 'COMPLETE',\n",
       "    'integrityImpact': 'COMPLETE',\n",
       "    'vectorString': 'AV:N/AC:L/Au:N/C:C/I:C/A:C',\n",
       "    'version': '2.0'},\n",
       "   'exploitabilityScore': 10.0,\n",
       "   'impactScore': 10.0,\n",
       "   'obtainAllPrivilege': True,\n",
       "   'obtainOtherPrivilege': False,\n",
       "   'obtainUserPrivilege': False,\n",
       "   'severity': 'HIGH',\n",
       "   'userInteractionRequired': False}},\n",
       " 'lastModifiedDate': '2018-10-30T16:26Z',\n",
       " 'publishedDate': '1998-04-08T04:00Z'}"
      ]
     },
     "execution_count": 73,
     "metadata": {},
     "output_type": "execute_result"
    }
   ],
   "source": [
    "cve_items_by_type['o'][100]"
   ]
  },
  {
   "cell_type": "code",
   "execution_count": null,
   "metadata": {},
   "outputs": [],
   "source": []
  },
  {
   "cell_type": "code",
   "execution_count": null,
   "metadata": {},
   "outputs": [],
   "source": [
    "# Get description\n",
    "# Make URL"
   ]
  }
 ],
 "metadata": {
  "kernelspec": {
   "display_name": "Python 3",
   "language": "python",
   "name": "python3"
  },
  "language_info": {
   "codemirror_mode": {
    "name": "ipython",
    "version": 3
   },
   "file_extension": ".py",
   "mimetype": "text/x-python",
   "name": "python",
   "nbconvert_exporter": "python",
   "pygments_lexer": "ipython3",
   "version": "3.6.6"
  }
 },
 "nbformat": 4,
 "nbformat_minor": 2
}
