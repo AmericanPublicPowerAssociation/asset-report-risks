{
 "cells": [
  {
   "cell_type": "code",
   "execution_count": 2,
   "metadata": {},
   "outputs": [
    {
     "name": "stdout",
     "output_type": "stream",
     "text": [
      "/home/rhh/Experiments/nvd/nvdcve-1.0-2002.json\n",
      "/home/rhh/Experiments/nvd/nvdcve-1.0-2003.json\n",
      "/home/rhh/Experiments/nvd/nvdcve-1.0-2004.json\n",
      "/home/rhh/Experiments/nvd/nvdcve-1.0-2005.json\n",
      "/home/rhh/Experiments/nvd/nvdcve-1.0-2006.json\n",
      "/home/rhh/Experiments/nvd/nvdcve-1.0-2007.json\n",
      "/home/rhh/Experiments/nvd/nvdcve-1.0-2008.json\n",
      "/home/rhh/Experiments/nvd/nvdcve-1.0-2009.json\n",
      "/home/rhh/Experiments/nvd/nvdcve-1.0-2010.json\n",
      "/home/rhh/Experiments/nvd/nvdcve-1.0-2011.json\n",
      "/home/rhh/Experiments/nvd/nvdcve-1.0-2012.json\n",
      "/home/rhh/Experiments/nvd/nvdcve-1.0-2013.json\n",
      "/home/rhh/Experiments/nvd/nvdcve-1.0-2014.json\n",
      "/home/rhh/Experiments/nvd/nvdcve-1.0-2015.json\n",
      "/home/rhh/Experiments/nvd/nvdcve-1.0-2016.json\n",
      "/home/rhh/Experiments/nvd/nvdcve-1.0-2017.json\n",
      "/home/rhh/Experiments/nvd/nvdcve-1.0-2018.json\n",
      "/home/rhh/Experiments/nvd/nvdcve-1.0-2019.json\n"
     ]
    }
   ],
   "source": [
    "ls /home/rhh/Experiments/nvd/*.json"
   ]
  },
  {
   "cell_type": "code",
   "execution_count": 3,
   "metadata": {},
   "outputs": [],
   "source": [
    "source_path = '/home/rhh/Experiments/nvd/nvdcve-1.0-2017.json'"
   ]
  },
  {
   "cell_type": "code",
   "execution_count": 4,
   "metadata": {},
   "outputs": [],
   "source": [
    "import json\n",
    "d = json.load(open(source_path))"
   ]
  },
  {
   "cell_type": "code",
   "execution_count": 5,
   "metadata": {},
   "outputs": [
    {
     "data": {
      "text/plain": [
       "'CVE'"
      ]
     },
     "execution_count": 5,
     "metadata": {},
     "output_type": "execute_result"
    }
   ],
   "source": [
    "d['CVE_data_type']"
   ]
  },
  {
   "cell_type": "code",
   "execution_count": 6,
   "metadata": {},
   "outputs": [
    {
     "data": {
      "text/plain": [
       "'MITRE'"
      ]
     },
     "execution_count": 6,
     "metadata": {},
     "output_type": "execute_result"
    }
   ],
   "source": [
    "d['CVE_data_format']"
   ]
  },
  {
   "cell_type": "code",
   "execution_count": 7,
   "metadata": {},
   "outputs": [
    {
     "data": {
      "text/plain": [
       "'4.0'"
      ]
     },
     "execution_count": 7,
     "metadata": {},
     "output_type": "execute_result"
    }
   ],
   "source": [
    "d['CVE_data_version']"
   ]
  },
  {
   "cell_type": "code",
   "execution_count": 8,
   "metadata": {},
   "outputs": [
    {
     "data": {
      "text/plain": [
       "'15165'"
      ]
     },
     "execution_count": 8,
     "metadata": {},
     "output_type": "execute_result"
    }
   ],
   "source": [
    "d['CVE_data_numberOfCVEs']"
   ]
  },
  {
   "cell_type": "code",
   "execution_count": 9,
   "metadata": {},
   "outputs": [
    {
     "data": {
      "text/plain": [
       "'2019-03-14T07:16Z'"
      ]
     },
     "execution_count": 9,
     "metadata": {},
     "output_type": "execute_result"
    }
   ],
   "source": [
    "d['CVE_data_timestamp']"
   ]
  },
  {
   "cell_type": "code",
   "execution_count": 10,
   "metadata": {},
   "outputs": [],
   "source": [
    "from pprint import pprint"
   ]
  },
  {
   "cell_type": "code",
   "execution_count": 11,
   "metadata": {},
   "outputs": [],
   "source": [
    "xs = []\n",
    "for x in d['CVE_Items']:\n",
    "    try:\n",
    "        vendor_name = x['cve']['affects']['vendor']['vendor_data'][0]['vendor_name']\n",
    "    except IndexError:\n",
    "        continue\n",
    "    if vendor_name == 'selinc':\n",
    "        # pprint(x)\n",
    "        xs.append(x)"
   ]
  },
  {
   "cell_type": "code",
   "execution_count": 12,
   "metadata": {},
   "outputs": [
    {
     "data": {
      "text/plain": [
       "1"
      ]
     },
     "execution_count": 12,
     "metadata": {},
     "output_type": "execute_result"
    }
   ],
   "source": [
    "len(xs)"
   ]
  },
  {
   "cell_type": "code",
   "execution_count": 13,
   "metadata": {},
   "outputs": [],
   "source": [
    "x = xs[0]"
   ]
  },
  {
   "cell_type": "code",
   "execution_count": 14,
   "metadata": {},
   "outputs": [
    {
     "data": {
      "text/plain": [
       "dict_keys(['cve', 'configurations', 'impact', 'publishedDate', 'lastModifiedDate'])"
      ]
     },
     "execution_count": 14,
     "metadata": {},
     "output_type": "execute_result"
    }
   ],
   "source": [
    "x.keys()"
   ]
  },
  {
   "cell_type": "code",
   "execution_count": 15,
   "metadata": {},
   "outputs": [
    {
     "data": {
      "text/plain": [
       "'2017-08-24T16:48Z'"
      ]
     },
     "execution_count": 15,
     "metadata": {},
     "output_type": "execute_result"
    }
   ],
   "source": [
    "x['lastModifiedDate']"
   ]
  },
  {
   "cell_type": "code",
   "execution_count": 16,
   "metadata": {},
   "outputs": [
    {
     "data": {
      "text/plain": [
       "'2017-08-07T08:29Z'"
      ]
     },
     "execution_count": 16,
     "metadata": {},
     "output_type": "execute_result"
    }
   ],
   "source": [
    "x['publishedDate']"
   ]
  },
  {
   "cell_type": "code",
   "execution_count": 17,
   "metadata": {},
   "outputs": [
    {
     "data": {
      "text/plain": [
       "{'baseMetricV2': {'cvssV2': {'accessComplexity': 'LOW',\n",
       "   'accessVector': 'NETWORK',\n",
       "   'authentication': 'NONE',\n",
       "   'availabilityImpact': 'PARTIAL',\n",
       "   'baseScore': 7.5,\n",
       "   'confidentialityImpact': 'PARTIAL',\n",
       "   'integrityImpact': 'PARTIAL',\n",
       "   'vectorString': 'AV:N/AC:L/Au:N/C:P/I:P/A:P',\n",
       "   'version': '2.0'},\n",
       "  'exploitabilityScore': 10.0,\n",
       "  'impactScore': 6.4,\n",
       "  'obtainAllPrivilege': False,\n",
       "  'obtainOtherPrivilege': False,\n",
       "  'obtainUserPrivilege': False,\n",
       "  'severity': 'HIGH',\n",
       "  'userInteractionRequired': False},\n",
       " 'baseMetricV3': {'cvssV3': {'attackComplexity': 'LOW',\n",
       "   'attackVector': 'NETWORK',\n",
       "   'availabilityImpact': 'HIGH',\n",
       "   'baseScore': 10.0,\n",
       "   'baseSeverity': 'CRITICAL',\n",
       "   'confidentialityImpact': 'HIGH',\n",
       "   'integrityImpact': 'HIGH',\n",
       "   'privilegesRequired': 'NONE',\n",
       "   'scope': 'CHANGED',\n",
       "   'userInteraction': 'NONE',\n",
       "   'vectorString': 'CVSS:3.0/AV:N/AC:L/PR:N/UI:N/S:C/C:H/I:H/A:H',\n",
       "   'version': '3.0'},\n",
       "  'exploitabilityScore': 3.9,\n",
       "  'impactScore': 6.0}}"
      ]
     },
     "execution_count": 17,
     "metadata": {},
     "output_type": "execute_result"
    }
   ],
   "source": [
    "x['impact']"
   ]
  },
  {
   "cell_type": "code",
   "execution_count": 18,
   "metadata": {},
   "outputs": [
    {
     "data": {
      "text/plain": [
       "dict_keys(['cvssV3', 'exploitabilityScore', 'impactScore'])"
      ]
     },
     "execution_count": 18,
     "metadata": {},
     "output_type": "execute_result"
    }
   ],
   "source": [
    "x['impact']['baseMetricV3'].keys()"
   ]
  },
  {
   "cell_type": "code",
   "execution_count": 19,
   "metadata": {},
   "outputs": [
    {
     "data": {
      "text/plain": [
       "{'cvssV3': {'attackComplexity': 'LOW',\n",
       "  'attackVector': 'NETWORK',\n",
       "  'availabilityImpact': 'HIGH',\n",
       "  'baseScore': 10.0,\n",
       "  'baseSeverity': 'CRITICAL',\n",
       "  'confidentialityImpact': 'HIGH',\n",
       "  'integrityImpact': 'HIGH',\n",
       "  'privilegesRequired': 'NONE',\n",
       "  'scope': 'CHANGED',\n",
       "  'userInteraction': 'NONE',\n",
       "  'vectorString': 'CVSS:3.0/AV:N/AC:L/PR:N/UI:N/S:C/C:H/I:H/A:H',\n",
       "  'version': '3.0'},\n",
       " 'exploitabilityScore': 3.9,\n",
       " 'impactScore': 6.0}"
      ]
     },
     "execution_count": 19,
     "metadata": {},
     "output_type": "execute_result"
    }
   ],
   "source": [
    "x['impact']['baseMetricV3']"
   ]
  },
  {
   "cell_type": "code",
   "execution_count": 20,
   "metadata": {},
   "outputs": [
    {
     "data": {
      "text/plain": [
       "10.0"
      ]
     },
     "execution_count": 20,
     "metadata": {},
     "output_type": "execute_result"
    }
   ],
   "source": [
    "x['impact']['baseMetricV3']['cvssV3']['baseScore']"
   ]
  },
  {
   "cell_type": "code",
   "execution_count": 21,
   "metadata": {},
   "outputs": [
    {
     "data": {
      "text/plain": [
       "{'CVE_data_version': '4.0',\n",
       " 'nodes': [{'children': [{'cpe_match': [{'cpe23Uri': 'cpe:2.3:o:selinc:sel-3620_firmware:r202:*:*:*:*:*:*:*',\n",
       "       'vulnerable': True},\n",
       "      {'cpe23Uri': 'cpe:2.3:o:selinc:sel-3620_firmware:r203:*:*:*:*:*:*:*',\n",
       "       'vulnerable': True},\n",
       "      {'cpe23Uri': 'cpe:2.3:o:selinc:sel-3620_firmware:r203-v:*:*:*:*:*:*:*',\n",
       "       'vulnerable': True},\n",
       "      {'cpe23Uri': 'cpe:2.3:o:selinc:sel-3620_firmware:r203-v1:*:*:*:*:*:*:*',\n",
       "       'vulnerable': True},\n",
       "      {'cpe23Uri': 'cpe:2.3:o:selinc:sel-3620_firmware:r204:*:*:*:*:*:*:*',\n",
       "       'vulnerable': True},\n",
       "      {'cpe23Uri': 'cpe:2.3:o:selinc:sel-3620_firmware:r204-v1:*:*:*:*:*:*:*',\n",
       "       'vulnerable': True}],\n",
       "     'operator': 'OR'},\n",
       "    {'cpe_match': [{'cpe23Uri': 'cpe:2.3:h:selinc:sel-3620:-:*:*:*:*:*:*:*',\n",
       "       'vulnerable': False}],\n",
       "     'operator': 'OR'}],\n",
       "   'operator': 'AND'},\n",
       "  {'children': [{'cpe_match': [{'cpe23Uri': 'cpe:2.3:o:selinc:sel-3622_firmware:r202:*:*:*:*:*:*:*',\n",
       "       'vulnerable': True},\n",
       "      {'cpe23Uri': 'cpe:2.3:o:selinc:sel-3622_firmware:r203:*:*:*:*:*:*:*',\n",
       "       'vulnerable': True},\n",
       "      {'cpe23Uri': 'cpe:2.3:o:selinc:sel-3622_firmware:r203-v:*:*:*:*:*:*:*',\n",
       "       'vulnerable': True},\n",
       "      {'cpe23Uri': 'cpe:2.3:o:selinc:sel-3622_firmware:r203-v1:*:*:*:*:*:*:*',\n",
       "       'vulnerable': True},\n",
       "      {'cpe23Uri': 'cpe:2.3:o:selinc:sel-3622_firmware:r204:*:*:*:*:*:*:*',\n",
       "       'vulnerable': True},\n",
       "      {'cpe23Uri': 'cpe:2.3:o:selinc:sel-3622_firmware:r204-v1:*:*:*:*:*:*:*',\n",
       "       'vulnerable': True}],\n",
       "     'operator': 'OR'},\n",
       "    {'cpe_match': [{'cpe23Uri': 'cpe:2.3:h:selinc:sel-3622:-:*:*:*:*:*:*:*',\n",
       "       'vulnerable': False}],\n",
       "     'operator': 'OR'}],\n",
       "   'operator': 'AND'}]}"
      ]
     },
     "execution_count": 21,
     "metadata": {},
     "output_type": "execute_result"
    }
   ],
   "source": [
    "x['configurations']"
   ]
  },
  {
   "cell_type": "code",
   "execution_count": 22,
   "metadata": {},
   "outputs": [
    {
     "data": {
      "text/plain": [
       "{'CVE_data_meta': {'ASSIGNER': 'cve@mitre.org', 'ID': 'CVE-2017-7928'},\n",
       " 'affects': {'vendor': {'vendor_data': [{'product': {'product_data': [{'product_name': 'sel-3620_firmware',\n",
       "        'version': {'version_data': [{'version_affected': '=',\n",
       "           'version_value': 'r202'},\n",
       "          {'version_affected': '=', 'version_value': 'r203'},\n",
       "          {'version_affected': '=', 'version_value': 'r203-v'},\n",
       "          {'version_affected': '=', 'version_value': 'r203-v1'},\n",
       "          {'version_affected': '=', 'version_value': 'r204'},\n",
       "          {'version_affected': '=', 'version_value': 'r204-v1'}]}},\n",
       "       {'product_name': 'sel-3622_firmware',\n",
       "        'version': {'version_data': [{'version_affected': '=',\n",
       "           'version_value': 'r202'},\n",
       "          {'version_affected': '=', 'version_value': 'r203'},\n",
       "          {'version_affected': '=', 'version_value': 'r203-v'},\n",
       "          {'version_affected': '=', 'version_value': 'r203-v1'},\n",
       "          {'version_affected': '=', 'version_value': 'r204'},\n",
       "          {'version_affected': '=', 'version_value': 'r204-v1'}]}}]},\n",
       "     'vendor_name': 'selinc'}]}},\n",
       " 'data_format': 'MITRE',\n",
       " 'data_type': 'CVE',\n",
       " 'data_version': '4.0',\n",
       " 'description': {'description_data': [{'lang': 'en',\n",
       "    'value': 'An Improper Access Control issue was discovered in Schweitzer Engineering Laboratories (SEL) SEL-3620 and SEL-3622 Security Gateway Versions R202 and, R203, R203-V1, R203-V2 and, R204, R204-V1. The device does not properly enforce access control while configured for NAT port forwarding, which may allow for unauthorized communications to downstream devices.'}]},\n",
       " 'problemtype': {'problemtype_data': [{'description': [{'lang': 'en',\n",
       "      'value': 'CWE-264'}]}]},\n",
       " 'references': {'reference_data': [{'name': '99536',\n",
       "    'refsource': 'BID',\n",
       "    'tags': ['Third Party Advisory', 'VDB Entry'],\n",
       "    'url': 'http://www.securityfocus.com/bid/99536'},\n",
       "   {'name': 'https://ics-cert.us-cert.gov/advisories/ICSA-17-192-06',\n",
       "    'refsource': 'MISC',\n",
       "    'tags': ['Mitigation', 'Third Party Advisory', 'US Government Resource'],\n",
       "    'url': 'https://ics-cert.us-cert.gov/advisories/ICSA-17-192-06'}]}}"
      ]
     },
     "execution_count": 22,
     "metadata": {},
     "output_type": "execute_result"
    }
   ],
   "source": [
    "x['cve']"
   ]
  },
  {
   "cell_type": "markdown",
   "metadata": {},
   "source": [
    "# Check Different Values for Versions Affected"
   ]
  },
  {
   "cell_type": "code",
   "execution_count": 23,
   "metadata": {},
   "outputs": [
    {
     "data": {
      "text/plain": [
       "'selinc'"
      ]
     },
     "execution_count": 23,
     "metadata": {},
     "output_type": "execute_result"
    }
   ],
   "source": [
    "x['cve']['affects']['vendor']['vendor_data'][0]['vendor_name']"
   ]
  },
  {
   "cell_type": "code",
   "execution_count": 24,
   "metadata": {},
   "outputs": [
    {
     "data": {
      "text/plain": [
       "{'product_name': 'sel-3620_firmware',\n",
       " 'version': {'version_data': [{'version_affected': '=',\n",
       "    'version_value': 'r202'},\n",
       "   {'version_affected': '=', 'version_value': 'r203'},\n",
       "   {'version_affected': '=', 'version_value': 'r203-v'},\n",
       "   {'version_affected': '=', 'version_value': 'r203-v1'},\n",
       "   {'version_affected': '=', 'version_value': 'r204'},\n",
       "   {'version_affected': '=', 'version_value': 'r204-v1'}]}}"
      ]
     },
     "execution_count": 24,
     "metadata": {},
     "output_type": "execute_result"
    }
   ],
   "source": [
    "x['cve']['affects']['vendor']['vendor_data'][0]['product']['product_data'][0]"
   ]
  },
  {
   "cell_type": "code",
   "execution_count": 25,
   "metadata": {},
   "outputs": [
    {
     "data": {
      "text/plain": [
       "'sel-3620_firmware'"
      ]
     },
     "execution_count": 25,
     "metadata": {},
     "output_type": "execute_result"
    }
   ],
   "source": [
    "x['cve']['affects']['vendor']['vendor_data'][0]['product']['product_data'][0]['product_name']"
   ]
  },
  {
   "cell_type": "code",
   "execution_count": 26,
   "metadata": {},
   "outputs": [
    {
     "data": {
      "text/plain": [
       "{'version_data': [{'version_affected': '=', 'version_value': 'r202'},\n",
       "  {'version_affected': '=', 'version_value': 'r203'},\n",
       "  {'version_affected': '=', 'version_value': 'r203-v'},\n",
       "  {'version_affected': '=', 'version_value': 'r203-v1'},\n",
       "  {'version_affected': '=', 'version_value': 'r204'},\n",
       "  {'version_affected': '=', 'version_value': 'r204-v1'}]}"
      ]
     },
     "execution_count": 26,
     "metadata": {},
     "output_type": "execute_result"
    }
   ],
   "source": [
    "x['cve']['affects']['vendor']['vendor_data'][0]['product']['product_data'][0]['version']"
   ]
  },
  {
   "cell_type": "code",
   "execution_count": 27,
   "metadata": {},
   "outputs": [
    {
     "data": {
      "text/plain": [
       "{'version_affected': '=', 'version_value': 'r202'}"
      ]
     },
     "execution_count": 27,
     "metadata": {},
     "output_type": "execute_result"
    }
   ],
   "source": [
    "x['cve']['affects']['vendor']['vendor_data'][0]['product']['product_data'][0]['version']['version_data'][0]"
   ]
  },
  {
   "cell_type": "code",
   "execution_count": 28,
   "metadata": {},
   "outputs": [
    {
     "data": {
      "text/plain": [
       "'='"
      ]
     },
     "execution_count": 28,
     "metadata": {},
     "output_type": "execute_result"
    }
   ],
   "source": [
    "x['cve']['affects']['vendor']['vendor_data'][0]['product']['product_data'][0]['version']['version_data'][0]['version_affected']"
   ]
  },
  {
   "cell_type": "code",
   "execution_count": 29,
   "metadata": {},
   "outputs": [
    {
     "data": {
      "text/plain": [
       "{'product_name': 'sel-3622_firmware',\n",
       " 'version': {'version_data': [{'version_affected': '=',\n",
       "    'version_value': 'r202'},\n",
       "   {'version_affected': '=', 'version_value': 'r203'},\n",
       "   {'version_affected': '=', 'version_value': 'r203-v'},\n",
       "   {'version_affected': '=', 'version_value': 'r203-v1'},\n",
       "   {'version_affected': '=', 'version_value': 'r204'},\n",
       "   {'version_affected': '=', 'version_value': 'r204-v1'}]}}"
      ]
     },
     "execution_count": 29,
     "metadata": {},
     "output_type": "execute_result"
    }
   ],
   "source": [
    "x['cve']['affects']['vendor']['vendor_data'][0]['product']['product_data'][1]"
   ]
  },
  {
   "cell_type": "code",
   "execution_count": 30,
   "metadata": {},
   "outputs": [],
   "source": [
    "values = set()"
   ]
  },
  {
   "cell_type": "code",
   "execution_count": 31,
   "metadata": {},
   "outputs": [],
   "source": [
    "xs = d['CVE_Items']"
   ]
  },
  {
   "cell_type": "code",
   "execution_count": 32,
   "metadata": {},
   "outputs": [
    {
     "data": {
      "text/plain": [
       "'/home/rhh/Experiments/nvd'"
      ]
     },
     "execution_count": 32,
     "metadata": {},
     "output_type": "execute_result"
    }
   ],
   "source": [
    "from os.path import expanduser, join\n",
    "folder = expanduser('~/Experiments/nvd')\n",
    "folder"
   ]
  },
  {
   "cell_type": "code",
   "execution_count": 33,
   "metadata": {},
   "outputs": [],
   "source": [
    "from glob import glob"
   ]
  },
  {
   "cell_type": "code",
   "execution_count": 34,
   "metadata": {},
   "outputs": [
    {
     "name": "stdout",
     "output_type": "stream",
     "text": [
      "/home/rhh/Experiments/nvd/nvdcve-1.0-2002.json\n",
      "/home/rhh/Experiments/nvd/nvdcve-1.0-2003.json\n",
      "/home/rhh/Experiments/nvd/nvdcve-1.0-2004.json\n",
      "/home/rhh/Experiments/nvd/nvdcve-1.0-2005.json\n",
      "/home/rhh/Experiments/nvd/nvdcve-1.0-2006.json\n",
      "/home/rhh/Experiments/nvd/nvdcve-1.0-2007.json\n",
      "/home/rhh/Experiments/nvd/nvdcve-1.0-2008.json\n",
      "/home/rhh/Experiments/nvd/nvdcve-1.0-2009.json\n",
      "/home/rhh/Experiments/nvd/nvdcve-1.0-2010.json\n",
      "/home/rhh/Experiments/nvd/nvdcve-1.0-2011.json\n",
      "/home/rhh/Experiments/nvd/nvdcve-1.0-2012.json\n",
      "/home/rhh/Experiments/nvd/nvdcve-1.0-2013.json\n",
      "/home/rhh/Experiments/nvd/nvdcve-1.0-2014.json\n",
      "/home/rhh/Experiments/nvd/nvdcve-1.0-2015.json\n",
      "/home/rhh/Experiments/nvd/nvdcve-1.0-2016.json\n",
      "/home/rhh/Experiments/nvd/nvdcve-1.0-2017.json\n",
      "/home/rhh/Experiments/nvd/nvdcve-1.0-2018.json\n",
      "/home/rhh/Experiments/nvd/nvdcve-1.0-2019.json\n"
     ]
    }
   ],
   "source": [
    "for path in sorted(glob(join(folder, '*.json'))):\n",
    "    print(path)"
   ]
  },
  {
   "cell_type": "code",
   "execution_count": 35,
   "metadata": {},
   "outputs": [],
   "source": [
    "for x in xs:\n",
    "    for vendor_data in x['cve']['affects']['vendor']['vendor_data']:\n",
    "        for product_data in vendor_data['product']['product_data']:\n",
    "            for version_data in product_data['version']['version_data']:\n",
    "                values.add(version_data['version_affected'])"
   ]
  },
  {
   "cell_type": "code",
   "execution_count": 36,
   "metadata": {},
   "outputs": [
    {
     "data": {
      "text/plain": [
       "{'<=', '='}"
      ]
     },
     "execution_count": 36,
     "metadata": {},
     "output_type": "execute_result"
    }
   ],
   "source": [
    "values"
   ]
  },
  {
   "cell_type": "code",
   "execution_count": 37,
   "metadata": {},
   "outputs": [],
   "source": [
    "for path in sorted(glob(join(folder, '*.json'))):\n",
    "    d = json.load(open(path))\n",
    "    for cve_item in d['CVE_Items']:\n",
    "        for vendor_data in cve_item['cve']['affects']['vendor']['vendor_data']:\n",
    "            for product_data in vendor_data['product']['product_data']:\n",
    "                for version_data in product_data['version']['version_data']:\n",
    "                    values.add(version_data['version_affected'])"
   ]
  },
  {
   "cell_type": "code",
   "execution_count": 38,
   "metadata": {},
   "outputs": [
    {
     "data": {
      "text/plain": [
       "{'<=', '='}"
      ]
     },
     "execution_count": 38,
     "metadata": {},
     "output_type": "execute_result"
    }
   ],
   "source": [
    "values"
   ]
  },
  {
   "cell_type": "markdown",
   "metadata": {},
   "source": [
    "# Examine Values"
   ]
  },
  {
   "cell_type": "code",
   "execution_count": 39,
   "metadata": {},
   "outputs": [],
   "source": [
    "ds = []\n",
    "for path in sorted(glob(join(folder, '*.json'))):\n",
    "    d = json.load(open(path))\n",
    "    ds.append(d)"
   ]
  },
  {
   "cell_type": "code",
   "execution_count": 40,
   "metadata": {},
   "outputs": [
    {
     "data": {
      "text/plain": [
       "['CVE-1999-0001', 'CVE-1999-0002', 'CVE-1999-0003']"
      ]
     },
     "execution_count": 40,
     "metadata": {},
     "output_type": "execute_result"
    }
   ],
   "source": [
    "ids = []\n",
    "for d in ds:\n",
    "    for cve_item in d['CVE_Items']:\n",
    "        id = cve_item['cve']['CVE_data_meta']['ID']\n",
    "        ids.append(id)\n",
    "ids[:3]"
   ]
  },
  {
   "cell_type": "code",
   "execution_count": 41,
   "metadata": {},
   "outputs": [
    {
     "data": {
      "text/plain": [
       "['pdftohtml', 'ross_johnson', 'gsi']"
      ]
     },
     "execution_count": 41,
     "metadata": {},
     "output_type": "execute_result"
    }
   ],
   "source": [
    "vendor_names = set()\n",
    "for d in ds:\n",
    "    for cve_item in d['CVE_Items']:\n",
    "        for vendor_data in cve_item['cve']['affects']['vendor']['vendor_data']:\n",
    "            vendor_name = vendor_data['vendor_name']\n",
    "            vendor_names.add(vendor_name)\n",
    "vendor_names = list(vendor_names)\n",
    "vendor_names[:3]"
   ]
  },
  {
   "cell_type": "code",
   "execution_count": 42,
   "metadata": {},
   "outputs": [
    {
     "data": {
      "text/plain": [
       "['zziplib', 'zziplib_project', 'zzzcms']"
      ]
     },
     "execution_count": 42,
     "metadata": {},
     "output_type": "execute_result"
    }
   ],
   "source": [
    "sorted(vendor_names)[-3:]"
   ]
  },
  {
   "cell_type": "code",
   "execution_count": 43,
   "metadata": {},
   "outputs": [
    {
     "data": {
      "text/plain": [
       "['pdftohtml', 'com_album', 'gsi']"
      ]
     },
     "execution_count": 43,
     "metadata": {},
     "output_type": "execute_result"
    }
   ],
   "source": [
    "product_names = set()\n",
    "for d in ds:\n",
    "    for cve_item in d['CVE_Items']:\n",
    "        for vendor_data in cve_item['cve']['affects']['vendor']['vendor_data']:\n",
    "            for product_data in vendor_data['product']['product_data']:\n",
    "                product_name = product_data['product_name']\n",
    "                product_names.add(product_name)\n",
    "product_names = list(product_names)\n",
    "product_names[:3]"
   ]
  },
  {
   "cell_type": "code",
   "execution_count": 44,
   "metadata": {},
   "outputs": [
    {
     "data": {
      "text/plain": [
       "['2.21b01', '53.236.1', '6.7.5-8']"
      ]
     },
     "execution_count": 44,
     "metadata": {},
     "output_type": "execute_result"
    }
   ],
   "source": [
    "special_version_values = set()\n",
    "for d in ds:\n",
    "    for cve_item in d['CVE_Items']:\n",
    "        for vendor_data in cve_item['cve']['affects']['vendor']['vendor_data']:\n",
    "            for product_data in vendor_data['product']['product_data']:\n",
    "                for version_data in product_data['version']['version_data']:\n",
    "                    version_affected = version_data['version_affected']\n",
    "                    if version_affected == '=':\n",
    "                        continue\n",
    "                    version_value = version_data['version_value']\n",
    "                    special_version_values.add(version_value)\n",
    "special_version_values = list(special_version_values)\n",
    "special_version_values[:3]"
   ]
  },
  {
   "cell_type": "code",
   "execution_count": 45,
   "metadata": {},
   "outputs": [
    {
     "data": {
      "text/plain": [
       "8629"
      ]
     },
     "execution_count": 45,
     "metadata": {},
     "output_type": "execute_result"
    }
   ],
   "source": [
    "len(special_version_values)"
   ]
  },
  {
   "cell_type": "code",
   "execution_count": 46,
   "metadata": {},
   "outputs": [
    {
     "data": {
      "text/plain": [
       "['-',\n",
       " '.005',\n",
       " '.47',\n",
       " '.48.9',\n",
       " '.51',\n",
       " '0',\n",
       " '0+bzr726',\n",
       " '0..0.0.20150609',\n",
       " '0.0.0.20150918',\n",
       " '0.0.1',\n",
       " '0.0.1-1',\n",
       " '0.0.1-2',\n",
       " '0.0.10',\n",
       " '0.0.102',\n",
       " '0.0.11',\n",
       " '0.0.12',\n",
       " '0.0.13',\n",
       " '0.0.17',\n",
       " '0.0.18',\n",
       " '0.0.1_alpha']"
      ]
     },
     "execution_count": 46,
     "metadata": {},
     "output_type": "execute_result"
    }
   ],
   "source": [
    "sorted(special_version_values)[:20]"
   ]
  },
  {
   "cell_type": "code",
   "execution_count": 47,
   "metadata": {},
   "outputs": [
    {
     "data": {
      "text/plain": [
       "['x4.2.1',\n",
       " 'x4.3.0',\n",
       " 'x5',\n",
       " 'x5.0.0',\n",
       " 'x6.1',\n",
       " 'x7.0',\n",
       " 'x7.2.2',\n",
       " 'x7.2.3',\n",
       " 'x8.1',\n",
       " 'x8.1.1',\n",
       " 'x8.2.1',\n",
       " 'x9.03.24.00.07l',\n",
       " 'xc2.4',\n",
       " 'xc3',\n",
       " 'xe5',\n",
       " 'xp_server_service_pack_1',\n",
       " 'yk.02.048',\n",
       " 'yk.021.057',\n",
       " 'yk.021.062',\n",
       " 'zte.bhs.zxhnh108nr1a.h_pe']"
      ]
     },
     "execution_count": 47,
     "metadata": {},
     "output_type": "execute_result"
    }
   ],
   "source": [
    "sorted(special_version_values)[-20:]"
   ]
  },
  {
   "cell_type": "code",
   "execution_count": 48,
   "metadata": {},
   "outputs": [],
   "source": [
    "from packaging.version import parse as parse_version\n",
    "for version_value in special_version_values:\n",
    "    z = parse_version(version_value)"
   ]
  },
  {
   "cell_type": "code",
   "execution_count": null,
   "metadata": {},
   "outputs": [],
   "source": []
  },
  {
   "cell_type": "code",
   "execution_count": 49,
   "metadata": {},
   "outputs": [
    {
     "data": {
      "text/plain": [
       "<LegacyVersion('-')>"
      ]
     },
     "execution_count": 49,
     "metadata": {},
     "output_type": "execute_result"
    }
   ],
   "source": [
    "parse_version(sorted(special_version_values)[0])"
   ]
  },
  {
   "cell_type": "code",
   "execution_count": 50,
   "metadata": {},
   "outputs": [
    {
     "data": {
      "text/plain": [
       "True"
      ]
     },
     "execution_count": 50,
     "metadata": {},
     "output_type": "execute_result"
    }
   ],
   "source": [
    "parse_version('1.0') > parse_version('0.5')"
   ]
  },
  {
   "cell_type": "code",
   "execution_count": 51,
   "metadata": {},
   "outputs": [
    {
     "data": {
      "text/plain": [
       "False"
      ]
     },
     "execution_count": 51,
     "metadata": {},
     "output_type": "execute_result"
    }
   ],
   "source": [
    "parse_version('1.0') < parse_version('0.5')"
   ]
  },
  {
   "cell_type": "code",
   "execution_count": null,
   "metadata": {},
   "outputs": [],
   "source": []
  },
  {
   "cell_type": "code",
   "execution_count": 52,
   "metadata": {},
   "outputs": [
    {
     "data": {
      "text/plain": [
       "['2.21b01', '53.236.1', '6.7.5-8']"
      ]
     },
     "execution_count": 52,
     "metadata": {},
     "output_type": "execute_result"
    }
   ],
   "source": [
    "# Get version affected\n",
    "special_version_values[:3]"
   ]
  },
  {
   "cell_type": "code",
   "execution_count": null,
   "metadata": {},
   "outputs": [],
   "source": []
  },
  {
   "cell_type": "code",
   "execution_count": 53,
   "metadata": {},
   "outputs": [
    {
     "data": {
      "text/plain": [
       "dict_keys(['CVE_data_version', 'nodes'])"
      ]
     },
     "execution_count": 53,
     "metadata": {},
     "output_type": "execute_result"
    }
   ],
   "source": [
    "x['configurations'].keys()"
   ]
  },
  {
   "cell_type": "code",
   "execution_count": 54,
   "metadata": {},
   "outputs": [
    {
     "ename": "IndexError",
     "evalue": "list index out of range",
     "output_type": "error",
     "traceback": [
      "\u001b[0;31m---------------------------------------------------------------------------\u001b[0m",
      "\u001b[0;31mIndexError\u001b[0m                                Traceback (most recent call last)",
      "\u001b[0;32m<ipython-input-54-e7cd35556c04>\u001b[0m in \u001b[0;36m<module>\u001b[0;34m()\u001b[0m\n\u001b[0;32m----> 1\u001b[0;31m \u001b[0mx\u001b[0m\u001b[0;34m[\u001b[0m\u001b[0;34m'configurations'\u001b[0m\u001b[0;34m]\u001b[0m\u001b[0;34m[\u001b[0m\u001b[0;34m'nodes'\u001b[0m\u001b[0;34m]\u001b[0m\u001b[0;34m[\u001b[0m\u001b[0;36m1\u001b[0m\u001b[0;34m]\u001b[0m\u001b[0;34m[\u001b[0m\u001b[0;34m'children'\u001b[0m\u001b[0;34m]\u001b[0m\u001b[0;34m\u001b[0m\u001b[0m\n\u001b[0m",
      "\u001b[0;31mIndexError\u001b[0m: list index out of range"
     ]
    }
   ],
   "source": [
    "x['configurations']['nodes'][1]['children']"
   ]
  },
  {
   "cell_type": "code",
   "execution_count": null,
   "metadata": {},
   "outputs": [],
   "source": [
    "x['configurations']['nodes'][1]['children'][0]['cpe_match'][0]['cpe23Uri'].split(':')[2]"
   ]
  },
  {
   "cell_type": "code",
   "execution_count": null,
   "metadata": {},
   "outputs": [],
   "source": [
    "special_version_values = set()\n",
    "for d in ds:\n",
    "    for cve_item in d['CVE_Items']:\n",
    "        for vendor_data in cve_item['cve']['affects']['vendor']['vendor_data']:\n",
    "            for product_data in vendor_data['product']['product_data']:\n",
    "                for version_data in product_data['version']['version_data']:\n",
    "                    version_affected = version_data['version_affected']\n",
    "                    if version_affected == '=':\n",
    "                        continue\n",
    "                    raise"
   ]
  },
  {
   "cell_type": "code",
   "execution_count": null,
   "metadata": {},
   "outputs": [],
   "source": [
    "version_data"
   ]
  },
  {
   "cell_type": "code",
   "execution_count": null,
   "metadata": {},
   "outputs": [],
   "source": [
    "cve_item"
   ]
  },
  {
   "cell_type": "code",
   "execution_count": null,
   "metadata": {},
   "outputs": [],
   "source": [
    "# Sort by type of asset"
   ]
  },
  {
   "cell_type": "code",
   "execution_count": null,
   "metadata": {},
   "outputs": [],
   "source": [
    "cpe_keys = set()\n",
    "cpe_types = set()\n",
    "for d in ds:\n",
    "    for cve_item in d['CVE_Items']:\n",
    "        for configuration_node in cve_item['configurations']['nodes']:\n",
    "            try:\n",
    "                children = configuration_node['children']\n",
    "            except KeyError:\n",
    "                children = [configuration_node]\n",
    "            for child in children:\n",
    "                for cpe_match in child['cpe_match']:\n",
    "                    cpe_keys.update(cpe_match.keys())"
   ]
  },
  {
   "cell_type": "code",
   "execution_count": null,
   "metadata": {},
   "outputs": [],
   "source": [
    "children\n"
   ]
  },
  {
   "cell_type": "code",
   "execution_count": null,
   "metadata": {},
   "outputs": [],
   "source": [
    "x['configurations']['nodes'][1]['children'][0]['cpe_match'][0]['cpe23Uri'].split(':')[2]"
   ]
  },
  {
   "cell_type": "code",
   "execution_count": null,
   "metadata": {},
   "outputs": [],
   "source": [
    "# Get description\n",
    "# Make URL"
   ]
  }
 ],
 "metadata": {
  "kernelspec": {
   "display_name": "Python 3",
   "language": "python",
   "name": "python3"
  },
  "language_info": {
   "codemirror_mode": {
    "name": "ipython",
    "version": 3
   },
   "file_extension": ".py",
   "mimetype": "text/x-python",
   "name": "python",
   "nbconvert_exporter": "python",
   "pygments_lexer": "ipython3",
   "version": "3.6.6"
  }
 },
 "nbformat": 4,
 "nbformat_minor": 2
}
