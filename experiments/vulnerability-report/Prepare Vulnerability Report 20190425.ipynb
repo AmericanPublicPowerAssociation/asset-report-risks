{
 "cells": [
  {
   "cell_type": "code",
   "execution_count": 21,
   "metadata": {},
   "outputs": [],
   "source": [
    "from packaging.version import parse as parse_version\n",
    "\n",
    "product_version_pack = '1.0', '1.5', '2.5', '3.0'\n",
    "product_version = '4'"
   ]
  },
  {
   "cell_type": "code",
   "execution_count": 22,
   "metadata": {},
   "outputs": [],
   "source": [
    "# version_a_excluding\n",
    "# version_a_including\n",
    "# version_b_including\n",
    "# version_b_excluding"
   ]
  },
  {
   "cell_type": "code",
   "execution_count": 23,
   "metadata": {},
   "outputs": [],
   "source": [
    "# a_included, a_excluded, b_excluded, b_included"
   ]
  },
  {
   "cell_type": "code",
   "execution_count": 24,
   "metadata": {},
   "outputs": [],
   "source": [
    "# gt_version\n",
    "# ge_version\n",
    "# le_version\n",
    "# lt_version"
   ]
  },
  {
   "cell_type": "code",
   "execution_count": 30,
   "metadata": {},
   "outputs": [],
   "source": [
    "[\n",
    "    greater_than_version,\n",
    "    greater_than_or_equal_to_version,\n",
    "    less_than_or_equal_to_version,\n",
    "    less_than_version,\n",
    "] = [\n",
    "    parse_version(_) for _ in product_version_pack\n",
    "]"
   ]
  },
  {
   "cell_type": "code",
   "execution_count": 31,
   "metadata": {},
   "outputs": [],
   "source": [
    "def is_vulnerable(product_version):\n",
    "    product_version = parse_version(product_version)    \n",
    "    if product_version <= greater_than_version:\n",
    "        return False\n",
    "    if product_version < greater_than_or_equal_to_version:\n",
    "        return False\n",
    "    if product_version > less_than_or_equal_to_version:\n",
    "        return False\n",
    "    if product_version >= less_than_version:\n",
    "        return False\n",
    "    return True"
   ]
  },
  {
   "cell_type": "code",
   "execution_count": 32,
   "metadata": {},
   "outputs": [
    {
     "data": {
      "text/plain": [
       "False"
      ]
     },
     "execution_count": 32,
     "metadata": {},
     "output_type": "execute_result"
    }
   ],
   "source": [
    "is_vulnerable(product_version)"
   ]
  },
  {
   "cell_type": "code",
   "execution_count": 34,
   "metadata": {},
   "outputs": [
    {
     "data": {
      "text/plain": [
       "True"
      ]
     },
     "execution_count": 34,
     "metadata": {},
     "output_type": "execute_result"
    }
   ],
   "source": [
    "is_vulnerable('1.7')"
   ]
  }
 ],
 "metadata": {
  "kernelspec": {
   "display_name": "Python 3",
   "language": "python",
   "name": "python3"
  },
  "language_info": {
   "codemirror_mode": {
    "name": "ipython",
    "version": 3
   },
   "file_extension": ".py",
   "mimetype": "text/x-python",
   "name": "python",
   "nbconvert_exporter": "python",
   "pygments_lexer": "ipython3",
   "version": "3.6.6"
  }
 },
 "nbformat": 4,
 "nbformat_minor": 2
}
